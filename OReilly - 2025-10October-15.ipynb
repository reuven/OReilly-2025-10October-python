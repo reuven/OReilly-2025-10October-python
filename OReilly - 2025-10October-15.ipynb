{
 "cells": [
  {
   "cell_type": "markdown",
   "metadata": {},
   "source": [
    "# Agenda\n",
    "\n",
    "1. Fundamentals and core concepts\n",
    "    - What is a programming language?\n",
    "    - Values and variables\n",
    "    - Assignment to variables\n",
    "    - Displaying things on the screen with `print`\n",
    "    - Getting input from the user with the `input` function\n",
    "    - Comparison operators\n",
    "    - Making decisions with `if`/`else`\n",
    "    - More complex decisions with `elif`, `and`, and `or`\n",
    "    - What are data structures?\n",
    "    - Numbers (`int` and `float`)\n",
    "    - Text in Python (`str`, or \"string\" type)\n",
    "    - "
   ]
  },
  {
   "cell_type": "code",
   "execution_count": null,
   "metadata": {},
   "outputs": [],
   "source": []
  }
 ],
 "metadata": {
  "kernelspec": {
   "display_name": "Python 3 (ipykernel)",
   "language": "python",
   "name": "python3"
  },
  "language_info": {
   "codemirror_mode": {
    "name": "ipython",
    "version": 3
   },
   "file_extension": ".py",
   "mimetype": "text/x-python",
   "name": "python",
   "nbconvert_exporter": "python",
   "pygments_lexer": "ipython3",
   "version": "3.14.0"
  }
 },
 "nbformat": 4,
 "nbformat_minor": 4
}
