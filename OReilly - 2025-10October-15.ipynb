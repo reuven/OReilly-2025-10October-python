{
 "cells": [
  {
   "cell_type": "markdown",
   "metadata": {},
   "source": [
    "# Agenda\n",
    "\n",
    "1. Fundamentals and core concepts\n",
    "    - What is a programming language?\n",
    "    - Values and variables\n",
    "    - Assignment to variables\n",
    "    - Displaying things on the screen with `print`\n",
    "    - Getting input from the user with the `input` function\n",
    "    - Comparison operators\n",
    "    - Making decisions with `if`/`else`\n",
    "    - More complex decisions with `elif`, `and`, and `or`\n",
    "    - What are data structures?\n",
    "    - Numbers (`int` and `float`)\n",
    "    - Text in Python (`str`, or \"string\" type)\n",
    "    - Methods -- what are they, and how can we use them?\n",
    "2. Loops, lists, and tuples\n",
    "    - How to iterate over a string with a `for` loop\n",
    "    - Indexes and controlling our loops\n",
    "    - `while` loops\n",
    "    - Lists: Another data structure (\"generic container\")\n",
    "    - Converting from strings to lists, and back\n",
    "    - Tuples: Another data structure (sorta kinda immutable lists)\n",
    "3. Dictionaries and files\n",
    "    - Dicts: Creating, retrieving, working with them, and how we can use them in different ways\n",
    "    - Files: Reading from text files in different ways, and writing to files\n",
    "4. Functions\n",
    "    - Defining functions\n",
    "    - Invoking functions\n",
    "    - Arguments and parameters, and how they are mapped to each other\n",
    "    - Return values from functions\n",
    "    - Local vs. global variables\n",
    "5. Modules and packages\n",
    "    - Using code that other people have written\n",
    "    - Writing code that others can use (in our own modules)\n",
    "    - Python standard library\n",
    "    - Installing modules from PyPI with `pip` and `uv`\n",
    "    - What's next?"
   ]
  },
  {
   "cell_type": "markdown",
   "metadata": {},
   "source": [
    "# What is a programming language? What is Python?\n",
    "\n",
    "When computers were first invented, each computer that was put together solved a differnet problem. That's a very expensive way to solve problems! Pretty quickly, people realized that it would be better to create a single, general-purpose computer that could solve many different problems. You could program that computer with 1s and 0s, what are known as \"binary numbers.\" Writing programs in this way is very difficult, and fixing/maintaining programs written in this way is even more difficult!\n",
    "\n",
    "Pretty quickly, people created \"programming languages.\" You write your instructions in your language, and those are translated into binary code that the computer can understand.\n",
    "\n",
    "- C -- is very similar to the binary code that the computer uses. The good news is that C code runs very quickly. The bad news is that writing and maintaining it is very difficult.\n",
    "- C++ -- C with extra \"object-oriented\" capabilities. It's far more complex than C!\n",
    "- "
   ]
  }
 ],
 "metadata": {
  "kernelspec": {
   "display_name": "Python 3 (ipykernel)",
   "language": "python",
   "name": "python3"
  },
  "language_info": {
   "codemirror_mode": {
    "name": "ipython",
    "version": 3
   },
   "file_extension": ".py",
   "mimetype": "text/x-python",
   "name": "python",
   "nbconvert_exporter": "python",
   "pygments_lexer": "ipython3",
   "version": "3.14.0"
  }
 },
 "nbformat": 4,
 "nbformat_minor": 4
}
