{
 "cells": [
  {
   "cell_type": "markdown",
   "metadata": {},
   "source": [
    "# Agenda\n",
    "\n",
    "1. Fundamentals and core concepts\n",
    "    - What is a programming language?\n",
    "    - Values and variables\n",
    "    - Assignment to variables\n",
    "    - Displaying things on the screen with `print`\n",
    "    - Getting input from the user with the `input` function\n",
    "    - Comparison operators\n",
    "    - Making decisions with `if`/`else`\n",
    "    - More complex decisions with `elif`, `and`, and `or`\n",
    "    - What are data structures?\n",
    "    - Numbers (`int` and `float`)\n",
    "    - Text in Python (`str`, or \"string\" type)\n",
    "    - Methods -- what are they, and how can we use them?\n",
    "2. Loops, lists, and tuples\n",
    "    - How to iterate over a string with a `for` loop\n",
    "    - Indexes and controlling our loops\n",
    "    - `while` loops\n",
    "    - Lists: Another data structure (\"generic container\")\n",
    "    - Converting from strings to lists, and back\n",
    "    - Tuples: Another data structure (sorta kinda immutable lists)\n",
    "3. Dictionaries and files\n",
    "    - Dicts: Creating, retrieving, working with them, and how we can use them in different ways\n",
    "    - Files: Reading from text files in different ways, and writing to files\n",
    "4. Functions\n",
    "    - Defining functions\n",
    "    - Invoking functions\n",
    "    - Arguments and parameters, and how they are mapped to each other\n",
    "    - Return values from functions\n",
    "    - Local vs. global variables\n",
    "5. Modules and packages\n",
    "    - Using code that other people have written\n",
    "    - Writing code that others can use (in our own modules)\n",
    "    - Python standard library\n",
    "    - Installing modules from PyPI with `pip` and `uv`\n",
    "    - What's next?"
   ]
  },
  {
   "cell_type": "markdown",
   "metadata": {},
   "source": [
    "# What is a programming language? What is Python?\n",
    "\n",
    "When computers were first invented, each computer that was put together solved a differnet problem. That's a very expensive way to solve problems! Pretty quickly, people realized that it would be better to create a single, general-purpose computer that could solve many different problems. You could program that computer with 1s and 0s, what are known as \"binary numbers.\" Writing programs in this way is very difficult, and fixing/maintaining programs written in this way is even more difficult!\n",
    "\n",
    "Pretty quickly, people created \"programming languages.\" You write your instructions in your language, and those are translated into binary code that the computer can understand.\n",
    "\n",
    "- C -- is very similar to the binary code that the computer uses. The good news is that C code runs very quickly. The bad news is that writing and maintaining it is very difficult.\n",
    "- C++ -- C with extra \"object-oriented\" capabilities. It's far more complex than C!\n",
    "- Java -- was designed to be a much easier-than-C++ sort of language, and it is! But it's still complex. It's higher level than C and C++, so it feels more like a human language. But it's still hard for many people to learn\n",
    "- Python -- was designed to be easy to write, read, and maintain. Those are more important values in the Python world than execution speed. Python is a perfect language for a world where computers are cheap, but people are expensive. It's intended to be friendly and useful. It is run by the community, not owned by any company.\n",
    "\n",
    "Python has been around for more than 30 years! It has now become popular because there are a lot of applications where it hits the sweet spot:\n",
    "\n",
    "- machine learning and AI\n",
    "- data analysis\n",
    "- devops\n",
    "- Web applications\n",
    "- API servers/clients\n",
    "- Education\n",
    "- Testing and automation\n",
    "\n",
    "Many people (especially programmers!) believe that because Python has simpler syntax than many other languages, and because it runs a bit more slowly, it isn't a serious language. This is *NOT TRUE*. Python is a very serious language, used in lots of places and applications. But it's a different kind of language than C, Java, etc.\n",
    "\n",
    "Low floors and high ceilings.\n",
    "\n",
    "BUT just because a language is relatively easy to learn and use doesn't mean that programming is easy!"
   ]
  },
  {
   "cell_type": "markdown",
   "metadata": {},
   "source": [
    "# Jupyter\n",
    "\n",
    "I'm typing into something known as \"Jupyter.\" Jupyter is a \"notebook,\" meaning that it's a particular style of editor for programs:\n",
    "\n",
    "- It works within your Web browser\n",
    "- It stores things on a regular basis automatically\n",
    "- It allows you to mix documentation (like I'm writing now) with code\n",
    "- Jupyter works with a variety of programming languages, even though I've only used it with Python\n",
    "\n",
    "When I'm typing into Jupyter, what happens depends on what mode I'm in :\n",
    "\n",
    "- Edit mode means that what I type goes into this \"cell.\" You can enter \"edit mode\" by clicking inside of a cell or pressing ENTER.\n",
    "- Command mode means that what I type, typically one letter, is a command that tells Jupyter to do something. You can enter command mode by clicking to the left of a cell or pressing ESC.\n",
    "\n",
    "## What commands can we execute?\n",
    "\n",
    "- `c` -- copy the current cell\n",
    "- `x` -- cut the current cell\n",
    "- `v` -- paste the most recently cut/copied cell\n",
    "- `a` -- create a new cell *above* the current one\n",
    "- `b` -- create a new cell *below* the current one\n",
    "- `m` -- turn the cell into Markdown documentation\n",
    "- `y` -- turn the cell into Python code\n",
    "\n",
    "When I'm done with a cell, either coding or writing documentation, I can press shift+ENTER together. That runs the code (if it's a code cell) or formats the Markdown into HTML/Web content (if it's documentation)."
   ]
  },
  {
   "cell_type": "markdown",
   "metadata": {},
   "source": [
    "# How can you run Jupyter?\n",
    "\n",
    "There are two options:\n",
    "\n",
    "- Hard option: Install Python + Jupyter on your own computer, perhaps as part of a package such as Anaconda or VSCode. Then you can run Jupyter on your computer.\n",
    "- Easy option: Use Jupyter Lite, which runs inside of your browser and requires *ZERO* installation. You can go to https://jupyter.org/try-jupyter/lab/ to try it out."
   ]
  },
  {
   "cell_type": "markdown",
   "metadata": {},
   "source": [
    "# Let's run some Python code!\n",
    "\n",
    "The first verb we're going to learn in Python is `print`, which displays something on the screen. I can say\n",
    "\n",
    "```python\n",
    "print('Hello')\n",
    "```\n",
    "\n",
    "in a Python code cell, and then it'll print `Hello` on the screen."
   ]
  },
  {
   "cell_type": "code",
   "execution_count": 2,
   "metadata": {},
   "outputs": [
    {
     "name": "stdout",
     "output_type": "stream",
     "text": [
      "Hello\n"
     ]
    }
   ],
   "source": [
    "# this is our first run of Python code\n",
    "\n",
    "print('Hello')"
   ]
  },
  {
   "cell_type": "markdown",
   "metadata": {},
   "source": [
    "# A few more things to understand\n",
    "\n",
    "- Functions are the *verbs* in Python. `print` is a function.\n",
    "- When we want to *execute* or *call* a function, we put `()` after its name. Without the `()`, the function will not run.\n",
    "- Inside of the parentheses, we can put the value we want to print. `print` knows how to deal with any kind of value.\n",
    "- Inside of a Python cell, we can put any number of *comment lines*, each starting with `#`. From `#` to the end of the line, Python ignores whatever we wrote. Comments are there to tell the maintainer of the code what they need to know later on."
   ]
  },
  {
   "cell_type": "code",
   "execution_count": 3,
   "metadata": {},
   "outputs": [
    {
     "name": "stdout",
     "output_type": "stream",
     "text": [
      "10\n"
     ]
    }
   ],
   "source": [
    "# I can also print numbers!\n",
    "\n",
    "print(10)"
   ]
  },
  {
   "cell_type": "code",
   "execution_count": 5,
   "metadata": {},
   "outputs": [
    {
     "name": "stdout",
     "output_type": "stream",
     "text": [
      "15\n"
     ]
    }
   ],
   "source": [
    "# I can do math calculations!\n",
    "\n",
    "print(10 + 5)  # first, Python handles the stuff in the (). It gets the value 15 back, and then asks print to display that value, 15."
   ]
  },
  {
   "cell_type": "code",
   "execution_count": null,
   "metadata": {},
   "outputs": [],
   "source": []
  }
 ],
 "metadata": {
  "kernelspec": {
   "display_name": "Python 3 (ipykernel)",
   "language": "python",
   "name": "python3"
  },
  "language_info": {
   "codemirror_mode": {
    "name": "ipython",
    "version": 3
   },
   "file_extension": ".py",
   "mimetype": "text/x-python",
   "name": "python",
   "nbconvert_exporter": "python",
   "pygments_lexer": "ipython3",
   "version": "3.14.0"
  }
 },
 "nbformat": 4,
 "nbformat_minor": 4
}
