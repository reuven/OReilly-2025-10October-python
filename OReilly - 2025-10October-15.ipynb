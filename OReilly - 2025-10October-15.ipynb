{
 "cells": [
  {
   "cell_type": "markdown",
   "metadata": {},
   "source": [
    "# Agenda\n",
    "\n",
    "1. Fundamentals and core concepts\n",
    "    - What is a programming language?\n",
    "    - Values and variables\n",
    "    - Assignment to variables\n",
    "    - Displaying things on the screen with `print`\n",
    "    - Getting input from the user with the `input` function\n",
    "    - Comparison operators\n",
    "    - Making decisions with `if`/`else`\n",
    "    - More complex decisions with `elif`, `and`, and `or`\n",
    "    - What are data structures?\n",
    "    - Numbers (`int` and `float`)\n",
    "    - Text in Python (`str`, or \"string\" type)\n",
    "    - Methods -- what are they, and how can we use them?\n",
    "2. Loops, lists, and tuples\n",
    "    - How to iterate over a string with a `for` loop\n",
    "    - Indexes and controlling our loops\n",
    "    - `while` loops\n",
    "    - Lists: Another data structure (\"generic container\")\n",
    "    - Converting from strings to lists, and back\n",
    "    - Tuples: Another data structure (sorta kinda immutable lists)\n",
    "3. Dictionaries and files\n",
    "    - Dicts: Creating, retrieving, working with them, and how we can use them in different ways\n",
    "    - Files: Reading from text files in different ways, and writing to files\n",
    "4. Functions\n",
    "    - Defining functions\n",
    "    - Invoking functions\n",
    "    - Arguments and parameters, and how they are mapped to each other\n",
    "    - Return values from functions\n",
    "    - Local vs. global variables\n",
    "5. Modules and packages\n",
    "    - Using code that other people have written\n",
    "    - Writing code that others can use (in our own modules)\n",
    "    - Python standard library\n",
    "    - Installing modules from PyPI with `pip` and `uv`\n",
    "    - What's next?"
   ]
  },
  {
   "cell_type": "markdown",
   "metadata": {},
   "source": [
    "# What is a programming language? What is Python?\n",
    "\n",
    "When computers were first invented, each computer that was put together solved a differnet problem. That's a very expensive way to solve problems! Pretty quickly, people realized that it would be better to create a single, general-purpose computer that could solve many different problems. You could program that computer with 1s and 0s, what are known as \"binary numbers.\" Writing programs in this way is very difficult, and fixing/maintaining programs written in this way is even more difficult!\n",
    "\n",
    "Pretty quickly, people created \"programming languages.\" You write your instructions in your language, and those are translated into binary code that the computer can understand.\n",
    "\n",
    "- C -- is very similar to the binary code that the computer uses. The good news is that C code runs very quickly. The bad news is that writing and maintaining it is very difficult.\n",
    "- C++ -- C with extra \"object-oriented\" capabilities. It's far more complex than C!\n",
    "- Java -- was designed to be a much easier-than-C++ sort of language, and it is! But it's still complex. It's higher level than C and C++, so it feels more like a human language. But it's still hard for many people to learn\n",
    "- Python -- was designed to be easy to write, read, and maintain. Those are more important values in the Python world than execution speed. Python is a perfect language for a world where computers are cheap, but people are expensive. It's intended to be friendly and useful. It is run by the community, not owned by any company.\n",
    "\n",
    "Python has been around for more than 30 years! It has now become popular because there are a lot of applications where it hits the sweet spot:\n",
    "\n",
    "- machine learning and AI\n",
    "- data analysis\n",
    "- devops\n",
    "- Web applications\n",
    "- API servers/clients\n",
    "- Education\n",
    "- Testing and automation\n",
    "\n",
    "Many people (especially programmers!) believe that because Python has simpler syntax than many other languages, and because it runs a bit more slowly, it isn't a serious language. This is *NOT TRUE*. Python is a very serious language, used in lots of places and applications. But it's a different kind of language than C, Java, etc.\n",
    "\n",
    "Low floors and high ceilings.\n",
    "\n",
    "BUT just because a language is relatively easy to learn and use doesn't mean that programming is easy!"
   ]
  },
  {
   "cell_type": "markdown",
   "metadata": {},
   "source": [
    "# Jupyter\n",
    "\n",
    "I'm typing into something known as \"Jupyter.\" Jupyter is a \"notebook,\" meaning that it's a particular style of editor for programs:\n",
    "\n",
    "- It works within your Web browser\n",
    "- It stores things on a regular basis automatically\n",
    "- It allows you to mix documentation (like I'm writing now) with code\n",
    "- Jupyter works with a variety of programming languages, even though I've only used it with Python\n",
    "\n",
    "When I'm typing into Jupyter, what happens depends on what mode I'm in :\n",
    "\n",
    "- Edit mode means that what I type goes into this \"cell.\" You can enter \"edit mode\" by clicking inside of a cell or pressing ENTER.\n",
    "- Command mode means that what I type, typically one letter, is a command that tells Jupyter to do something. You can enter command mode by clicking to the left of a cell or pressing ESC.\n",
    "\n",
    "## What commands can we execute?\n",
    "\n",
    "- `c` -- copy the current cell\n",
    "- `x` -- cut the current cell\n",
    "- `v` -- paste the most recently cut/copied cell\n",
    "- `a` -- create a new cell *above* the current one\n",
    "- `b` -- create a new cell *below* the current one\n",
    "- `m` -- turn the cell into Markdown documentation\n",
    "- `y` -- turn the cell into Python code\n",
    "\n",
    "When I'm done with a cell, either coding or writing documentation, I can press shift+ENTER together. That runs the code (if it's a code cell) or formats the Markdown into HTML/Web content (if it's documentation)."
   ]
  },
  {
   "cell_type": "markdown",
   "metadata": {},
   "source": [
    "# How can you run Jupyter?\n",
    "\n",
    "There are two options:\n",
    "\n",
    "- Hard option: Install Python + Jupyter on your own computer, perhaps as part of a package such as Anaconda or VSCode. Then you can run Jupyter on your computer.\n",
    "- Easy option: Use Jupyter Lite, which runs inside of your browser and requires *ZERO* installation. You can go to https://jupyter.org/try-jupyter/lab/ to try it out."
   ]
  },
  {
   "cell_type": "markdown",
   "metadata": {},
   "source": [
    "# Let's run some Python code!\n",
    "\n",
    "The first verb we're going to learn in Python is `print`, which displays something on the screen. I can say\n",
    "\n",
    "```python\n",
    "print('Hello')\n",
    "```\n",
    "\n",
    "in a Python code cell, and then it'll print `Hello` on the screen."
   ]
  },
  {
   "cell_type": "code",
   "execution_count": 2,
   "metadata": {},
   "outputs": [
    {
     "name": "stdout",
     "output_type": "stream",
     "text": [
      "Hello\n"
     ]
    }
   ],
   "source": [
    "# this is our first run of Python code\n",
    "\n",
    "print('Hello')"
   ]
  },
  {
   "cell_type": "markdown",
   "metadata": {},
   "source": [
    "# A few more things to understand\n",
    "\n",
    "- Functions are the *verbs* in Python. `print` is a function.\n",
    "- When we want to *execute* or *call* a function, we put `()` after its name. Without the `()`, the function will not run.\n",
    "- Inside of the parentheses, we can put the value we want to print. `print` knows how to deal with any kind of value.\n",
    "- Inside of a Python cell, we can put any number of *comment lines*, each starting with `#`. From `#` to the end of the line, Python ignores whatever we wrote. Comments are there to tell the maintainer of the code what they need to know later on."
   ]
  },
  {
   "cell_type": "code",
   "execution_count": 3,
   "metadata": {},
   "outputs": [
    {
     "name": "stdout",
     "output_type": "stream",
     "text": [
      "10\n"
     ]
    }
   ],
   "source": [
    "# I can also print numbers!\n",
    "\n",
    "print(10)"
   ]
  },
  {
   "cell_type": "code",
   "execution_count": 5,
   "metadata": {},
   "outputs": [
    {
     "name": "stdout",
     "output_type": "stream",
     "text": [
      "15\n"
     ]
    }
   ],
   "source": [
    "# I can do math calculations!\n",
    "\n",
    "print(10 + 5)  # first, Python handles the stuff in the (). It gets the value 15 back, and then asks print to display that value, 15."
   ]
  },
  {
   "cell_type": "code",
   "execution_count": 6,
   "metadata": {},
   "outputs": [
    {
     "name": "stdout",
     "output_type": "stream",
     "text": [
      "abcdefgh\n"
     ]
    }
   ],
   "source": [
    "# I can even use + on text.\n",
    "# Text in Python, is known as a \"string\"\n",
    "# We can define strings with either '' or \"\"  \n",
    "\n",
    "print('abcd' + 'efgh')"
   ]
  },
  {
   "cell_type": "code",
   "execution_count": 7,
   "metadata": {},
   "outputs": [
    {
     "name": "stdout",
     "output_type": "stream",
     "text": [
      "1020\n"
     ]
    }
   ],
   "source": [
    "# Here's another case of adding together text strings:\n",
    "\n",
    "# remember that Python adds numbers together as numbers.. but it adds text together as text\n",
    "\n",
    "print('10' + '20')"
   ]
  },
  {
   "cell_type": "code",
   "execution_count": 8,
   "metadata": {},
   "outputs": [
    {
     "ename": "TypeError",
     "evalue": "unsupported operand type(s) for +: 'int' and 'str'",
     "output_type": "error",
     "traceback": [
      "\u001b[31m---------------------------------------------------------------------------\u001b[39m",
      "\u001b[31mTypeError\u001b[39m                                 Traceback (most recent call last)",
      "\u001b[36mCell\u001b[39m\u001b[36m \u001b[39m\u001b[32mIn[8]\u001b[39m\u001b[32m, line 3\u001b[39m\n\u001b[32m      1\u001b[39m \u001b[38;5;66;03m# what if I try to add a number together with text?\u001b[39;00m\n\u001b[32m----> \u001b[39m\u001b[32m3\u001b[39m \u001b[38;5;28mprint\u001b[39m(\u001b[32;43m10\u001b[39;49m\u001b[43m \u001b[49m\u001b[43m+\u001b[49m\u001b[43m \u001b[49m\u001b[33;43m'\u001b[39;49m\u001b[33;43m3\u001b[39;49m\u001b[33;43m'\u001b[39;49m)\n\u001b[32m      5\u001b[39m \u001b[38;5;66;03m# what could happen?\u001b[39;00m\n\u001b[32m      6\u001b[39m \u001b[38;5;66;03m# (1) Python could turn 10 (the number) into '10' (the text), and give us '103'\u001b[39;00m\n\u001b[32m      7\u001b[39m \u001b[38;5;66;03m# (2) Python could turn '3' (the text) into 3 (the number), and give us 13\u001b[39;00m\n\u001b[32m      8\u001b[39m \u001b[38;5;66;03m# (3) Python could say, \"I don't know what you want from me!\" and give us an error\u001b[39;00m\n",
      "\u001b[31mTypeError\u001b[39m: unsupported operand type(s) for +: 'int' and 'str'"
     ]
    }
   ],
   "source": [
    "# what if I try to add a number together with text?\n",
    "\n",
    "print(10 + '3')\n",
    "\n",
    "# what could happen?\n",
    "# (1) Python could turn 10 (the number) into '10' (the text), and give us '103'\n",
    "# (2) Python could turn '3' (the text) into 3 (the number), and give us 13\n",
    "# (3) Python could say, \"I don't know what you want from me!\" and give us an error"
   ]
  },
  {
   "cell_type": "markdown",
   "metadata": {},
   "source": [
    "# Values\n",
    "\n",
    "We've seen that values in Python (our nouns) can have different types:\n",
    "\n",
    "- Whole numbers, with just digits (and no quotes), are known as \"integers,\" or `int`\n",
    "- Text, containing anything inside of `''` or `\"\"`, are known as \"strings,\" or `str`\n",
    "\n",
    "Right now, we can display any value we want! But this is kind of boring. Let's make things more interesting."
   ]
  },
  {
   "cell_type": "markdown",
   "metadata": {},
   "source": [
    "# Variables\n",
    "\n",
    "If values in a programming language are the nouns, then variables are the *pronouns* that refer to them.\n",
    "\n",
    "We can assign a value to a variable and then refer to the value (via the variable) later on. This has several advantages:\n",
    "\n",
    "- We can refer to it, especially if it's big/long, with a short name\n",
    "- The name can be meaningful to us, and to others, making it easier to maintain/understand/read the code.\n",
    "\n",
    "We can assign a value to a variable with `=`, known as the \"assignment operator.\"\n",
    "\n",
    "**NOTE**: The `=` in Python is *NOT* used the same as the `=` in math. In math, it means, \"Both sides of the `=` have the same value.\" But in Python, `=` means: The value on the right will be assigned to the variable on the left."
   ]
  },
  {
   "cell_type": "code",
   "execution_count": 9,
   "metadata": {},
   "outputs": [
    {
     "name": "stdout",
     "output_type": "stream",
     "text": [
      "30\n"
     ]
    }
   ],
   "source": [
    "x = 10      # this assigns the integer 10 to the variable x\n",
    "y = 20      # this assigns the integer 20 to the variable y\n",
    "\n",
    "print(x + y)"
   ]
  },
  {
   "cell_type": "markdown",
   "metadata": {},
   "source": [
    "# A few things to realize about assignment\n",
    "\n",
    "- If the variable exists already, then the new value is assigned to it, and the old value goes away\n",
    "- If the variable does *not* exist yet, then the variable is created, and the value is assigned to it.\n",
    "\n",
    "What about variable names?\n",
    "\n",
    "- A variable can contain any combination (just about) of letters and digits.\n",
    "- Traditionally, we only use lowercase letters and `_` and digits; we don't use capital letters.\n",
    "- Capitals are different from lowercase.\n",
    "- You cannot start a variable name with a digit.\n",
    "- You shouldn't start or end a variable name with `_`."
   ]
  },
  {
   "cell_type": "code",
   "execution_count": 11,
   "metadata": {},
   "outputs": [
    {
     "name": "stdout",
     "output_type": "stream",
     "text": [
      "Helloworld\n"
     ]
    }
   ],
   "source": [
    "x = 'Hello'\n",
    "y = 'world'\n",
    "\n",
    "sentence = x + y\n",
    "\n",
    "print(sentence)"
   ]
  },
  {
   "cell_type": "markdown",
   "metadata": {},
   "source": [
    "Computers do what you tell them to do, not what you want them to do!"
   ]
  },
  {
   "cell_type": "code",
   "execution_count": 12,
   "metadata": {},
   "outputs": [
    {
     "name": "stdout",
     "output_type": "stream",
     "text": [
      "Hello world\n"
     ]
    }
   ],
   "source": [
    "# if you want a space between the words, you must add it manually:\n",
    "\n",
    "x = 'Hello '\n",
    "y = 'world'\n",
    "\n",
    "sentence = x + y\n",
    "\n",
    "print(sentence)"
   ]
  },
  {
   "cell_type": "markdown",
   "metadata": {},
   "source": [
    "# Exercises:\n",
    "\n",
    "1. Assign numbers to variables `x` and `y`. Add them together with `+`, and assign the total to `total`. Print `total` on the screen.\n",
    "2. Assign your name to `name`. Print a nice greeting to yourself, using the variable.\n",
    "\n",
    "I'll start a \"pulse check.\" Use the thumbs-up to say, \"I'm done and succeeded.\" Use the thumbs-down to say, \"I'm confused/stuck/have a bug.\" In the second case, then please send a message in the Q&A!"
   ]
  },
  {
   "cell_type": "code",
   "execution_count": 13,
   "metadata": {},
   "outputs": [
    {
     "name": "stdout",
     "output_type": "stream",
     "text": [
      "579\n"
     ]
    }
   ],
   "source": [
    "x = 123\n",
    "y = 456\n",
    "\n",
    "total = x + y\n",
    "\n",
    "print(total)"
   ]
  },
  {
   "cell_type": "code",
   "execution_count": 14,
   "metadata": {},
   "outputs": [
    {
     "name": "stdout",
     "output_type": "stream",
     "text": [
      "Hello, Reuven\n"
     ]
    }
   ],
   "source": [
    "print('Hello, Reuven')"
   ]
  },
  {
   "cell_type": "code",
   "execution_count": 15,
   "metadata": {},
   "outputs": [
    {
     "name": "stdout",
     "output_type": "stream",
     "text": [
      "Hello, Reuven\n"
     ]
    }
   ],
   "source": [
    "print('Hello, ' + 'Reuven')"
   ]
  },
  {
   "cell_type": "code",
   "execution_count": 20,
   "metadata": {},
   "outputs": [
    {
     "name": "stdout",
     "output_type": "stream",
     "text": [
      "Hello! Reuven\n"
     ]
    }
   ],
   "source": [
    "name = 'Reuven'\n",
    "print('Hello! ' + name)"
   ]
  },
  {
   "cell_type": "code",
   "execution_count": 19,
   "metadata": {},
   "outputs": [
    {
     "name": "stdout",
     "output_type": "stream",
     "text": [
      "Reuven welcome\n"
     ]
    }
   ],
   "source": [
    "# errors:\n",
    "\n",
    "# (1) variables are *not* put inside of quotes. But \"literal strings\" are. If you want the word 'name' to be printed,\n",
    "# then you should say print('name'). But if you want the value of the variable name to be printed, say print(name).\n",
    "\n",
    "# (2) If you want to combine and print two strings, you need to put + between them. \n",
    "\n",
    "print(name + ' welcome')"
   ]
  },
  {
   "cell_type": "code",
   "execution_count": 21,
   "metadata": {},
   "outputs": [
    {
     "name": "stdout",
     "output_type": "stream",
     "text": [
      "<class 'str'>\n"
     ]
    }
   ],
   "source": [
    "# the value on the right is a string ('abcde') and it is assigned to the variable on the left\n",
    "\n",
    "s = 'abcde'\n",
    "print(type(s))"
   ]
  },
  {
   "cell_type": "code",
   "execution_count": 22,
   "metadata": {},
   "outputs": [
    {
     "name": "stdout",
     "output_type": "stream",
     "text": [
      "<class 'str'>\n"
     ]
    }
   ],
   "source": [
    "t = s   # here, the value on the right is also a string (because it's a variable referring to a string)\n",
    "print(type(t))"
   ]
  },
  {
   "cell_type": "markdown",
   "metadata": {},
   "source": [
    "# Next up\n",
    "\n",
    "- Get input from the user with the `input` function\n",
    "- Comparison operators\n",
    "- Conditional code with `if`"
   ]
  },
  {
   "cell_type": "markdown",
   "metadata": {},
   "source": [
    "# Getting input from the user\n",
    "\n",
    "A program that knows in advance what values it'll deal with is a very boring one. How can we get information from the user into our program, such that we can then use that in what we display and calculate?\n",
    "\n",
    "The simplest way is the `input` function, which we can run. When we do so, the program pauses and waits for the user to type something. Whatever the user types is returned from the function, i.e., is the value that the function has. If we put `input` on the right side of assignment, that means we can take the user's input and assign it to a variable.\n",
    "\n",
    "When we invoke `input`, we pass a text string as an argument. That's the prompt/display that will be shown to the user when we wait for their input.\n",
    "\n",
    "`input` always returns a text string. Even if the user enters only digits, those digits are in a string, not in an integer."
   ]
  },
  {
   "cell_type": "code",
   "execution_count": 23,
   "metadata": {},
   "outputs": [
    {
     "name": "stdin",
     "output_type": "stream",
     "text": [
      "Enter your name:  Reuven\n"
     ]
    },
    {
     "name": "stdout",
     "output_type": "stream",
     "text": [
      "Hello, Reuven!\n"
     ]
    }
   ],
   "source": [
    "name = input('Enter your name: ')\n",
    "print('Hello, ' + name + '!')"
   ]
  },
  {
   "cell_type": "code",
   "execution_count": 24,
   "metadata": {},
   "outputs": [
    {
     "name": "stdin",
     "output_type": "stream",
     "text": [
      "Enter a number:  10\n"
     ]
    },
    {
     "ename": "TypeError",
     "evalue": "can only concatenate str (not \"int\") to str",
     "output_type": "error",
     "traceback": [
      "\u001b[31m---------------------------------------------------------------------------\u001b[39m",
      "\u001b[31mTypeError\u001b[39m                                 Traceback (most recent call last)",
      "\u001b[36mCell\u001b[39m\u001b[36m \u001b[39m\u001b[32mIn[24]\u001b[39m\u001b[32m, line 2\u001b[39m\n\u001b[32m      1\u001b[39m n = \u001b[38;5;28minput\u001b[39m(\u001b[33m'\u001b[39m\u001b[33mEnter a number: \u001b[39m\u001b[33m'\u001b[39m)\n\u001b[32m----> \u001b[39m\u001b[32m2\u001b[39m \u001b[38;5;28mprint\u001b[39m(\u001b[43mn\u001b[49m\u001b[43m \u001b[49m\u001b[43m+\u001b[49m\u001b[43m \u001b[49m\u001b[32;43m3\u001b[39;49m)\n",
      "\u001b[31mTypeError\u001b[39m: can only concatenate str (not \"int\") to str"
     ]
    }
   ],
   "source": [
    "n = input('Enter a number: ')\n",
    "print(n + 3)"
   ]
  },
  {
   "cell_type": "markdown",
   "metadata": {},
   "source": [
    "# Comparison operators\n",
    "\n",
    "So far, we've only used one operator, `+`, to combine/add two things together:\n",
    "\n",
    "- If we use `+` with two integers, we get a new integer back\n",
    "- If we use `+` with two strings, we get a new string back\n",
    "\n",
    "But there are other operators, *comparison* operators, that tell us whether two values are the same or different or bigger/smaller than each other. These operators don't return integers or strings. Rather, they return special values `True` and `False` (yes, with capital letters at the start) that indicate if the comparison is or isn't valid.\n",
    "\n",
    "The most common comparison operator is `==`, which tells us if two things are the same.\n",
    "\n",
    "This is important and hard to remember:\n",
    "\n",
    "- `=` is for assignment\n",
    "- `==` is for comparison. It asks a question, are these two values the same?"
   ]
  },
  {
   "cell_type": "code",
   "execution_count": 25,
   "metadata": {},
   "outputs": [
    {
     "name": "stdout",
     "output_type": "stream",
     "text": [
      "True\n"
     ]
    }
   ],
   "source": [
    "print(10 == 10)"
   ]
  },
  {
   "cell_type": "code",
   "execution_count": 26,
   "metadata": {},
   "outputs": [
    {
     "name": "stdout",
     "output_type": "stream",
     "text": [
      "False\n"
     ]
    }
   ],
   "source": [
    "print(10 == 20)"
   ]
  },
  {
   "cell_type": "code",
   "execution_count": 27,
   "metadata": {},
   "outputs": [
    {
     "name": "stdout",
     "output_type": "stream",
     "text": [
      "True\n"
     ]
    }
   ],
   "source": [
    "print(10 == 5+5)  # 10 == 5+5 -> 10 == 10 -> True -> print(True)"
   ]
  },
  {
   "cell_type": "code",
   "execution_count": 28,
   "metadata": {},
   "outputs": [
    {
     "name": "stdout",
     "output_type": "stream",
     "text": [
      "False\n"
     ]
    }
   ],
   "source": [
    "print('a' == 'A')"
   ]
  },
  {
   "cell_type": "code",
   "execution_count": 29,
   "metadata": {},
   "outputs": [
    {
     "name": "stdout",
     "output_type": "stream",
     "text": [
      "False\n"
     ]
    }
   ],
   "source": [
    "print('a' == 'a ')"
   ]
  },
  {
   "cell_type": "code",
   "execution_count": 30,
   "metadata": {},
   "outputs": [
    {
     "name": "stdout",
     "output_type": "stream",
     "text": [
      "False\n"
     ]
    }
   ],
   "source": [
    "print('10' == 10)"
   ]
  },
  {
   "cell_type": "markdown",
   "metadata": {},
   "source": [
    "# List of comparison operators\n",
    "\n",
    "- `==` -- are the two values equal to one another (and of the same type)?\n",
    "- `!=` -- opposite of `==`, the equivalent of ≠. Note that you **CANNOT** use `!` by itself in Python to reverse a value\n",
    "- `<` -- less than\n",
    "- `>` -- greater than\n",
    "- `<=` -- less than or equal to\n",
    "- `>=` -- greater than or equal to"
   ]
  },
  {
   "cell_type": "code",
   "execution_count": 32,
   "metadata": {},
   "outputs": [
    {
     "data": {
      "text/plain": [
       "False"
      ]
     },
     "execution_count": 32,
     "metadata": {},
     "output_type": "execute_result"
    }
   ],
   "source": [
    "# in Jupyter, if the final line of a cell is an expression, i.e., if it gives a value back,\n",
    "# then we don't need to use print! We can just put the expression, and we'll see the result.\n",
    "\n",
    "10 < 5"
   ]
  },
  {
   "cell_type": "code",
   "execution_count": 33,
   "metadata": {},
   "outputs": [
    {
     "data": {
      "text/plain": [
       "123"
      ]
     },
     "execution_count": 33,
     "metadata": {},
     "output_type": "execute_result"
    }
   ],
   "source": [
    "x"
   ]
  },
  {
   "cell_type": "code",
   "execution_count": 34,
   "metadata": {},
   "outputs": [
    {
     "data": {
      "text/plain": [
       "True"
      ]
     },
     "execution_count": 34,
     "metadata": {},
     "output_type": "execute_result"
    }
   ],
   "source": [
    "5 < 123"
   ]
  },
  {
   "cell_type": "code",
   "execution_count": 36,
   "metadata": {},
   "outputs": [
    {
     "data": {
      "text/plain": [
       "True"
      ]
     },
     "execution_count": 36,
     "metadata": {},
     "output_type": "execute_result"
    }
   ],
   "source": [
    "# what if I use < or > on text strings?\n",
    "# It turns out that Python will give us a result. It'll tell us which comes first alphabetically.\n",
    "# the comparison is done like in a dictionary -- comparing the first letters, then the second, then the third, etc.\n",
    "# until either one word ends (and comes first, because it's shorter) or they are the same (they're equal), or\n",
    "# one comes before/after the other, breaking the tie\n",
    "\n",
    "'abcd' < 'efgh'"
   ]
  },
  {
   "cell_type": "code",
   "execution_count": 37,
   "metadata": {},
   "outputs": [
    {
     "ename": "TypeError",
     "evalue": "'<' not supported between instances of 'int' and 'str'",
     "output_type": "error",
     "traceback": [
      "\u001b[31m---------------------------------------------------------------------------\u001b[39m",
      "\u001b[31mTypeError\u001b[39m                                 Traceback (most recent call last)",
      "\u001b[36mCell\u001b[39m\u001b[36m \u001b[39m\u001b[32mIn[37]\u001b[39m\u001b[32m, line 3\u001b[39m\n\u001b[32m      1\u001b[39m \u001b[38;5;66;03m# what if I try to compare an integer and a string?\u001b[39;00m\n\u001b[32m----> \u001b[39m\u001b[32m3\u001b[39m \u001b[32;43m10\u001b[39;49m\u001b[43m \u001b[49m\u001b[43m<\u001b[49m\u001b[43m \u001b[49m\u001b[33;43m'\u001b[39;49m\u001b[33;43m123\u001b[39;49m\u001b[33;43m'\u001b[39;49m\n",
      "\u001b[31mTypeError\u001b[39m: '<' not supported between instances of 'int' and 'str'"
     ]
    }
   ],
   "source": [
    "# what if I try to compare an integer and a string?\n",
    "\n",
    "10 < '123'"
   ]
  },
  {
   "cell_type": "markdown",
   "metadata": {},
   "source": [
    "# Conditional operators\n",
    "\n",
    "So far, when we've written a program (even a small one), everything ran, from start to finish. That's not how we typically want our programs to run, though -- we want certain parts to run all of the time, but other parts to run only some of the time.\n",
    "\n",
    "The way that we handle this is with *conditional operators*, most famously `if`:\n",
    "\n",
    "- `if` looks to its right for a `True` or `False` value, most commonly from a comparison operator\n",
    "- If the value to its right is `True`, then the *block* for `if` runs\n",
    "- If the value to its right is `False`, then the *block* for `else` runs, assuming it exists\n",
    "\n",
    "`if`, in this way, ensures that some of the code will only run sometimes. "
   ]
  },
  {
   "cell_type": "code",
   "execution_count": 41,
   "metadata": {},
   "outputs": [
    {
     "name": "stdin",
     "output_type": "stream",
     "text": [
      "Enter your name:  reuven\n"
     ]
    },
    {
     "name": "stdout",
     "output_type": "stream",
     "text": [
      "Hello, reuven, whoever you are.\n"
     ]
    }
   ],
   "source": [
    "name = input('Enter your name: ')\n",
    "\n",
    "if name == 'Reuven':\n",
    "    print('Hello, boss!')\n",
    "    print('I am so excited to work with you again!')\n",
    "else:\n",
    "    print('Hello, ' + name + ', whoever you are.')\n",
    "\n",
    "    "
   ]
  },
  {
   "cell_type": "markdown",
   "metadata": {},
   "source": [
    "# Talking about our program\n",
    "\n",
    "1. `if` looks to its right, and sees the result of `name == 'Reuven'`\n",
    "2. If it's `True`, then the `if` block runs\n",
    "3. A block starts with a `:` at the end of the `if` line. That is mandatory!\n",
    "4. Then the block starts. The block is indented. This is mandatory, also! Python does not use `begin`/`end` or `{}` to indicate the start and end of a block. Rather, it uses indentation, with 4 spaces per level. (You can use something else, but don't!) The block can be any number of lines long. When the indentation stops, the block ends, and the program continues.\n",
    "5. If the `if` condition is `False`, then we jump to the `else` clause and run its block.\n",
    "6. The `else` block is optional. If it doesn't exist, and the `if` condition is `False`, then nothing happens.\n",
    "7. If the `else` does exist, then it is guaranteed that either the `if` block or the `else` block will run. Not zero, and not two blocks, but one of these two.\n",
    "\n",
    "Indentation means that there are spaces at the start of the line, before any text.\n",
    "\n",
    "    This line is indented by 4 spaces.\n",
    "\n",
    "        This line is indented by 8 spaces.\n",
    "\n",
    "In Python code, you willl often have indentation within indentation. If you have an `if` block, and inside of the `if` block you have another `if`, then the internal `if` block will be indented twice!\n",
    "\n",
    "You can have as much or as little code as you want in a block. Also, you can have *any* code that you want inside of a block."
   ]
  },
  {
   "cell_type": "code",
   "execution_count": 38,
   "metadata": {},
   "outputs": [
    {
     "data": {
      "text/plain": [
       "True"
      ]
     },
     "execution_count": 38,
     "metadata": {},
     "output_type": "execute_result"
    }
   ],
   "source": [
    "'A' < 'z'"
   ]
  },
  {
   "cell_type": "markdown",
   "metadata": {},
   "source": [
    "# Exercise: Which word comes first?\n",
    "\n",
    "1. Ask the user to enter a word (all lowercase, no punctuation, no spaces) and assign to `first`.\n",
    "2. Ask the user to enter a second word (again, all lowercase, no punctuation, no spaces) and assign to `second`.\n",
    "3. We can assume that the words are not the same.\n",
    "4. Tell the user which comes first alphabetically.\n",
    "\n",
    "Example:\n",
    "\n",
    "    Enter first: chicken\n",
    "    Enter second: egg\n",
    "\n",
    "    chicken comes before egg\n"
   ]
  },
  {
   "cell_type": "code",
   "execution_count": 44,
   "metadata": {},
   "outputs": [
    {
     "name": "stdin",
     "output_type": "stream",
     "text": [
      "Enter first:  love\n",
      "Enter second:  marriage\n"
     ]
    },
    {
     "name": "stdout",
     "output_type": "stream",
     "text": [
      "love comes before marriage\n"
     ]
    }
   ],
   "source": [
    "first = input('Enter first: ')\n",
    "second = input('Enter second: ')\n",
    "\n",
    "if first < second:    # if the word in first comes before the word in second alphabetically\n",
    "    print(first + ' comes before ' + second)\n",
    "else:\n",
    "    print(second + ' comes before ' + first)"
   ]
  },
  {
   "cell_type": "code",
   "execution_count": 45,
   "metadata": {},
   "outputs": [
    {
     "name": "stdout",
     "output_type": "stream",
     "text": [
      "True\n"
     ]
    }
   ],
   "source": [
    "print(10 == 5+5)   # this is translated into __eq__(10, 5+5)  -> __eq__(10, 10)"
   ]
  },
  {
   "cell_type": "markdown",
   "metadata": {},
   "source": [
    "# Simplifying our strings\n",
    "\n",
    "It's a huge pain to write things in this way, with lots of `+` signs between variables and strings we want to connect. It would be much easier if we could simply write a string with a variable in it, and get the string with the variable's value \"interpolated.\"\n",
    "\n",
    "We can do that with f-strings! (f-strings stand for \"format strings\" or -- my preference! -- \"fancy strings\")\n",
    "\n",
    "1. f-strings are strings, like all other strings\n",
    "2. You can define an f-string with either `''` or `\"\"`, as usual. But you must put `f` before the opening quote.\n",
    "3. Inside of the f-string, if you have `{}`, then you can put a variable or any other Python expression inside. The value will be interpolated into the rest of the string."
   ]
  },
  {
   "cell_type": "code",
   "execution_count": 47,
   "metadata": {},
   "outputs": [
    {
     "data": {
      "text/plain": [
       "'10 + 20 = 30'"
      ]
     },
     "execution_count": 47,
     "metadata": {},
     "output_type": "execute_result"
    }
   ],
   "source": [
    "x = 10\n",
    "y = 20\n",
    "\n",
    "f'{x} + {y} = {x+y}'   #notice that here we have found a way to combine numbers and text!"
   ]
  },
  {
   "cell_type": "code",
   "execution_count": 50,
   "metadata": {},
   "outputs": [
    {
     "name": "stdin",
     "output_type": "stream",
     "text": [
      "enter your first word: goodbye\n",
      "enter your second word: hello\n"
     ]
    },
    {
     "name": "stdout",
     "output_type": "stream",
     "text": [
      "goodbye comes first than hello\n"
     ]
    }
   ],
   "source": [
    "# RK\n",
    "\n",
    "xyz=input('enter your first word:')\n",
    "pqr=input('enter your second word:')\n",
    "\n",
    "if xyz < pqr:\n",
    "    print (xyz + ' comes first than ' + pqr)\n"
   ]
  },
  {
   "cell_type": "code",
   "execution_count": 53,
   "metadata": {},
   "outputs": [
    {
     "name": "stdin",
     "output_type": "stream",
     "text": [
      "enter your first word: a\n",
      "enter your second word: b\n"
     ]
    },
    {
     "name": "stdout",
     "output_type": "stream",
     "text": [
      "a comes first, then b\n"
     ]
    }
   ],
   "source": [
    "# RK\n",
    "\n",
    "xyz=input('enter your first word:')\n",
    "pqr=input('enter your second word:')\n",
    "\n",
    "if xyz < pqr:\n",
    "    print (f'{xyz} comes first, then {pqr}')\n",
    "else:\n",
    "    print (f'{pqr} comes first, then {xyz}')"
   ]
  },
  {
   "cell_type": "code",
   "execution_count": null,
   "metadata": {},
   "outputs": [],
   "source": [
    "# SB\n",
    "\n",
    "if (first < second):\n",
    "\n",
    "# the above syntax will totally work fine... but in Python, we try to avoid () if we don't need them.     We would normally just write\n",
    "\n",
    "if first < second:\n"
   ]
  },
  {
   "cell_type": "markdown",
   "metadata": {},
   "source": [
    "# Complex conditions\n",
    "\n",
    "What if I want to check more than two options? There are often cases when I have to choose not from two things, but three or more.\n",
    "\n",
    "In such cases, we can use `elif`. That is basically \"else if\". It goes between `if` and `else` (which remains optional). Every `elif` clause has its own condition. The first condition to return `True` gets its block executed. All other conditions and blocks are ignored."
   ]
  },
  {
   "cell_type": "code",
   "execution_count": 56,
   "metadata": {},
   "outputs": [
    {
     "name": "stdin",
     "output_type": "stream",
     "text": [
      "Enter your name:  asdfasfsafafafa\n"
     ]
    },
    {
     "name": "stdout",
     "output_type": "stream",
     "text": [
      "Hi, asdfasfsafafafa. Nice to meet you.\n"
     ]
    }
   ],
   "source": [
    "name = input('Enter your name: ')\n",
    "\n",
    "if name == 'Reuven':\n",
    "    print('Hi boss!')\n",
    "elif name == 'something else':\n",
    "    print('That is a very odd name')\n",
    "else:\n",
    "    print(f'Hi, {name}. Nice to meet you.')"
   ]
  },
  {
   "cell_type": "markdown",
   "metadata": {},
   "source": [
    "# Exercise: Which word comes first? (Second edition)\n",
    "\n",
    "1. Redo the previous exercise, in which you ask the user to enter two words, and indicate which comes first.\n",
    "2. Use f-strings to display the output.\n",
    "3. Allow the user to enter the same word twice. If they do so, then tell them the words are the same."
   ]
  },
  {
   "cell_type": "markdown",
   "metadata": {},
   "source": [
    "# F-strings\n",
    "\n",
    "f-strings are a (slightly) different way to create strings. Once created, they are no different from any other strings. The big deal with an f-string is that it can contain a Py"
   ]
  }
 ],
 "metadata": {
  "kernelspec": {
   "display_name": "Python 3 (ipykernel)",
   "language": "python",
   "name": "python3"
  },
  "language_info": {
   "codemirror_mode": {
    "name": "ipython",
    "version": 3
   },
   "file_extension": ".py",
   "mimetype": "text/x-python",
   "name": "python",
   "nbconvert_exporter": "python",
   "pygments_lexer": "ipython3",
   "version": "3.14.0"
  }
 },
 "nbformat": 4,
 "nbformat_minor": 4
}
