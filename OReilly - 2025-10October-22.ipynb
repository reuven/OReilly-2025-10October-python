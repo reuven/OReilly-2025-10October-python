{
 "cells": [
  {
   "cell_type": "markdown",
   "metadata": {},
   "source": [
    "# Agenda, week 2\n",
    "\n",
    "1. Q&A\n",
    "2. Loops\n",
    "    - What loops are for\n",
    "    - `for` loops\n",
    "    - Using indexes (or not)\n",
    "    - Controlling our loops\n",
    "    - `while` loops as well\n",
    "    - How loops work behind the scenes\n",
    "3. Lists\n",
    "    - How are lists similar to and distinct from strings?\n",
    "    - Creating and working with lists (including list methods)\n",
    "    - Modifying lists, and what that means\n",
    "    - Looping over lists\n",
    "4. Turning strings into lists, and vice versa\n",
    "    - Turning a string into a list with `str.split`\n",
    "    - Turning a list into a string with `str.join`\n",
    "6. Tuples\n",
    "    - The third member (along with strings and lists) of the \"sequence\" family of data structures\n",
    "    - How tuples are similar to and different from lists\n",
    "    - Where we'll use tuples (spoiler: not that much!)\n",
    "    - Tuple unpacking"
   ]
  },
  {
   "cell_type": "code",
   "execution_count": 3,
   "metadata": {},
   "outputs": [
    {
     "name": "stdin",
     "output_type": "stream",
     "text": [
      "enter a word:  banana\n"
     ]
    },
    {
     "name": "stdout",
     "output_type": "stream",
     "text": [
      "bananaway\n"
     ]
    }
   ],
   "source": [
    "# KD\n",
    "\n",
    "text = input('enter a word: ')\n",
    "\n",
    "# what we want: If the first letter is a vowel (a, e, i, o, or u) then add \"way\" to the word\n",
    "if text[0] == 'a' or 'e' or 'i' or 'o' or 'u':\n",
    "    print (text + 'way')\n",
    "else:\n",
    "    print(text[1:] + text[0] + 'ay')"
   ]
  },
  {
   "cell_type": "markdown",
   "metadata": {},
   "source": [
    "# Conditions\n",
    "\n",
    "- `if` looks to its right. If it sees a `True` value, then its block runs.\n",
    "- If the condition for the `if` is `False`, then the `else` block runs\n",
    "\n",
    "We know, then, that the condition we've given is always returning `True`, no matter what.\n",
    "\n",
    "Why is that?\n",
    "\n",
    "Our condition in the above code is \n",
    "\n",
    "    text[0] == 'a' or 'e' or 'i' or 'o' or 'u'\n",
    "\n",
    "It feels like it should work, because we're saying, \"If the first character in `text` is a, or e, or i, or o, or u, then that should return `True`, and the `if` block should run.\n",
    "\n",
    "That's *not* actually what we're saying to Python!\n",
    "\n",
    "`and` and `or` are not for selecting from different options for `==`. Rather, `and` and `or` look to their left for a `True` or `False`, and look to their right for ar `True` or `False`.\n",
    "\n",
    "- `and` returns `True` if the items on its left and right are both `True`\n",
    "- `or` returns `True` if either of the items on its left or right are `True`\n",
    "\n",
    "What happened here?  We said that the condition should return \n",
    "\n",
    "- `text[0] == 'a'`\n",
    "- `'e'`  # this is our second condition! Not `text[0] == 'e'`, but just `'e'`!\n",
    "\n",
    "What does it mean to have a condition of just one letter, a string?\n",
    "\n",
    "In Python, nearly all values can be evaluated in what I call \"boolean context,\" meaning that they are forced to provide a `True` or `False` value. This is especially the case in `if`, `or`, and `and`.\n",
    "\n",
    "- Nearly every value in Python, when asked if it's `True` or `False` in that context (i.e., in an `if`, `and`, or `or`) will return `True`.\n",
    "- The exceptions are 0, `None`, and any empty value, such as the empty string, `''`\n",
    "\n",
    "So our `if` condition looks like this:\n",
    "\n",
    "    text[0] == 'a' or 'e' or 'i' or 'o' or 'u'\n",
    "\n",
    "But Python sees it as this:\n",
    "\n",
    "    text[0] == 'a' or True or True or True or True\n",
    "\n",
    "In other words, it will *always* be `True`!\n",
    "\n",
    "The way that we can avoid this is by having a full comparison on either side of `or`:\n",
    "\n",
    "    text[0] == 'a' or text[0] == 'e' or text[0] == 'i' or text[0] == 'o' or text[0] == 'u'\n",
    "\n",
    "But an easier way to write this test/condition is actually:\n",
    "\n",
    "    text[0] in 'aeiou'\n",
    "\n",
    "Thus the code can be\n",
    "\n",
    "    if text[0] in 'aeiou':\n",
    "        print(text + 'way')\n",
    "\n"
   ]
  },
  {
   "cell_type": "code",
   "execution_count": 4,
   "metadata": {},
   "outputs": [
    {
     "name": "stdout",
     "output_type": "stream",
     "text": [
      "a\n",
      "b\n",
      "c\n",
      "d\n"
     ]
    }
   ],
   "source": [
    "# Let's say I have a string\n",
    "\n",
    "s = 'abcd'\n",
    "\n",
    "# I want to print every letter in the string\n",
    "\n",
    "print(s[0])\n",
    "print(s[1])\n",
    "print(s[2])\n",
    "print(s[3])"
   ]
  },
  {
   "cell_type": "markdown",
   "metadata": {},
   "source": [
    "# This is a problem\n",
    "\n",
    "In programming, we try to avoid writing the same code (or almost the same code) multiple times. This is known as the \"DRY rule,\" for \"don't repeat yourself.\"\n",
    "\n",
    "If you see that you are repeating the same line (or more less) on subsequent lines, then you should consider a different way to write the code. Loops are one technique that comes up very often in this context.\n",
    "\n",
    "The idea of a loop is that we repeat the execution of some code until we have finished with some condition.\n",
    "\n",
    "There are two types of loops in Python:\n",
    "\n",
    "- `for` loops\n",
    "- `while` loops\n",
    "\n",
    "Other languages have many other kinds of loops, but in Python, that's all we have! Most of the time we'll use `for` loops."
   ]
  },
  {
   "cell_type": "markdown",
   "metadata": {},
   "source": [
    "# `for` loops\n",
    "\n",
    "A `for` loop runs (for now) over a string, getting one character from the string at a time. The character is placed into a variable. We can do whatever we want with each *iteration* of our loop."
   ]
  },
  {
   "cell_type": "code",
   "execution_count": 6,
   "metadata": {},
   "outputs": [
    {
     "name": "stdout",
     "output_type": "stream",
     "text": [
      "Start\n",
      "a\n",
      "b\n",
      "c\n",
      "d\n",
      "End\n"
     ]
    }
   ],
   "source": [
    "s = 'abcd'\n",
    "\n",
    "print('Start')\n",
    "for one_character in s:\n",
    "    print(one_character) # we print the current character, and print automatically adds a newline after whatever it prints\n",
    "print('End')"
   ]
  },
  {
   "cell_type": "markdown",
   "metadata": {},
   "source": [
    "# Syntax of a `for` loop:\n",
    "\n",
    "- We start with the reserved word `for`\n",
    "- Then we name the *loop variable*, into which each value from the *iterable* will be assigned.\n",
    "- Then we have the reserved word `in`\n",
    "- Then we have the overall *iterable* value, the thing we want to go over, one item at a time.\n",
    "- Then, at the end of the line, we have a colon, `:`\n",
    "- Then we have an indented block. This block can contain *ANY PYTHON CODE YOU WANT*! That includes `print`, `input`, `if`, `for`.\n",
    "- The loop body can be as long or as short as you want."
   ]
  },
  {
   "cell_type": "markdown",
   "metadata": {},
   "source": [
    "# What's really happening in our `for` loop?\n",
    "\n",
    "1. Python sees we want to run a `for` loop. It turns to the iterable value at the end of the line (`s`, here), and asks: Are you really iterable? Do you really know how to behave inside of a `for` loop?\n",
    "    - If not, the loop exits with an error\n",
    "2. Assuming that the value is iterable, Python turns to the iterable, and says: What is your next value?\n",
    "    - If it's out of values, then the loop exits (with no error), and the program continues after the loop body\n",
    "3. If we get a value, then it is assigned to the loop variable (`one_character`, in this case)\n",
    "4. The loop body runs with the loop variable assigned\n",
    "5. We go back to step 2.\n",
    "\n",
    "The fact that I called the loop variable `one_character` has *ZERO* influence on what we get back with each iteration. The name of the variable is important to me, as a person, writing and maintaining the code. From Python's perspective, I could call it `tomato`, `one_terabyte`, or `my_favorite_uncle`. All would work exactly the same way.\n",
    "\n",
    "Strings in Python, when we iterate over them, give us one character at a time. You'll have to remember what each data type in Python returns when you iterate over it. (It's not that many, that hard, or that surprising.)"
   ]
  },
  {
   "cell_type": "markdown",
   "metadata": {},
   "source": [
    "# Other languages' loops\n",
    "\n",
    "- `do`-`while` where the condition is at the end\n",
    "- `loop` -- infinite loop\n",
    "- We don't have indexes in Python `for` loops, but other languages sometimes do\n",
    "- `for` loops in many languages are primitive, and require much more input from the programmer to do their thing"
   ]
  },
  {
   "cell_type": "markdown",
   "metadata": {},
   "source": [
    "# If you're used to `C` or similar languages...\n",
    "\n",
    "In those languages, a `for` loop works very differently.\n",
    "\n",
    "- You set a starting condition\n",
    "- You set the action to take after each iteration\n",
    "- You set the condition for ending\n",
    "\n",
    "This is usually done with an index, a number that tells you where you are in a string/list/etc.\n",
    "\n",
    "Python says: Why are you using an index (a number) to figure out what character you want from a string, when you can just get the characters themselves? \n",
    "\n",
    "For that reason, Python `for` loops don't have indexes! Rather, we just get the characters."
   ]
  },
  {
   "cell_type": "code",
   "execution_count": 7,
   "metadata": {},
   "outputs": [
    {
     "name": "stdout",
     "output_type": "stream",
     "text": [
      "\"a\"\n",
      "\"b\"\n",
      "\"c\"\n",
      "\"d\"\n",
      "\" \"\n",
      "\"e\"\n",
      "\"f\"\n",
      "\" \"\n",
      "\"g\"\n",
      "\"h\"\n",
      "\"i\"\n",
      "\"j\"\n"
     ]
    }
   ],
   "source": [
    "s = 'abcd ef ghij'\n",
    "\n",
    "for one_character in s:\n",
    "    print(f'\"{one_character}\"')"
   ]
  },
  {
   "cell_type": "markdown",
   "metadata": {},
   "source": [
    "# Python with Excel\n",
    "\n",
    "Python has some modules (week #5) that work with Excel. One of those is known as Pandas, and it is *great* at reading and even manipulating data from an Excel spreadsheet.\n",
    "\n",
    "I'm teaching a three-day course on Python and data analysis with Pandas starting on November 6. (Three Thursdays in a row.)"
   ]
  },
  {
   "cell_type": "code",
   "execution_count": null,
   "metadata": {},
   "outputs": [],
   "source": []
  },
  {
   "cell_type": "markdown",
   "metadata": {},
   "source": [
    "# Exercise: Vowels, digits, and others\n",
    "\n",
    "1. Define three variables, `vowels`, `digits`, and `others` all to be 0.\n",
    "2. Ask the user to enter some text.\n",
    "3. Go through the text, one character at a time.\n",
    "    - If the character is a vowel, add 1 to `vowels`\n",
    "    - If the character is a digit, add 1 to `digits`\n",
    "    - Otherwise, add 1 to `others`\n",
    "4. Print `vowels`, `digits`, and `others`.\n",
    "\n",
    "Example:\n",
    "\n",
    "    Enter text: hello!! 123\n",
    "    vowels: 2\n",
    "    digits: 3\n",
    "    others: 6"
   ]
  },
  {
   "cell_type": "code",
   "execution_count": 8,
   "metadata": {},
   "outputs": [
    {
     "name": "stdin",
     "output_type": "stream",
     "text": [
      "Enter text:  hello!! 123\n"
     ]
    },
    {
     "name": "stdout",
     "output_type": "stream",
     "text": [
      "vowels: 2\n",
      "digits: 3\n",
      "others: 6\n"
     ]
    }
   ],
   "source": [
    "vowels = 0   # assign the value 0 to the variable vowels (also, in this case, create the variable)\n",
    "digits = 0   # assign the value 0 to the variable digits\n",
    "others = 0   # assign the value 0 to the variable others\n",
    "\n",
    "text = input('Enter text: ').strip()\n",
    "\n",
    "for one_character in text:\n",
    "    if one_character in 'aeiou':     # if the character is a vowel...\n",
    "        vowels += 1                  # ... add 1 to vowels\n",
    "    elif one_character.isdigit():    # if the character is a digit...\n",
    "        digits += 1                  # ... add 1 to digits\n",
    "    else:\n",
    "        others += 1                  # if it's neither, then add 1 to others\n",
    "\n",
    "print(f'vowels: {vowels}')\n",
    "print(f'digits: {digits}')\n",
    "print(f'others: {others}')"
   ]
  },
  {
   "cell_type": "markdown",
   "metadata": {},
   "source": [
    "Link to Python tutor for this exercise: https://pythontutor.com/render.html#code=vowels%20%3D%200%20%20%20%23%20assign%20the%20value%200%20to%20the%20variable%20vowels%20%28also,%20in%20this%20case,%20create%20the%20variable%29%0Adigits%20%3D%200%20%20%20%23%20assign%20the%20value%200%20to%20the%20variable%20digits%0Aothers%20%3D%200%20%20%20%23%20assign%20the%20value%200%20to%20the%20variable%20others%0A%0Atext%20%3D%20input%28'Enter%20text%3A%20'%29.strip%28%29%0A%0Afor%20one_character%20in%20text%3A%0A%20%20%20%20if%20one_character%20in%20'aeiou'%3A%20%20%20%20%20%23%20if%20the%20character%20is%20a%20vowel...%0A%20%20%20%20%20%20%20%20vowels%20%2B%3D%201%20%20%20%20%20%20%20%20%20%20%20%20%20%20%20%20%20%20%23%20...%20add%201%20to%20vowels%0A%20%20%20%20elif%20one_character.isdigit%28%29%3A%20%20%20%20%23%20if%20the%20character%20is%20a%20digit...%0A%20%20%20%20%20%20%20%20digits%20%2B%3D%201%20%20%20%20%20%20%20%20%20%20%20%20%20%20%20%20%20%20%23%20...%20add%201%20to%20digits%0A%20%20%20%20else%3A%0A%20%20%20%20%20%20%20%20others%20%2B%3D%201%20%20%20%20%20%20%20%20%20%20%20%20%20%20%20%20%20%20%23%20if%20it's%20neither,%20then%20add%201%20to%20others%0A%0Aprint%28f'vowels%3A%20%7Bvowels%7D'%29%0Aprint%28f'digits%3A%20%7Bdigits%7D'%29%0Aprint%28f'others%3A%20%7Bothers%7D'%29&cumulative=false&curInstr=50&heapPrimitives=nevernest&mode=display&origin=opt-frontend.js&py=311&rawInputLstJSON=%5B%22hello!!%20123%22%5D&textReferences=false"
   ]
  },
  {
   "cell_type": "markdown",
   "metadata": {},
   "source": [
    "# What if I want to repeat an action several times?\n",
    "\n",
    "This happens a lot in our programs."
   ]
  },
  {
   "cell_type": "code",
   "execution_count": 9,
   "metadata": {},
   "outputs": [
    {
     "name": "stdout",
     "output_type": "stream",
     "text": [
      "Hooray!\n",
      "Hooray!\n",
      "Hooray!\n"
     ]
    }
   ],
   "source": [
    "# I'm teaching Python. I'm very happy!\n",
    "\n",
    "print('Hooray!')\n",
    "print('Hooray!')\n",
    "print('Hooray!')\n"
   ]
  },
  {
   "cell_type": "code",
   "execution_count": 10,
   "metadata": {},
   "outputs": [
    {
     "ename": "TypeError",
     "evalue": "'int' object is not iterable",
     "output_type": "error",
     "traceback": [
      "\u001b[31m---------------------------------------------------------------------------\u001b[39m",
      "\u001b[31mTypeError\u001b[39m                                 Traceback (most recent call last)",
      "\u001b[36mCell\u001b[39m\u001b[36m \u001b[39m\u001b[32mIn[10]\u001b[39m\u001b[32m, line 3\u001b[39m\n\u001b[32m      1\u001b[39m \u001b[38;5;66;03m# but... can I DRY up that code? \u001b[39;00m\n\u001b[32m----> \u001b[39m\u001b[32m3\u001b[39m \u001b[38;5;28;43;01mfor\u001b[39;49;00m\u001b[43m \u001b[49m\u001b[43mcounter\u001b[49m\u001b[43m \u001b[49m\u001b[38;5;129;43;01min\u001b[39;49;00m\u001b[43m \u001b[49m\u001b[32;43m3\u001b[39;49m\u001b[43m:\u001b[49m\n\u001b[32m      4\u001b[39m \u001b[43m    \u001b[49m\u001b[38;5;28;43mprint\u001b[39;49m\u001b[43m(\u001b[49m\u001b[33;43m'\u001b[39;49m\u001b[33;43mHooray!\u001b[39;49m\u001b[33;43m'\u001b[39;49m\u001b[43m)\u001b[49m   \n",
      "\u001b[31mTypeError\u001b[39m: 'int' object is not iterable"
     ]
    }
   ],
   "source": [
    "# but... can I DRY up that code? \n",
    "\n",
    "for counter in 3:  # is 3 iterable?  no, integers are not iterable!\n",
    "    print('Hooray!')   "
   ]
  },
  {
   "cell_type": "code",
   "execution_count": 11,
   "metadata": {},
   "outputs": [
    {
     "name": "stdout",
     "output_type": "stream",
     "text": [
      "Hooray!\n",
      "Hooray!\n",
      "Hooray!\n"
     ]
    }
   ],
   "source": [
    "# the solution: the \"range\" builtin\n",
    "# if you invoke range(n), you will get n iterations\n",
    "\n",
    "for counter in range(3):  # for turns to range(3), and asks what its next value is\n",
    "    print('Hooray!')   "
   ]
  },
  {
   "cell_type": "code",
   "execution_count": 12,
   "metadata": {},
   "outputs": [
    {
     "name": "stdout",
     "output_type": "stream",
     "text": [
      "0 Hooray!\n",
      "1 Hooray!\n",
      "2 Hooray!\n"
     ]
    }
   ],
   "source": [
    "# what are we getting from range(3), and what are we storing in counter?\n",
    "\n",
    "for counter in range(3):  # for turns to range(3), and asks what its next value is\n",
    "    print(f'{counter} Hooray!')  "
   ]
  },
  {
   "cell_type": "markdown",
   "metadata": {},
   "source": [
    "When you iterate over `range(n)`, you will get `n` iterations. The first will give you 0, the second 1, the third 2, etc., until you get to the final iteration, which gives you `n-1`."
   ]
  },
  {
   "cell_type": "code",
   "execution_count": 15,
   "metadata": {},
   "outputs": [
    {
     "name": "stdin",
     "output_type": "stream",
     "text": [
      "Enter a word: hello!! 123\n"
     ]
    },
    {
     "name": "stdout",
     "output_type": "stream",
     "text": [
      "vowels: 2\n",
      "digits: 3\n",
      "others: 6\n"
     ]
    }
   ],
   "source": [
    "# SB\n",
    "\n",
    "vowels = 0\n",
    "digits = 0\n",
    "others = 0\n",
    "\n",
    "text = input('Enter a word:')\n",
    "\n",
    "for letter in text:\n",
    "    # if 'aeiou' in text:   # this means: If the 5-character sequence 'aeiou' is in the user's input text\n",
    "    if letter in 'aeiou': # we want: if the current character is a vowel, meaning it's in 'aeiou'\n",
    "        vowels += 1\n",
    "    elif letter.isdigit():  # method syntax -- does the string letter contains only digits 0-9?\n",
    "        digits += 1\n",
    "    else:\n",
    "        others += 1\n",
    "print(f'vowels: {vowels}')   # f-string -- inside of {curly braces}, any Python values are \"interpolated\" into the string\n",
    "print(f'digits: {digits}')\n",
    "print(f'others: {others}')"
   ]
  },
  {
   "cell_type": "markdown",
   "metadata": {},
   "source": [
    "# Next up:\n",
    "\n",
    "1. Indexes (or the lack thereof)\n",
    "2. Controlling our loops with `break` and `continue`\n",
    "3. `while` loops"
   ]
  },
  {
   "cell_type": "markdown",
   "metadata": {},
   "source": [
    "# Indexes\n",
    "\n",
    "In C and similar languages, you iterate over a string with the following logic:\n",
    "\n",
    "- Assign 0 to `index`\n",
    "- Retrieve the value at `index`\n",
    "- Add 1 to `index`\n",
    "- Check if `index` is beyond the bounds of the string. If so, exit the loop\n",
    "\n",
    "In C, we retrieve the character based on the index.\n",
    "\n",
    "In Python, we don't need to do this! We already have the character! The index isn't needed!\n",
    "\n",
    "But... sometimes we want it."
   ]
  },
  {
   "cell_type": "code",
   "execution_count": 17,
   "metadata": {},
   "outputs": [
    {
     "name": "stdout",
     "output_type": "stream",
     "text": [
      "0: a\n",
      "1: b\n",
      "2: c\n",
      "3: d\n"
     ]
    }
   ],
   "source": [
    "# Method #1 for getting the index: Manually\n",
    "\n",
    "text = 'abcd'\n",
    "index = 0    # set index to be 0\n",
    "\n",
    "for one_letter in text:\n",
    "    print(f'{index}: {one_letter}')\n",
    "    index += 1    # increment the index"
   ]
  },
  {
   "cell_type": "code",
   "execution_count": 18,
   "metadata": {},
   "outputs": [
    {
     "name": "stdout",
     "output_type": "stream",
     "text": [
      "0: a\n",
      "1: b\n",
      "2: c\n",
      "3: d\n"
     ]
    }
   ],
   "source": [
    "# Method #2 for getting the index: Automatically with \"enumerate\"\n",
    "# enumerate is a function that wraps around an iterable value\n",
    "\n",
    "text = 'abcd'\n",
    "\n",
    "# with each iteration over enumerate(text), we'll get a character from text *plus* the current index\n",
    "# we can iterate over *two* values, both index and one_letter!\n",
    "\n",
    "for index, one_letter in enumerate(text):  \n",
    "    print(f'{index}: {one_letter}')"
   ]
  },
  {
   "cell_type": "code",
   "execution_count": null,
   "metadata": {},
   "outputs": [],
   "source": []
  }
 ],
 "metadata": {
  "kernelspec": {
   "display_name": "Python 3 (ipykernel)",
   "language": "python",
   "name": "python3"
  },
  "language_info": {
   "codemirror_mode": {
    "name": "ipython",
    "version": 3
   },
   "file_extension": ".py",
   "mimetype": "text/x-python",
   "name": "python",
   "nbconvert_exporter": "python",
   "pygments_lexer": "ipython3",
   "version": "3.13.9"
  }
 },
 "nbformat": 4,
 "nbformat_minor": 4
}
