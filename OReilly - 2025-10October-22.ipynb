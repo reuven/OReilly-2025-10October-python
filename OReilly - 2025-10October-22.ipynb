{
 "cells": [
  {
   "cell_type": "markdown",
   "metadata": {},
   "source": [
    "# Agenda, week 2\n",
    "\n",
    "1. Q&A\n",
    "2. Loops\n",
    "    - What loops are for\n",
    "    - `for` loops\n",
    "    - Using indexes (or not)\n",
    "    - Controlling our loops\n",
    "    - `while` loops as well\n",
    "    - How loops work behind the scenes\n",
    "3. Lists\n",
    "    - How are lists similar to and distinct from strings?\n",
    "    - Creating and working with lists (including list methods)\n",
    "    - Modifying lists, and what that means\n",
    "    - Looping over lists\n",
    "4. Turning strings into lists, and vice versa\n",
    "    - Turning a string into a list with `str.split`\n",
    "    - Turning a list into a string with `str.join`\n",
    "6. Tuples\n",
    "    - The third member (along with strings and lists) of the \"sequence\" family of data structures\n",
    "    - How tuples are similar to and different from lists\n",
    "    - Where we'll use tuples (spoiler: not that much!)\n",
    "    - Tuple unpacking"
   ]
  },
  {
   "cell_type": "code",
   "execution_count": 3,
   "metadata": {},
   "outputs": [
    {
     "name": "stdin",
     "output_type": "stream",
     "text": [
      "enter a word:  banana\n"
     ]
    },
    {
     "name": "stdout",
     "output_type": "stream",
     "text": [
      "bananaway\n"
     ]
    }
   ],
   "source": [
    "# KD\n",
    "\n",
    "text = input('enter a word: ')\n",
    "\n",
    "# what we want: If the first letter is a vowel (a, e, i, o, or u) then add \"way\" to the word\n",
    "if text[0] == 'a' or 'e' or 'i' or 'o' or 'u':\n",
    "    print (text + 'way')\n",
    "else:\n",
    "    print(text[1:] + text[0] + 'ay')"
   ]
  },
  {
   "cell_type": "markdown",
   "metadata": {},
   "source": [
    "# Conditions\n",
    "\n",
    "- `if` looks to its right. If it sees a `True` value, then its block runs.\n",
    "- If the condition for the `if` is `False`, then the `else` block runs\n",
    "\n",
    "We know, then, that the condition we've given is always returning `True`, no matter what.\n",
    "\n",
    "Why is that?\n",
    "\n",
    "Our condition in the above code is \n",
    "\n",
    "    text[0] == 'a' or 'e' or 'i' or 'o' or 'u'\n",
    "\n",
    "It feels like it should work, because we're saying, \"If the first character in `text` is a, or e, or i, or o, or u, then that should return `True`, and the `if` block should run.\n",
    "\n",
    "That's *not* actually what we're saying to Python!\n",
    "\n",
    "`and` and `or` are not for selecting from different options for `==`. Rather, `and` and `or` look to their left for a `True` or `False`, and look to their right for ar `True` or `False`.\n",
    "\n",
    "- `and` returns `True` if the items on its left and right are both `True`\n",
    "- `or` returns `True` if either of the items on its left or right are `True`\n",
    "\n",
    "What happened here?  We said that the condition should return \n",
    "\n",
    "- `text[0] == 'a'`\n",
    "- `'e'`  # this is our second condition! Not `text[0] == 'e'`, but just `'e'`!\n",
    "\n",
    "What does it mean to have a condition of just one letter, a string?\n",
    "\n",
    "In Python, nearly all values can be evaluated in what I call \"boolean context,\" meaning that they are forced to provide a `True` or `False` value. This is especially the case in `if`, `or`, and `and`.\n",
    "\n",
    "- Nearly every value in Python, when asked if it's `True` or `False` in that context (i.e., in an `if`, `and`, or `or`) will return `True`.\n",
    "- The exceptions are 0, `None`, and any empty value, such as the empty string, `''`\n",
    "\n",
    "So our `if` condition looks like this:\n",
    "\n",
    "    text[0] == 'a' or 'e' or 'i' or 'o' or 'u'\n",
    "\n",
    "But Python sees it as this:\n",
    "\n",
    "    text[0] == 'a' or True or True or True or True\n",
    "\n",
    "In other words, it will *always* be `True`!\n",
    "\n",
    "The way that we can avoid this is by having a full comparison on either side of `or`:\n",
    "\n",
    "    text[0] == 'a' or text[0] == 'e' or text[0] == 'i' or text[0] == 'o' or text[0] == 'u'\n",
    "\n",
    "But an easier way to write this test/condition is actually:\n",
    "\n",
    "    text[0] in 'aeiou'\n",
    "\n",
    "Thus the code can be\n",
    "\n",
    "    if text[0] in 'aeiou':\n",
    "        print(text + 'way')\n",
    "\n"
   ]
  },
  {
   "cell_type": "code",
   "execution_count": 4,
   "metadata": {},
   "outputs": [
    {
     "name": "stdout",
     "output_type": "stream",
     "text": [
      "a\n",
      "b\n",
      "c\n",
      "d\n"
     ]
    }
   ],
   "source": [
    "# Let's say I have a string\n",
    "\n",
    "s = 'abcd'\n",
    "\n",
    "# I want to print every letter in the string\n",
    "\n",
    "print(s[0])\n",
    "print(s[1])\n",
    "print(s[2])\n",
    "print(s[3])"
   ]
  },
  {
   "cell_type": "markdown",
   "metadata": {},
   "source": [
    "# This is a problem\n",
    "\n",
    "In programming, we try to avoid writing the same code (or almost the same code) multiple times. This is known as the \"DRY rule,\" for \"don't repeat yourself.\"\n",
    "\n",
    "If you see that you are repeating the same line (or more less) on subsequent lines, then you should consider a different way to write the code. Loops are one technique that comes up very often in this context.\n",
    "\n",
    "The idea of a loop is that we repeat the execution of some code until we have finished with some condition.\n",
    "\n",
    "There are two types of loops in Python:\n",
    "\n",
    "- `for` loops\n",
    "- `while` loops\n",
    "\n",
    "Other languages have many other kinds of loops, but in Python, that's all we have! Most of the time we'll use `for` loops."
   ]
  },
  {
   "cell_type": "code",
   "execution_count": null,
   "metadata": {},
   "outputs": [],
   "source": []
  }
 ],
 "metadata": {
  "kernelspec": {
   "display_name": "Python 3 (ipykernel)",
   "language": "python",
   "name": "python3"
  },
  "language_info": {
   "codemirror_mode": {
    "name": "ipython",
    "version": 3
   },
   "file_extension": ".py",
   "mimetype": "text/x-python",
   "name": "python",
   "nbconvert_exporter": "python",
   "pygments_lexer": "ipython3",
   "version": "3.13.9"
  }
 },
 "nbformat": 4,
 "nbformat_minor": 4
}
