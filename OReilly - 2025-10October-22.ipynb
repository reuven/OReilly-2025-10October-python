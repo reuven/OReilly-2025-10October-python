{
 "cells": [
  {
   "cell_type": "markdown",
   "metadata": {},
   "source": [
    "# Agenda, week 2\n",
    "\n",
    "1. Q&A\n",
    "2. Loops\n",
    "    - What loops are for\n",
    "    - `for` loops\n",
    "    - Using indexes (or not)\n",
    "    - Controlling our loops\n",
    "    - `while` loops as well\n",
    "    - How loops work behind the scenes\n",
    "3. Lists\n",
    "    - How are lists similar to and distinct from strings?\n",
    "    - Creating and working with lists (including list methods)\n",
    "    - Modifying lists, and what that means\n",
    "    - Looping over lists\n",
    "4. Turning strings into lists, and vice versa\n",
    "    - Turning a string into a list with `str.split`\n",
    "    - Turning a list into a string with `str.join`\n",
    "6. Tuples\n",
    "    - The third member (along with strings and lists) of the \"sequence\" family of data structures\n",
    "    - How tuples are similar to and different from lists\n",
    "    - Where we'll use tuples (spoiler: not that much!)\n",
    "    - Tuple unpacking"
   ]
  },
  {
   "cell_type": "code",
   "execution_count": null,
   "metadata": {},
   "outputs": [],
   "source": []
  }
 ],
 "metadata": {
  "kernelspec": {
   "display_name": "Python 3 (ipykernel)",
   "language": "python",
   "name": "python3"
  },
  "language_info": {
   "codemirror_mode": {
    "name": "ipython",
    "version": 3
   },
   "file_extension": ".py",
   "mimetype": "text/x-python",
   "name": "python",
   "nbconvert_exporter": "python",
   "pygments_lexer": "ipython3",
   "version": "3.13.9"
  }
 },
 "nbformat": 4,
 "nbformat_minor": 4
}
