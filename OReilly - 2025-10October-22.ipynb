{
 "cells": [
  {
   "cell_type": "markdown",
   "metadata": {},
   "source": [
    "# Agenda, week 2\n",
    "\n",
    "1. Q&A\n",
    "2. Loops\n",
    "    - What loops are for\n",
    "    - `for` loops\n",
    "    - Using indexes (or not)\n",
    "    - Controlling our loops\n",
    "    - `while` loops as well\n",
    "    - How loops work behind the scenes\n",
    "3. Lists\n",
    "    - How are lists similar to and distinct from strings?\n",
    "    - Creating and working with lists (including list methods)\n",
    "    - Modifying lists, and what that means\n",
    "    - Looping over lists\n",
    "4. Turning strings into lists, and vice versa\n",
    "    - Turning a string into a list with `str.split`\n",
    "    - Turning a list into a string with `str.join`\n",
    "6. Tuples\n",
    "    - The third member (along with strings and lists) of the \"sequence\" family of data structures\n",
    "    - How tuples are similar to and different from lists\n",
    "    - Where we'll use tuples (spoiler: not that much!)\n",
    "    - Tuple unpacking"
   ]
  },
  {
   "cell_type": "code",
   "execution_count": 3,
   "metadata": {},
   "outputs": [
    {
     "name": "stdin",
     "output_type": "stream",
     "text": [
      "enter a word:  banana\n"
     ]
    },
    {
     "name": "stdout",
     "output_type": "stream",
     "text": [
      "bananaway\n"
     ]
    }
   ],
   "source": [
    "# KD\n",
    "\n",
    "text = input('enter a word: ')\n",
    "\n",
    "# what we want: If the first letter is a vowel (a, e, i, o, or u) then add \"way\" to the word\n",
    "if text[0] == 'a' or 'e' or 'i' or 'o' or 'u':\n",
    "    print (text + 'way')\n",
    "else:\n",
    "    print(text[1:] + text[0] + 'ay')"
   ]
  },
  {
   "cell_type": "markdown",
   "metadata": {},
   "source": [
    "# Conditions\n",
    "\n",
    "- `if` looks to its right. If it sees a `True` value, then its block runs.\n",
    "- If the condition for the `if` is `False`, then the `else` block runs\n",
    "\n",
    "We know, then, that the condition we've given is always returning `True`, no matter what.\n",
    "\n",
    "Why is that?\n",
    "\n",
    "Our condition in the above code is \n",
    "\n",
    "    text[0] == 'a' or 'e' or 'i' or 'o' or 'u'\n",
    "\n",
    "It feels like it should work, because we're saying, \"If the first character in `text` is a, or e, or i, or o, or u, then that should return `True`, and the `if` block should run.\n",
    "\n",
    "That's *not* actually what we're saying to Python!\n",
    "\n",
    "`and` and `or` are not for selecting from different options for `==`. Rather, `and` and `or` look to their left for a `True` or `False`, and look to their right for ar `True` or `False`.\n",
    "\n",
    "- `and` returns `True` if the items on its left and right are both `True`\n",
    "- `or` returns `True` if either of the items on its left or right are `True`\n",
    "\n",
    "What happened here?  We said that the condition should return \n",
    "\n",
    "- `text[0] == 'a'`\n",
    "- `'e'`  # this is our second condition! Not `text[0] == 'e'`, but just `'e'`!\n",
    "\n",
    "What does it mean to have a condition of just one letter, a string?\n",
    "\n",
    "In Python, nearly all values can be evaluated in what I call \"boolean context,\" meaning that they are forced to provide a `True` or `False` value. This is especially the case in `if`, `or`, and `and`.\n",
    "\n",
    "- Nearly every value in Python, when asked if it's `True` or `False` in that context (i.e., in an `if`, `and`, or `or`) will return `True`.\n",
    "- The exceptions are 0, `None`, and any empty value, such as the empty string, `''`\n",
    "\n",
    "So our `if` condition looks like this:\n",
    "\n",
    "    text[0] == 'a' or 'e' or 'i' or 'o' or 'u'\n",
    "\n",
    "But Python sees it as this:\n",
    "\n",
    "    text[0] == 'a' or True or True or True or True\n",
    "\n",
    "In other words, it will *always* be `True`!\n",
    "\n",
    "The way that we can avoid this is by having a full comparison on either side of `or`:\n",
    "\n",
    "    text[0] == 'a' or text[0] == 'e' or text[0] == 'i' or text[0] == 'o' or text[0] == 'u'\n",
    "\n",
    "But an easier way to write this test/condition is actually:\n",
    "\n",
    "    text[0] in 'aeiou'\n",
    "\n",
    "Thus the code can be\n",
    "\n",
    "    if text[0] in 'aeiou':\n",
    "        print(text + 'way')\n",
    "\n"
   ]
  },
  {
   "cell_type": "code",
   "execution_count": 4,
   "metadata": {},
   "outputs": [
    {
     "name": "stdout",
     "output_type": "stream",
     "text": [
      "a\n",
      "b\n",
      "c\n",
      "d\n"
     ]
    }
   ],
   "source": [
    "# Let's say I have a string\n",
    "\n",
    "s = 'abcd'\n",
    "\n",
    "# I want to print every letter in the string\n",
    "\n",
    "print(s[0])\n",
    "print(s[1])\n",
    "print(s[2])\n",
    "print(s[3])"
   ]
  },
  {
   "cell_type": "markdown",
   "metadata": {},
   "source": [
    "# This is a problem\n",
    "\n",
    "In programming, we try to avoid writing the same code (or almost the same code) multiple times. This is known as the \"DRY rule,\" for \"don't repeat yourself.\"\n",
    "\n",
    "If you see that you are repeating the same line (or more less) on subsequent lines, then you should consider a different way to write the code. Loops are one technique that comes up very often in this context.\n",
    "\n",
    "The idea of a loop is that we repeat the execution of some code until we have finished with some condition.\n",
    "\n",
    "There are two types of loops in Python:\n",
    "\n",
    "- `for` loops\n",
    "- `while` loops\n",
    "\n",
    "Other languages have many other kinds of loops, but in Python, that's all we have! Most of the time we'll use `for` loops."
   ]
  },
  {
   "cell_type": "markdown",
   "metadata": {},
   "source": [
    "# `for` loops\n",
    "\n",
    "A `for` loop runs (for now) over a string, getting one character from the string at a time. The character is placed into a variable. We can do whatever we want with each *iteration* of our loop."
   ]
  },
  {
   "cell_type": "code",
   "execution_count": 6,
   "metadata": {},
   "outputs": [
    {
     "name": "stdout",
     "output_type": "stream",
     "text": [
      "Start\n",
      "a\n",
      "b\n",
      "c\n",
      "d\n",
      "End\n"
     ]
    }
   ],
   "source": [
    "s = 'abcd'\n",
    "\n",
    "print('Start')\n",
    "for one_character in s:\n",
    "    print(one_character) # we print the current character, and print automatically adds a newline after whatever it prints\n",
    "print('End')"
   ]
  },
  {
   "cell_type": "markdown",
   "metadata": {},
   "source": [
    "# Syntax of a `for` loop:\n",
    "\n",
    "- We start with the reserved word `for`\n",
    "- Then we name the *loop variable*, into which each value from the *iterable* will be assigned.\n",
    "- Then we have the reserved word `in`\n",
    "- Then we have the overall *iterable* value, the thing we want to go over, one item at a time.\n",
    "- Then, at the end of the line, we have a colon, `:`\n",
    "- Then we have an indented block. This block can contain *ANY PYTHON CODE YOU WANT*! That includes `print`, `input`, `if`, `for`.\n",
    "- The loop body can be as long or as short as you want."
   ]
  },
  {
   "cell_type": "markdown",
   "metadata": {},
   "source": [
    "# What's really happening in our `for` loop?\n",
    "\n",
    "1. Python sees we want to run a `for` loop. It turns to the iterable value at the end of the line (`s`, here), and asks: Are you really iterable? Do you really know how to behave inside of a `for` loop?\n",
    "    - If not, the loop exits with an error\n",
    "2. Assuming that the value is iterable, Python turns to the iterable, and says: What is your next value?\n",
    "    - If it's out of values, then the loop exits (with no error), and the program continues after the loop body\n",
    "3. If we get a value, then it is assigned to the loop variable (`one_character`, in this case)\n",
    "4. The loop body runs with the loop variable assigned\n",
    "5. We go back to step 2.\n",
    "\n",
    "The fact that I called the loop variable `one_character` has *ZERO* influence on what we get back with each iteration. The name of the variable is important to me, as a person, writing and maintaining the code. From Python's perspective, I could call it `tomato`, `one_terabyte`, or `my_favorite_uncle`. All would work exactly the same way.\n",
    "\n",
    "Strings in Python, when we iterate over them, give us one character at a time. You'll have to remember what each data type in Python returns when you iterate over it. (It's not that many, that hard, or that surprising.)"
   ]
  },
  {
   "cell_type": "markdown",
   "metadata": {},
   "source": [
    "# Other languages' loops\n",
    "\n",
    "- `do`-`while` where the condition is at the end\n",
    "- `loop` -- infinite loop\n",
    "- We don't have indexes in Python `for` loops, but other languages sometimes do\n",
    "- `for` loops in many languages are primitive, and require much more input from the programmer to do their thing"
   ]
  },
  {
   "cell_type": "markdown",
   "metadata": {},
   "source": [
    "# If you're used to `C` or similar languages...\n",
    "\n",
    "In those languages, a `for` loop works very differently.\n",
    "\n",
    "- You set a starting condition\n",
    "- You set the action to take after each iteration\n",
    "- You set the condition for ending\n",
    "\n",
    "This is usually done with an index, a number that tells you where you are in a string/list/etc.\n",
    "\n",
    "Python says: Why are you using an index (a number) to figure out what character you want from a string, when you can just get the characters themselves? \n",
    "\n",
    "For that reason, Python `for` loops don't have indexes! Rather, we just get the characters."
   ]
  },
  {
   "cell_type": "code",
   "execution_count": 7,
   "metadata": {},
   "outputs": [
    {
     "name": "stdout",
     "output_type": "stream",
     "text": [
      "\"a\"\n",
      "\"b\"\n",
      "\"c\"\n",
      "\"d\"\n",
      "\" \"\n",
      "\"e\"\n",
      "\"f\"\n",
      "\" \"\n",
      "\"g\"\n",
      "\"h\"\n",
      "\"i\"\n",
      "\"j\"\n"
     ]
    }
   ],
   "source": [
    "s = 'abcd ef ghij'\n",
    "\n",
    "for one_character in s:\n",
    "    print(f'\"{one_character}\"')"
   ]
  },
  {
   "cell_type": "markdown",
   "metadata": {},
   "source": [
    "# Python with Excel\n",
    "\n",
    "Python has some modules (week #5) that work with Excel. One of those is known as Pandas, and it is *great* at reading and even manipulating data from an Excel spreadsheet.\n",
    "\n",
    "I'm teaching a three-day course on Python and data analysis with Pandas starting on November 6. (Three Thursdays in a row.)"
   ]
  },
  {
   "cell_type": "code",
   "execution_count": null,
   "metadata": {},
   "outputs": [],
   "source": []
  },
  {
   "cell_type": "markdown",
   "metadata": {},
   "source": [
    "# Exercise: Vowels, digits, and others\n",
    "\n",
    "1. Define three variables, `vowels`, `digits`, and `others` all to be 0.\n",
    "2. Ask the user to enter some text.\n",
    "3. Go through the text, one character at a time.\n",
    "    - If the character is a vowel, add 1 to `vowels`\n",
    "    - If the character is a digit, add 1 to `digits`\n",
    "    - Otherwise, add 1 to `others`\n",
    "4. Print `vowels`, `digits`, and `others`.\n",
    "\n",
    "Example:\n",
    "\n",
    "    Enter text: hello!! 123\n",
    "    vowels: 2\n",
    "    digits: 3\n",
    "    others: 6"
   ]
  },
  {
   "cell_type": "code",
   "execution_count": 8,
   "metadata": {},
   "outputs": [
    {
     "name": "stdin",
     "output_type": "stream",
     "text": [
      "Enter text:  hello!! 123\n"
     ]
    },
    {
     "name": "stdout",
     "output_type": "stream",
     "text": [
      "vowels: 2\n",
      "digits: 3\n",
      "others: 6\n"
     ]
    }
   ],
   "source": [
    "vowels = 0   # assign the value 0 to the variable vowels (also, in this case, create the variable)\n",
    "digits = 0   # assign the value 0 to the variable digits\n",
    "others = 0   # assign the value 0 to the variable others\n",
    "\n",
    "text = input('Enter text: ').strip()\n",
    "\n",
    "for one_character in text:\n",
    "    if one_character in 'aeiou':     # if the character is a vowel...\n",
    "        vowels += 1                  # ... add 1 to vowels\n",
    "    elif one_character.isdigit():    # if the character is a digit...\n",
    "        digits += 1                  # ... add 1 to digits\n",
    "    else:\n",
    "        others += 1                  # if it's neither, then add 1 to others\n",
    "\n",
    "print(f'vowels: {vowels}')\n",
    "print(f'digits: {digits}')\n",
    "print(f'others: {others}')"
   ]
  },
  {
   "cell_type": "markdown",
   "metadata": {},
   "source": [
    "Link to Python tutor for this exercise: https://pythontutor.com/render.html#code=vowels%20%3D%200%20%20%20%23%20assign%20the%20value%200%20to%20the%20variable%20vowels%20%28also,%20in%20this%20case,%20create%20the%20variable%29%0Adigits%20%3D%200%20%20%20%23%20assign%20the%20value%200%20to%20the%20variable%20digits%0Aothers%20%3D%200%20%20%20%23%20assign%20the%20value%200%20to%20the%20variable%20others%0A%0Atext%20%3D%20input%28'Enter%20text%3A%20'%29.strip%28%29%0A%0Afor%20one_character%20in%20text%3A%0A%20%20%20%20if%20one_character%20in%20'aeiou'%3A%20%20%20%20%20%23%20if%20the%20character%20is%20a%20vowel...%0A%20%20%20%20%20%20%20%20vowels%20%2B%3D%201%20%20%20%20%20%20%20%20%20%20%20%20%20%20%20%20%20%20%23%20...%20add%201%20to%20vowels%0A%20%20%20%20elif%20one_character.isdigit%28%29%3A%20%20%20%20%23%20if%20the%20character%20is%20a%20digit...%0A%20%20%20%20%20%20%20%20digits%20%2B%3D%201%20%20%20%20%20%20%20%20%20%20%20%20%20%20%20%20%20%20%23%20...%20add%201%20to%20digits%0A%20%20%20%20else%3A%0A%20%20%20%20%20%20%20%20others%20%2B%3D%201%20%20%20%20%20%20%20%20%20%20%20%20%20%20%20%20%20%20%23%20if%20it's%20neither,%20then%20add%201%20to%20others%0A%0Aprint%28f'vowels%3A%20%7Bvowels%7D'%29%0Aprint%28f'digits%3A%20%7Bdigits%7D'%29%0Aprint%28f'others%3A%20%7Bothers%7D'%29&cumulative=false&curInstr=50&heapPrimitives=nevernest&mode=display&origin=opt-frontend.js&py=311&rawInputLstJSON=%5B%22hello!!%20123%22%5D&textReferences=false"
   ]
  },
  {
   "cell_type": "markdown",
   "metadata": {},
   "source": [
    "# What if I want to repeat an action several times?\n",
    "\n",
    "This happens a lot in our programs."
   ]
  },
  {
   "cell_type": "code",
   "execution_count": 9,
   "metadata": {},
   "outputs": [
    {
     "name": "stdout",
     "output_type": "stream",
     "text": [
      "Hooray!\n",
      "Hooray!\n",
      "Hooray!\n"
     ]
    }
   ],
   "source": [
    "# I'm teaching Python. I'm very happy!\n",
    "\n",
    "print('Hooray!')\n",
    "print('Hooray!')\n",
    "print('Hooray!')\n"
   ]
  },
  {
   "cell_type": "code",
   "execution_count": 10,
   "metadata": {},
   "outputs": [
    {
     "ename": "TypeError",
     "evalue": "'int' object is not iterable",
     "output_type": "error",
     "traceback": [
      "\u001b[31m---------------------------------------------------------------------------\u001b[39m",
      "\u001b[31mTypeError\u001b[39m                                 Traceback (most recent call last)",
      "\u001b[36mCell\u001b[39m\u001b[36m \u001b[39m\u001b[32mIn[10]\u001b[39m\u001b[32m, line 3\u001b[39m\n\u001b[32m      1\u001b[39m \u001b[38;5;66;03m# but... can I DRY up that code? \u001b[39;00m\n\u001b[32m----> \u001b[39m\u001b[32m3\u001b[39m \u001b[38;5;28;43;01mfor\u001b[39;49;00m\u001b[43m \u001b[49m\u001b[43mcounter\u001b[49m\u001b[43m \u001b[49m\u001b[38;5;129;43;01min\u001b[39;49;00m\u001b[43m \u001b[49m\u001b[32;43m3\u001b[39;49m\u001b[43m:\u001b[49m\n\u001b[32m      4\u001b[39m \u001b[43m    \u001b[49m\u001b[38;5;28;43mprint\u001b[39;49m\u001b[43m(\u001b[49m\u001b[33;43m'\u001b[39;49m\u001b[33;43mHooray!\u001b[39;49m\u001b[33;43m'\u001b[39;49m\u001b[43m)\u001b[49m   \n",
      "\u001b[31mTypeError\u001b[39m: 'int' object is not iterable"
     ]
    }
   ],
   "source": [
    "# but... can I DRY up that code? \n",
    "\n",
    "for counter in 3:  # is 3 iterable?  no, integers are not iterable!\n",
    "    print('Hooray!')   "
   ]
  },
  {
   "cell_type": "code",
   "execution_count": 11,
   "metadata": {},
   "outputs": [
    {
     "name": "stdout",
     "output_type": "stream",
     "text": [
      "Hooray!\n",
      "Hooray!\n",
      "Hooray!\n"
     ]
    }
   ],
   "source": [
    "# the solution: the \"range\" builtin\n",
    "# if you invoke range(n), you will get n iterations\n",
    "\n",
    "for counter in range(3):  # for turns to range(3), and asks what its next value is\n",
    "    print('Hooray!')   "
   ]
  },
  {
   "cell_type": "code",
   "execution_count": 12,
   "metadata": {},
   "outputs": [
    {
     "name": "stdout",
     "output_type": "stream",
     "text": [
      "0 Hooray!\n",
      "1 Hooray!\n",
      "2 Hooray!\n"
     ]
    }
   ],
   "source": [
    "# what are we getting from range(3), and what are we storing in counter?\n",
    "\n",
    "for counter in range(3):  # for turns to range(3), and asks what its next value is\n",
    "    print(f'{counter} Hooray!')  "
   ]
  },
  {
   "cell_type": "markdown",
   "metadata": {},
   "source": [
    "When you iterate over `range(n)`, you will get `n` iterations. The first will give you 0, the second 1, the third 2, etc., until you get to the final iteration, which gives you `n-1`."
   ]
  },
  {
   "cell_type": "code",
   "execution_count": 15,
   "metadata": {},
   "outputs": [
    {
     "name": "stdin",
     "output_type": "stream",
     "text": [
      "Enter a word: hello!! 123\n"
     ]
    },
    {
     "name": "stdout",
     "output_type": "stream",
     "text": [
      "vowels: 2\n",
      "digits: 3\n",
      "others: 6\n"
     ]
    }
   ],
   "source": [
    "# SB\n",
    "\n",
    "vowels = 0\n",
    "digits = 0\n",
    "others = 0\n",
    "\n",
    "text = input('Enter a word:')\n",
    "\n",
    "for letter in text:\n",
    "    # if 'aeiou' in text:   # this means: If the 5-character sequence 'aeiou' is in the user's input text\n",
    "    if letter in 'aeiou': # we want: if the current character is a vowel, meaning it's in 'aeiou'\n",
    "        vowels += 1\n",
    "    elif letter.isdigit():  # method syntax -- does the string letter contains only digits 0-9?\n",
    "        digits += 1\n",
    "    else:\n",
    "        others += 1\n",
    "print(f'vowels: {vowels}')   # f-string -- inside of {curly braces}, any Python values are \"interpolated\" into the string\n",
    "print(f'digits: {digits}')\n",
    "print(f'others: {others}')"
   ]
  },
  {
   "cell_type": "markdown",
   "metadata": {},
   "source": [
    "# Next up:\n",
    "\n",
    "1. Indexes (or the lack thereof)\n",
    "2. Controlling our loops with `break` and `continue`\n",
    "3. `while` loops"
   ]
  },
  {
   "cell_type": "markdown",
   "metadata": {},
   "source": [
    "# Indexes\n",
    "\n",
    "In C and similar languages, you iterate over a string with the following logic:\n",
    "\n",
    "- Assign 0 to `index`\n",
    "- Retrieve the value at `index`\n",
    "- Add 1 to `index`\n",
    "- Check if `index` is beyond the bounds of the string. If so, exit the loop\n",
    "\n",
    "In C, we retrieve the character based on the index.\n",
    "\n",
    "In Python, we don't need to do this! We already have the character! The index isn't needed!\n",
    "\n",
    "But... sometimes we want it."
   ]
  },
  {
   "cell_type": "code",
   "execution_count": 17,
   "metadata": {},
   "outputs": [
    {
     "name": "stdout",
     "output_type": "stream",
     "text": [
      "0: a\n",
      "1: b\n",
      "2: c\n",
      "3: d\n"
     ]
    }
   ],
   "source": [
    "# Method #1 for getting the index: Manually\n",
    "\n",
    "text = 'abcd'\n",
    "index = 0    # set index to be 0\n",
    "\n",
    "for one_letter in text:\n",
    "    print(f'{index}: {one_letter}')\n",
    "    index += 1    # increment the index"
   ]
  },
  {
   "cell_type": "code",
   "execution_count": 18,
   "metadata": {},
   "outputs": [
    {
     "name": "stdout",
     "output_type": "stream",
     "text": [
      "0: a\n",
      "1: b\n",
      "2: c\n",
      "3: d\n"
     ]
    }
   ],
   "source": [
    "# Method #2 for getting the index: Automatically with \"enumerate\"\n",
    "# enumerate is a function that wraps around an iterable value\n",
    "\n",
    "text = 'abcd'\n",
    "\n",
    "# with each iteration over enumerate(text), we'll get a character from text *plus* the current index\n",
    "# we can iterate over *two* values, both index and one_letter!\n",
    "\n",
    "for index, one_letter in enumerate(text):  \n",
    "    print(f'{index}: {one_letter}')"
   ]
  },
  {
   "cell_type": "markdown",
   "metadata": {},
   "source": [
    "# Exercise: Powers of 10\n",
    "\n",
    "Given a decimal number, we can expand it to reflect its underlying contents as powers of 10. For example, the number 2479 could be written as:\n",
    "\n",
    "    2 * 10**3\n",
    "    4 * 10**2\n",
    "    7 * 10**1\n",
    "    9 * 10**0   # yes, the 0th power makes everything 1\n",
    "\n",
    "1. Ask the user to enter a number.\n",
    "2. (You can assume that each character in the number is a digit.)\n",
    "3. Go through each digit, and print it (on a separate line) as I did above, with the digit, and then 10 to the appropriate power.\n",
    "4. Think about how you can caluclate the power based on the string (input) length and the current index."
   ]
  },
  {
   "cell_type": "code",
   "execution_count": 23,
   "metadata": {},
   "outputs": [
    {
     "name": "stdin",
     "output_type": "stream",
     "text": [
      "Enter a number:  2479\n"
     ]
    },
    {
     "name": "stdout",
     "output_type": "stream",
     "text": [
      "2 * 10**3\n",
      "4 * 10**2\n",
      "7 * 10**1\n",
      "9 * 10**0\n"
     ]
    }
   ],
   "source": [
    "s = input('Enter a number: ').strip()\n",
    "\n",
    "for index, one_digit in enumerate(s):\n",
    "    power = len(s) - index - 1\n",
    "    print(f'{one_digit} * 10**{power}')"
   ]
  },
  {
   "cell_type": "markdown",
   "metadata": {},
   "source": [
    "# Controlling our loops\n",
    "\n",
    "So far, we've seen that when we run a `for` loop on a string, we start with the first character and end with the final character.\n",
    "\n",
    "But what if:\n",
    "\n",
    "- We achieve our goal, and can exit the loop early? Why remain in the loop if we don't have to?\n",
    "- We see that the current iteration is irrelevant, and we want to go onto the next one?\n",
    "\n",
    "Python provides us with two commands we can use in a loop (and only in a loop):\n",
    "\n",
    "- `break` to exit the loop immediately. The rest of the loop body is not executed, and the rest of the iterations aren't, either. It's common to use `break` if we aren't sure how many iterations will be needed to achieve our goals. Once our goals are achieved, we can just `break` from the loop.\n",
    "- `continue` to exit the current iteration, and skip to the next one. The rest of the loop body isn't executed. This is typically done if the current iteration is clearly unsuitable/unneded. If we're iterating over the lines of a file, and we encounter a blank line or a comment line, then we can use `continue` to go onto the next one."
   ]
  },
  {
   "cell_type": "code",
   "execution_count": 24,
   "metadata": {},
   "outputs": [
    {
     "name": "stdout",
     "output_type": "stream",
     "text": [
      "Start\n",
      "a\n",
      "b\n",
      "c\n",
      "End\n"
     ]
    }
   ],
   "source": [
    "# example with break -- stop the loop when we find look_for\n",
    "\n",
    "s = 'abcde'\n",
    "look_for = 'd'\n",
    "\n",
    "print('Start')\n",
    "for one_character in s:\n",
    "    if one_character == look_for:\n",
    "        break\n",
    "\n",
    "    print(one_character)\n",
    "print('End')"
   ]
  },
  {
   "cell_type": "code",
   "execution_count": 25,
   "metadata": {},
   "outputs": [
    {
     "name": "stdout",
     "output_type": "stream",
     "text": [
      "Start\n",
      "a\n",
      "b\n",
      "c\n",
      "e\n",
      "End\n"
     ]
    }
   ],
   "source": [
    "# example with continue -- stop the current iteration when we find look_for\n",
    "\n",
    "s = 'abcde'\n",
    "look_for = 'd'\n",
    "\n",
    "print('Start')\n",
    "for one_character in s:\n",
    "    if one_character == look_for:\n",
    "        continue\n",
    "\n",
    "    print(one_character)\n",
    "print('End')"
   ]
  },
  {
   "cell_type": "markdown",
   "metadata": {},
   "source": [
    "# `while` loops\n",
    "\n",
    "A `for` loop executes on a sequence, and gives us each element of that sequence. The idea is that we want to do something with each element.\n",
    "\n",
    "However, sometimes we don't know how many iterations we need. If we do, then we can use a string or even `range`, which lets us specify a number.\n",
    "\n",
    "But sometimes, I only know when to exit a loop when I see a particular condition. I might need to iterate 10, 1,000, or even 1m times. How can I structure a loop such that it'll run repeatedly until some condition is met?\n",
    "\n",
    "That's where `while` comes in: It's like an `if` statement, but after the body executes, the condition is checked again. So long as the condition is `True`, the loop body is executed."
   ]
  },
  {
   "cell_type": "code",
   "execution_count": 26,
   "metadata": {},
   "outputs": [
    {
     "name": "stdout",
     "output_type": "stream",
     "text": [
      "5\n",
      "4\n",
      "3\n",
      "2\n",
      "1\n"
     ]
    }
   ],
   "source": [
    "x = 5\n",
    "\n",
    "while x > 0:\n",
    "    print(x)\n",
    "    x -= 1   # reduce x by 1"
   ]
  },
  {
   "cell_type": "code",
   "execution_count": 27,
   "metadata": {},
   "outputs": [
    {
     "ename": "_IncompleteInputError",
     "evalue": "incomplete input (3114553019.py, line 1)",
     "output_type": "error",
     "traceback": [
      "  \u001b[36mCell\u001b[39m\u001b[36m \u001b[39m\u001b[32mIn[27]\u001b[39m\u001b[32m, line 1\u001b[39m\n\u001b[31m    \u001b[39m\u001b[31mwhile True:    # this means: keep going forever, because the condition to while's right will never be `False`\u001b[39m\n                                                                                                                 ^\n\u001b[31m_IncompleteInputError\u001b[39m\u001b[31m:\u001b[39m incomplete input\n"
     ]
    }
   ],
   "source": [
    "while True:    # this means: keep going forever, because the condition to while's right will never be `False`"
   ]
  },
  {
   "cell_type": "markdown",
   "metadata": {},
   "source": [
    "# Exercise: Sum digits\n",
    "\n",
    "1. Set `total` to 0.\n",
    "2. Ask the user to enter a string containing digits.\n",
    "3. Go through the string, one character at a time.\n",
    "    - If the current character is `.`, stop altogether.\n",
    "    - If the current character isn't a digit, scold the user and move onto the next one\n",
    "4. Convert the current digit to an integer and add it to `total`. The print `total`.\n",
    "\n",
    "Example:\n",
    "\n",
    "    Enter digits: 135a.4\n",
    "    adding 1, total is 1\n",
    "    adding 3, total is 4\n",
    "    adding 5, total is 9\n",
    "    skipping a, not a digit\n",
    "    stopping on .\n",
    "    total is 9\n",
    "\n",
    "    "
   ]
  },
  {
   "cell_type": "code",
   "execution_count": 33,
   "metadata": {},
   "outputs": [
    {
     "name": "stdin",
     "output_type": "stream",
     "text": [
      "Enter digits:  135a.4\n"
     ]
    },
    {
     "name": "stdout",
     "output_type": "stream",
     "text": [
      "Added 1, total is now 1\n",
      "Added 3, total is now 4\n",
      "Added 5, total is now 9\n",
      "Ignoring a, not a digit\n",
      "Stopping on .\n",
      "total = 9\n"
     ]
    }
   ],
   "source": [
    "total = 0\n",
    "\n",
    "s = input('Enter digits: ').strip()\n",
    "\n",
    "for one_digit in s:\n",
    "    if one_digit == '.':\n",
    "        print('Stopping on .')\n",
    "        break\n",
    "    elif one_digit.isdigit():\n",
    "        n = int(one_digit)   # get an integer based on the digit (which is a string)        \n",
    "        total += n\n",
    "        print(f'Added {n}, total is now {total}')\n",
    "    else:\n",
    "        print(f'Ignoring {one_digit}, not a digit')\n",
    "\n",
    "print(f'total = {total}')    "
   ]
  },
  {
   "cell_type": "markdown",
   "metadata": {},
   "source": [
    "# Next up\n",
    "\n",
    "1. Review and practice `while` loops\n",
    "2. Talk about lists!\n",
    "    - Creating\n",
    "    - Retrieving from them\n",
    "    - Modifying them\n",
    "    - Lots of list methods"
   ]
  },
  {
   "cell_type": "markdown",
   "metadata": {},
   "source": [
    "The whole point of a `while` loop is that we want to execute the loop body repeatedly until the condition is `False`. The condition is checked at the start of each loop iteration."
   ]
  },
  {
   "cell_type": "markdown",
   "metadata": {},
   "source": [
    "# Exercise: Sum to 100\n",
    "\n",
    "1. Set `total` to 0.\n",
    "2. Ask the user to enter a number.\n",
    "    - If they enter a non-number, then scold them and have them try again\n",
    "3. Add the number to `total`, and print `total`.\n",
    "4. Keep doing steps 2-3 until `total` is `>=` 100. At that point, stop."
   ]
  },
  {
   "cell_type": "code",
   "execution_count": 37,
   "metadata": {},
   "outputs": [
    {
     "name": "stdin",
     "output_type": "stream",
     "text": [
      "Enter a number:  10\n"
     ]
    },
    {
     "name": "stdout",
     "output_type": "stream",
     "text": [
      "Total = 10\n"
     ]
    },
    {
     "name": "stdin",
     "output_type": "stream",
     "text": [
      "Enter a number:  20\n"
     ]
    },
    {
     "name": "stdout",
     "output_type": "stream",
     "text": [
      "Total = 30\n"
     ]
    },
    {
     "name": "stdin",
     "output_type": "stream",
     "text": [
      "Enter a number:  hello\n"
     ]
    },
    {
     "name": "stdout",
     "output_type": "stream",
     "text": [
      "Ignoring hello; not numeric\n"
     ]
    },
    {
     "name": "stdin",
     "output_type": "stream",
     "text": [
      "Enter a number:  whatever\n"
     ]
    },
    {
     "name": "stdout",
     "output_type": "stream",
     "text": [
      "Ignoring whatever; not numeric\n"
     ]
    },
    {
     "name": "stdin",
     "output_type": "stream",
     "text": [
      "Enter a number:  ninety\n"
     ]
    },
    {
     "name": "stdout",
     "output_type": "stream",
     "text": [
      "Ignoring ninety; not numeric\n"
     ]
    },
    {
     "name": "stdin",
     "output_type": "stream",
     "text": [
      "Enter a number:  9\n"
     ]
    },
    {
     "name": "stdout",
     "output_type": "stream",
     "text": [
      "Total = 39\n"
     ]
    },
    {
     "name": "stdin",
     "output_type": "stream",
     "text": [
      "Enter a number:  10\n"
     ]
    },
    {
     "name": "stdout",
     "output_type": "stream",
     "text": [
      "Total = 49\n"
     ]
    },
    {
     "name": "stdin",
     "output_type": "stream",
     "text": [
      "Enter a number:  50\n"
     ]
    },
    {
     "name": "stdout",
     "output_type": "stream",
     "text": [
      "Total = 99\n"
     ]
    },
    {
     "name": "stdin",
     "output_type": "stream",
     "text": [
      "Enter a number:  1\n"
     ]
    },
    {
     "name": "stdout",
     "output_type": "stream",
     "text": [
      "Total = 100\n"
     ]
    }
   ],
   "source": [
    "total = 0\n",
    "\n",
    "while total < 100:    # so long as total is < 100, keep asking!\n",
    "    s = input('Enter a number: ').strip()\n",
    "    \n",
    "    if not s.isdigit():\n",
    "        print(f'Ignoring {s}; not numeric')\n",
    "        continue\n",
    "        \n",
    "    n = int(s)   # get an integer from the user's input string\n",
    "    total += n\n",
    "    print(f'Total = {total}')"
   ]
  },
  {
   "cell_type": "code",
   "execution_count": 39,
   "metadata": {},
   "outputs": [
    {
     "name": "stdin",
     "output_type": "stream",
     "text": [
      "Enter a number:  10\n"
     ]
    },
    {
     "name": "stdout",
     "output_type": "stream",
     "text": [
      "10\n"
     ]
    },
    {
     "name": "stdin",
     "output_type": "stream",
     "text": [
      "Enter a number:  30\n"
     ]
    },
    {
     "name": "stdout",
     "output_type": "stream",
     "text": [
      "40\n"
     ]
    },
    {
     "name": "stdin",
     "output_type": "stream",
     "text": [
      "Enter a number:  hello\n"
     ]
    },
    {
     "name": "stdout",
     "output_type": "stream",
     "text": [
      "Kindly enter a number\n"
     ]
    },
    {
     "name": "stdin",
     "output_type": "stream",
     "text": [
      "Enter a number:  20\n"
     ]
    },
    {
     "name": "stdout",
     "output_type": "stream",
     "text": [
      "60\n"
     ]
    },
    {
     "name": "stdin",
     "output_type": "stream",
     "text": [
      "Enter a number:  15.8\n"
     ]
    },
    {
     "name": "stdout",
     "output_type": "stream",
     "text": [
      "Kindly enter a number\n"
     ]
    },
    {
     "name": "stdin",
     "output_type": "stream",
     "text": [
      "Enter a number:  50\n"
     ]
    },
    {
     "name": "stdout",
     "output_type": "stream",
     "text": [
      "110\n"
     ]
    }
   ],
   "source": [
    "# SB\n",
    "\n",
    "total = 0\n",
    "\n",
    "\n",
    "while total < 100:                    # so long as the user's number is >= 100\n",
    "    num = input('Enter a number: ')   # get input from the user\n",
    "    if num.isdigit():                 # if the user's input contains only digits\n",
    "        total += int(num)     \n",
    "        print(f'{total}')\n",
    "    else:\n",
    "        print('Kindly enter a number')"
   ]
  },
  {
   "cell_type": "markdown",
   "metadata": {},
   "source": [
    "# Lists\n",
    "\n",
    "Lists are Python's \"generic container class.\" Meaning: If you need to store a bunch of values, then you will probably first turn to a list.\n",
    "\n",
    "- A list can contain any number of elements\n",
    "- The elements can be of any type, and can be mixed up in the list\n",
    "- That said, Python conventions ask us to keep all of the elements of one type\n",
    "- The order of items in a list doesn't change unless we explicitly move/change them\n",
    "\n",
    "Other languages often have data types that are similar to lists, but they call them \"arrays.\" The fact is, lists are *not* arrays, in part because they can contain any combination of data structures, and partly because they can change in size over time.\n",
    "\n",
    "To define a list, you'll use `[]`.\n",
    "\n",
    "- The empty list is written as `[]`.\n",
    "- Elements in a list are separated by `,` (comma)\n"
   ]
  },
  {
   "cell_type": "code",
   "execution_count": 40,
   "metadata": {},
   "outputs": [
    {
     "data": {
      "text/plain": [
       "list"
      ]
     },
     "execution_count": 40,
     "metadata": {},
     "output_type": "execute_result"
    }
   ],
   "source": [
    "mylist = [10, 20, 30]\n",
    "\n",
    "type(mylist) "
   ]
  },
  {
   "cell_type": "code",
   "execution_count": 41,
   "metadata": {},
   "outputs": [
    {
     "data": {
      "text/plain": [
       "list"
      ]
     },
     "execution_count": 41,
     "metadata": {},
     "output_type": "execute_result"
    }
   ],
   "source": [
    "mylist = ['abcd', 'ef', 'ghij', 'klm']\n",
    "\n",
    "type(mylist)"
   ]
  },
  {
   "cell_type": "code",
   "execution_count": 42,
   "metadata": {},
   "outputs": [
    {
     "data": {
      "text/plain": [
       "4"
      ]
     },
     "execution_count": 42,
     "metadata": {},
     "output_type": "execute_result"
    }
   ],
   "source": [
    "# lists are sequences, just like strings\n",
    "# sequences have a lot of functionality in common\n",
    "\n",
    "len(mylist)  # get the length"
   ]
  },
  {
   "cell_type": "code",
   "execution_count": 43,
   "metadata": {},
   "outputs": [
    {
     "data": {
      "text/plain": [
       "'abcd'"
      ]
     },
     "execution_count": 43,
     "metadata": {},
     "output_type": "execute_result"
    }
   ],
   "source": [
    "mylist[0]  # get the first element"
   ]
  },
  {
   "cell_type": "code",
   "execution_count": 44,
   "metadata": {},
   "outputs": [
    {
     "data": {
      "text/plain": [
       "'ef'"
      ]
     },
     "execution_count": 44,
     "metadata": {},
     "output_type": "execute_result"
    }
   ],
   "source": [
    "mylist[1] # get the second element"
   ]
  },
  {
   "cell_type": "code",
   "execution_count": 45,
   "metadata": {},
   "outputs": [
    {
     "data": {
      "text/plain": [
       "['ghij', 'klm']"
      ]
     },
     "execution_count": 45,
     "metadata": {},
     "output_type": "execute_result"
    }
   ],
   "source": [
    "mylist[2:4]  # get a list slice"
   ]
  },
  {
   "cell_type": "code",
   "execution_count": 46,
   "metadata": {},
   "outputs": [
    {
     "name": "stdout",
     "output_type": "stream",
     "text": [
      "abcd\n",
      "ef\n",
      "ghij\n",
      "klm\n"
     ]
    }
   ],
   "source": [
    "for one_item in mylist:\n",
    "    print(one_item)"
   ]
  },
  {
   "cell_type": "markdown",
   "metadata": {},
   "source": [
    "# Where do we use lists? What do we store in them?\n",
    "\n",
    "Answer: Just about everything.\n",
    "\n",
    "- Files in a directory come to us as a list\n",
    "- User records from a database come to us as a list\n",
    "- User info from the system comes as a list\n",
    "\n"
   ]
  },
  {
   "cell_type": "code",
   "execution_count": 47,
   "metadata": {},
   "outputs": [
    {
     "data": {
      "text/plain": [
       "['abcd', 'ef', 'ghij', 'klm']"
      ]
     },
     "execution_count": 47,
     "metadata": {},
     "output_type": "execute_result"
    }
   ],
   "source": [
    "mylist"
   ]
  },
  {
   "cell_type": "code",
   "execution_count": 48,
   "metadata": {},
   "outputs": [
    {
     "data": {
      "text/plain": [
       "True"
      ]
     },
     "execution_count": 48,
     "metadata": {},
     "output_type": "execute_result"
    }
   ],
   "source": [
    "'ghij' in mylist  "
   ]
  },
  {
   "cell_type": "code",
   "execution_count": 49,
   "metadata": {},
   "outputs": [
    {
     "data": {
      "text/plain": [
       "False"
      ]
     },
     "execution_count": 49,
     "metadata": {},
     "output_type": "execute_result"
    }
   ],
   "source": [
    "'g' in mylist"
   ]
  },
  {
   "cell_type": "markdown",
   "metadata": {},
   "source": [
    "# Lists are *mutable*\n",
    "\n",
    "We cannot modify strings; they are *immutable*. But we can modify a list in three different ways:\n",
    "\n",
    "- We can replace a value with another value\n",
    "- We can add new elements to the list, making it longer\n",
    "- We can remove existing elements from the list, making it shorter"
   ]
  },
  {
   "cell_type": "code",
   "execution_count": 50,
   "metadata": {},
   "outputs": [],
   "source": [
    "# modifying a list\n",
    "\n",
    "mylist = [10, 20, 30, 40, 50, 60]\n",
    "\n",
    "mylist[3] = '!!!!'"
   ]
  },
  {
   "cell_type": "code",
   "execution_count": 51,
   "metadata": {},
   "outputs": [
    {
     "data": {
      "text/plain": [
       "'!!!!'"
      ]
     },
     "execution_count": 51,
     "metadata": {},
     "output_type": "execute_result"
    }
   ],
   "source": [
    "mylist[3]"
   ]
  },
  {
   "cell_type": "code",
   "execution_count": 52,
   "metadata": {},
   "outputs": [
    {
     "data": {
      "text/plain": [
       "[10, 20, 30, '!!!!', 50, 60]"
      ]
     },
     "execution_count": 52,
     "metadata": {},
     "output_type": "execute_result"
    }
   ],
   "source": [
    "mylist"
   ]
  },
  {
   "cell_type": "code",
   "execution_count": 53,
   "metadata": {},
   "outputs": [
    {
     "data": {
      "text/plain": [
       "'1'"
      ]
     },
     "execution_count": 53,
     "metadata": {},
     "output_type": "execute_result"
    }
   ],
   "source": [
    "s"
   ]
  },
  {
   "cell_type": "code",
   "execution_count": 54,
   "metadata": {},
   "outputs": [
    {
     "ename": "TypeError",
     "evalue": "'str' object does not support item assignment",
     "output_type": "error",
     "traceback": [
      "\u001b[31m---------------------------------------------------------------------------\u001b[39m",
      "\u001b[31mTypeError\u001b[39m                                 Traceback (most recent call last)",
      "\u001b[36mCell\u001b[39m\u001b[36m \u001b[39m\u001b[32mIn[54]\u001b[39m\u001b[32m, line 3\u001b[39m\n\u001b[32m      1\u001b[39m s = \u001b[33m'\u001b[39m\u001b[33mabcdefghij\u001b[39m\u001b[33m'\u001b[39m\n\u001b[32m----> \u001b[39m\u001b[32m3\u001b[39m \u001b[43ms\u001b[49m\u001b[43m[\u001b[49m\u001b[32;43m3\u001b[39;49m\u001b[43m]\u001b[49m = \u001b[33m'\u001b[39m\u001b[33m!\u001b[39m\u001b[33m'\u001b[39m\n",
      "\u001b[31mTypeError\u001b[39m: 'str' object does not support item assignment"
     ]
    }
   ],
   "source": [
    "s = 'abcdefghij'\n",
    "\n",
    "s[3] = '!'"
   ]
  },
  {
   "cell_type": "code",
   "execution_count": 55,
   "metadata": {},
   "outputs": [
    {
     "data": {
      "text/plain": [
       "[10, 20, 30, 40]"
      ]
     },
     "execution_count": 55,
     "metadata": {},
     "output_type": "execute_result"
    }
   ],
   "source": [
    "# to add an element to a list, use the list.append method\n",
    "\n",
    "mylist = [10, 20, 30]\n",
    "mylist.append(40) # this will be added to the end of the list\n",
    "\n",
    "mylist"
   ]
  },
  {
   "cell_type": "markdown",
   "metadata": {},
   "source": [
    "# Exercise: Vowels, digits, and others (list edition)\n",
    "\n",
    "1. Set up three empty lists -- `vowels`, `digits`, and `others`\n",
    "2. Ask the user to enter a string\n",
    "3. Go through the string one character at a time.\n",
    "    - If it's a vowel, append the character to the end of `vowels`\n",
    "    - If it's a digit, append the character to the end of `digits`\n",
    "    - Otherwise, append it to the end of `others`."
   ]
  },
  {
   "cell_type": "code",
   "execution_count": 56,
   "metadata": {},
   "outputs": [
    {
     "name": "stdin",
     "output_type": "stream",
     "text": [
      "Enter text:  hello!! 123\n"
     ]
    },
    {
     "name": "stdout",
     "output_type": "stream",
     "text": [
      "vowels: ['e', 'o']\n",
      "digits: ['1', '2', '3']\n",
      "others: ['h', 'l', 'l', '!', '!', ' ']\n"
     ]
    }
   ],
   "source": [
    "vowels = []\n",
    "digits = []\n",
    "others = []\n",
    "\n",
    "text = input('Enter text: ').strip()\n",
    "\n",
    "for one_character in text:\n",
    "    if one_character in 'aeiou':     # if the character is a vowel...\n",
    "        vowels.append(one_character) # ... add one_character to the end of vowels\n",
    "    elif one_character.isdigit():    # if the character is a digit...\n",
    "        digits.append(one_character) # ... add it to digits\n",
    "    else:\n",
    "        others.append(one_character) # if it's neither, then add 1 to others\n",
    "\n",
    "print(f'vowels: {vowels}')\n",
    "print(f'digits: {digits}')\n",
    "print(f'others: {others}')"
   ]
  },
  {
   "cell_type": "code",
   "execution_count": 58,
   "metadata": {},
   "outputs": [
    {
     "name": "stdin",
     "output_type": "stream",
     "text": [
      "Enter a string:  hello!! 123\n"
     ]
    },
    {
     "name": "stdout",
     "output_type": "stream",
     "text": [
      "['e', 'o'], ['1', '2', '3'], and ['h', 'l', 'l', '!', '!', ' ']\n"
     ]
    }
   ],
   "source": [
    "# SB\n",
    "\n",
    "vowels = []\n",
    "digits = []\n",
    "others = []\n",
    "\n",
    "text = input('Enter a string: ')\n",
    "\n",
    "for char in text:\n",
    "    if char in 'aeiou':\n",
    "        vowels.append(char)\n",
    "    elif char.isdigit():\n",
    "        digits.append(char)\n",
    "    else:\n",
    "        others.append(char)\n",
    "\n",
    "print(f'{vowels}, {digits}, and {others}')"
   ]
  },
  {
   "cell_type": "markdown",
   "metadata": {},
   "source": [
    "# Exercise: Evens and odds\n",
    "\n",
    "1. Define two empty lists, `evens` and `odds`.\n",
    "2. Ask the user repeatedly to enter a number.\n",
    "    - Stop if they user enters the word \"stop\"\n",
    "    - If they enter a non-digit string, scold them\n",
    "3. Get an integer based on the user's input\n",
    "4. Check if the integer is odd or even. (You can use `% 2 == 0` for evens and `% 2 == 1` for odds.\n",
    "5. If the number is odd, append to `odds`.\n",
    "6. If the number is even, append to `evens`.    "
   ]
  },
  {
   "cell_type": "code",
   "execution_count": 59,
   "metadata": {},
   "outputs": [
    {
     "name": "stdin",
     "output_type": "stream",
     "text": [
      "Enter number:  5\n",
      "Enter number:  10\n",
      "Enter number:  15\n",
      "Enter number:  25\n",
      "Enter number:  21\n",
      "Enter number:  8\n",
      "Enter number:  hello\n"
     ]
    },
    {
     "name": "stdout",
     "output_type": "stream",
     "text": [
      "hello is not numeric; ignoring\n"
     ]
    },
    {
     "name": "stdin",
     "output_type": "stream",
     "text": [
      "Enter number:  \n"
     ]
    },
    {
     "name": "stdout",
     "output_type": "stream",
     "text": [
      " is not numeric; ignoring\n"
     ]
    },
    {
     "name": "stdin",
     "output_type": "stream",
     "text": [
      "Enter number:  stop\n"
     ]
    }
   ],
   "source": [
    "evens = []\n",
    "odds = []\n",
    "\n",
    "while True:\n",
    "    s = input('Enter number: ').strip()\n",
    "\n",
    "    if s == 'stop':\n",
    "        break\n",
    "\n",
    "    if not s.isdigit():\n",
    "        print(f'{s} is not numeric; ignoring')\n",
    "        continue\n",
    "\n",
    "    n = int(s)\n",
    "\n",
    "    if n % 2 == 0:   # if we divide by 2, the remainder is 0\n",
    "        evens.append(s)\n",
    "    else:\n",
    "        odds.append(s)\n",
    "        "
   ]
  },
  {
   "cell_type": "code",
   "execution_count": 60,
   "metadata": {},
   "outputs": [
    {
     "name": "stdout",
     "output_type": "stream",
     "text": [
      "['10', '8']\n",
      "['5', '15', '25', '21']\n"
     ]
    }
   ],
   "source": [
    "print(evens)\n",
    "print(odds)"
   ]
  },
  {
   "cell_type": "code",
   "execution_count": null,
   "metadata": {},
   "outputs": [],
   "source": []
  },
  {
   "cell_type": "code",
   "execution_count": null,
   "metadata": {},
   "outputs": [],
   "source": []
  },
  {
   "cell_type": "code",
   "execution_count": null,
   "metadata": {},
   "outputs": [],
   "source": []
  },
  {
   "cell_type": "markdown",
   "metadata": {},
   "source": [
    "# How important is the order of conditions in `if`/`elif`/`else`?\n",
    "\n",
    "Super important."
   ]
  },
  {
   "cell_type": "code",
   "execution_count": 61,
   "metadata": {},
   "outputs": [
    {
     "name": "stdout",
     "output_type": "stream",
     "text": [
      "Greater than 10\n"
     ]
    }
   ],
   "source": [
    "x = 50\n",
    "\n",
    "if x > 10:\n",
    "    print('Greater than 10')\n",
    "elif x > 30:\n",
    "    print('Greater than 30')\n",
    "elif x > 50:\n",
    "    print('Greater than 50')\n",
    "elif x > 70:\n",
    "    print('Greater than 70')\n",
    "else:\n",
    "    print('Greater than I check')    "
   ]
  },
  {
   "cell_type": "code",
   "execution_count": 62,
   "metadata": {},
   "outputs": [
    {
     "name": "stdout",
     "output_type": "stream",
     "text": [
      "Greater than 30\n"
     ]
    }
   ],
   "source": [
    "x = 50\n",
    "\n",
    "if x > 70:\n",
    "    print('Greater than 70')\n",
    "elif x > 50:\n",
    "    print('Greater than 50')\n",
    "elif x > 30:\n",
    "    print('Greater than 30')\n",
    "elif x > 10:\n",
    "    print('Greater than 10')\n",
    "else:\n",
    "    print('Greater than I check')    "
   ]
  },
  {
   "cell_type": "code",
   "execution_count": null,
   "metadata": {},
   "outputs": [],
   "source": [
    "# SB\n",
    "\n",
    "evens = []\n",
    "odds = []\n",
    "\n",
    "while True:  # infinite loop\n",
    "    n = input('Enter a number: ')\n",
    "\n",
    "    if n == 'stop':\n",
    "        break\n",
    "\n",
    "    p = int(n)\n",
    "    if p % 2 == 0:\n",
    "        evens.append(p)\n",
    "    else:\n",
    "        odds.append(p)"
   ]
  },
  {
   "cell_type": "code",
   "execution_count": null,
   "metadata": {},
   "outputs": [],
   "source": [
    "# KD\n",
    "\n",
    "evens = []\n",
    "odds = []\n",
    "\n",
    "text = input('Enter a number: ').strip()\n",
    "\n",
    "while text != 'stop':\n",
    "    \n",
    "    if text.isdigit():\n",
    "        n = int(text)\n",
    "        if n % 2 == 0:\n",
    "            print(f'number is even {n}')\n",
    "\n",
    "    text = input('Enter a number: ').strip()        "
   ]
  },
  {
   "cell_type": "markdown",
   "metadata": {},
   "source": [
    "# Next up\n",
    "\n",
    "1. splitting and joining strings\n",
    "2. tuples"
   ]
  },
  {
   "cell_type": "code",
   "execution_count": 63,
   "metadata": {},
   "outputs": [
    {
     "data": {
      "text/plain": [
       "['a', 'b', 'c', 'd', ':', 'e', 'f', ':', 'g', 'h', 'i', 'j', ':', 'k', 'l']"
      ]
     },
     "execution_count": 63,
     "metadata": {},
     "output_type": "execute_result"
    }
   ],
   "source": [
    "# What about this string:\n",
    "\n",
    "s = 'abcd:ef:ghij:kl'\n",
    "\n",
    "# I want to turn s into a list. How can I do that?\n",
    "# one option is to invoke list(s)\n",
    "\n",
    "list(s)  # this will return a list, based on s"
   ]
  },
  {
   "cell_type": "code",
   "execution_count": 64,
   "metadata": {},
   "outputs": [
    {
     "data": {
      "text/plain": [
       "['abcd', 'ef', 'ghij', 'kl']"
      ]
     },
     "execution_count": 64,
     "metadata": {},
     "output_type": "execute_result"
    }
   ],
   "source": [
    "# what if I want to get a list of strings, the sub-parts of s that are separated by :?\n",
    "\n",
    "# for this, we can use the str.split method\n",
    "# we run it on a string, and we pass an argument -- a string, the delimiter we want Python to use\n",
    "# the result is always a list of strings\n",
    "\n",
    "s.split(':')"
   ]
  },
  {
   "cell_type": "code",
   "execution_count": 65,
   "metadata": {},
   "outputs": [
    {
     "data": {
      "text/plain": [
       "['abcd:e', ':ghij:kl']"
      ]
     },
     "execution_count": 65,
     "metadata": {},
     "output_type": "execute_result"
    }
   ],
   "source": [
    "s.split('f')"
   ]
  },
  {
   "cell_type": "code",
   "execution_count": 66,
   "metadata": {},
   "outputs": [
    {
     "name": "stdout",
     "output_type": "stream",
     "text": [
      "abcd\n",
      "ef\n",
      "ghij\n",
      "kl\n"
     ]
    }
   ],
   "source": [
    "for one_item in s.split(':'):\n",
    "    print(one_item)"
   ]
  },
  {
   "cell_type": "code",
   "execution_count": 67,
   "metadata": {},
   "outputs": [
    {
     "name": "stdin",
     "output_type": "stream",
     "text": [
      "Enter some words:  this is a great example\n"
     ]
    },
    {
     "data": {
      "text/plain": [
       "['this', 'is', 'a', 'great', 'example']"
      ]
     },
     "execution_count": 67,
     "metadata": {},
     "output_type": "execute_result"
    }
   ],
   "source": [
    "# what if I want to iterate over the words in the user's input?\n",
    "\n",
    "s = input('Enter some words: ').strip()\n",
    "\n",
    "s.split(' ')"
   ]
  },
  {
   "cell_type": "code",
   "execution_count": 68,
   "metadata": {},
   "outputs": [
    {
     "name": "stdin",
     "output_type": "stream",
     "text": [
      "Enter some words:  this  is   a    great     example\n"
     ]
    },
    {
     "data": {
      "text/plain": [
       "['this', '', 'is', '', '', 'a', '', '', '', 'great', '', '', '', '', 'example']"
      ]
     },
     "execution_count": 68,
     "metadata": {},
     "output_type": "execute_result"
    }
   ],
   "source": [
    "# but there is a problem with this approach\n",
    "\n",
    "s = input('Enter some words: ').strip()\n",
    "\n",
    "s.split(' ')"
   ]
  },
  {
   "cell_type": "code",
   "execution_count": 69,
   "metadata": {},
   "outputs": [
    {
     "data": {
      "text/plain": [
       "['this', 'is', 'a', 'great', 'example']"
      ]
     },
     "execution_count": 69,
     "metadata": {},
     "output_type": "execute_result"
    }
   ],
   "source": [
    "# we said: cut whenever you see a space\n",
    "# there were several spaces in a row, so we cut several times in a row\n",
    "\n",
    "# this is bad -- but Python has a great solution\n",
    "\n",
    "s.split()   # without any argument, s.split splits on any whitespace, any combination, any length"
   ]
  },
  {
   "cell_type": "markdown",
   "metadata": {},
   "source": [
    "# Exercise: Total word length\n",
    "\n",
    "1. Set `total` to 0.\n",
    "2. Ask the user to enter a sentence.\n",
    "2. Iterate over each word in the sentence, calculating its length and adding that to `total`.\n",
    "3. Print `total`, which will be the total length of the words, not including whitespace.\n",
    "\n",
    "Example:\n",
    "\n",
    "    Enter text: Hello out there\n",
    "    Adding 5\n",
    "    Adding 3\n",
    "    Adding 5\n",
    "    Total is 13"
   ]
  },
  {
   "cell_type": "code",
   "execution_count": 72,
   "metadata": {},
   "outputs": [
    {
     "name": "stdin",
     "output_type": "stream",
     "text": [
      "Enter a sentence:  hello out there\n"
     ]
    },
    {
     "name": "stdout",
     "output_type": "stream",
     "text": [
      "total = 13\n"
     ]
    }
   ],
   "source": [
    "total = 0\n",
    "\n",
    "s = input('Enter a sentence: ').strip()\n",
    "\n",
    "for one_word in s.split():\n",
    "    total += len(one_word)\n",
    "\n",
    "print(f'total = {total}')"
   ]
  },
  {
   "cell_type": "markdown",
   "metadata": {},
   "source": [
    "# Getting a string from a list with `str.join`\n",
    "\n",
    "If you have a list of strings, and want to join them together into a single string, `str.join` will do that.\n",
    "\n",
    "- It's a string method, so you invoke it on a string\n",
    "- That string is the \"connector,\" or \"glue,\" that will go between list elements.\n",
    "- The list is an argument to the `str.join` method."
   ]
  },
  {
   "cell_type": "code",
   "execution_count": 73,
   "metadata": {},
   "outputs": [
    {
     "data": {
      "text/plain": [
       "'abcd*ef*ghij'"
      ]
     },
     "execution_count": 73,
     "metadata": {},
     "output_type": "execute_result"
    }
   ],
   "source": [
    "mylist = ['abcd', 'ef', 'ghij']\n",
    "\n",
    "'*'.join(mylist)     # * will be put between every two elements of mylist"
   ]
  },
  {
   "cell_type": "code",
   "execution_count": 74,
   "metadata": {},
   "outputs": [
    {
     "data": {
      "text/plain": [
       "'abcd ef ghij'"
      ]
     },
     "execution_count": 74,
     "metadata": {},
     "output_type": "execute_result"
    }
   ],
   "source": [
    "' '.join(mylist)"
   ]
  },
  {
   "cell_type": "code",
   "execution_count": 76,
   "metadata": {},
   "outputs": [
    {
     "name": "stdout",
     "output_type": "stream",
     "text": [
      "abcd\n",
      "ef\n",
      "ghij\n"
     ]
    }
   ],
   "source": [
    "print('\\n'.join(mylist))"
   ]
  },
  {
   "cell_type": "code",
   "execution_count": 77,
   "metadata": {},
   "outputs": [
    {
     "ename": "TypeError",
     "evalue": "sequence item 0: expected str instance, int found",
     "output_type": "error",
     "traceback": [
      "\u001b[31m---------------------------------------------------------------------------\u001b[39m",
      "\u001b[31mTypeError\u001b[39m                                 Traceback (most recent call last)",
      "\u001b[36mCell\u001b[39m\u001b[36m \u001b[39m\u001b[32mIn[77]\u001b[39m\u001b[32m, line 6\u001b[39m\n\u001b[32m      1\u001b[39m \u001b[38;5;66;03m# the argument to str.join must be a list of strings (or anything iterable containing strings)\u001b[39;00m\n\u001b[32m      2\u001b[39m \u001b[38;5;66;03m# you cannot join together a list of integers\u001b[39;00m\n\u001b[32m      4\u001b[39m mylist = [\u001b[32m10\u001b[39m, \u001b[32m20\u001b[39m, \u001b[32m30\u001b[39m]\n\u001b[32m----> \u001b[39m\u001b[32m6\u001b[39m \u001b[33;43m'\u001b[39;49m\u001b[33;43m*\u001b[39;49m\u001b[33;43m'\u001b[39;49m\u001b[43m.\u001b[49m\u001b[43mjoin\u001b[49m\u001b[43m(\u001b[49m\u001b[43mmylist\u001b[49m\u001b[43m)\u001b[49m\n",
      "\u001b[31mTypeError\u001b[39m: sequence item 0: expected str instance, int found"
     ]
    }
   ],
   "source": [
    "# the argument to str.join must be a list of strings (or anything iterable containing strings)\n",
    "# you cannot join together a list of integers\n",
    "\n",
    "mylist = [10, 20, 30]\n",
    "\n",
    "'*'.join(mylist)"
   ]
  },
  {
   "cell_type": "code",
   "execution_count": 78,
   "metadata": {},
   "outputs": [
    {
     "name": "stdin",
     "output_type": "stream",
     "text": [
      "Enter a sentence:  12345\n"
     ]
    },
    {
     "name": "stdout",
     "output_type": "stream",
     "text": [
      "total = 5\n"
     ]
    }
   ],
   "source": [
    "# PM\n",
    "\n",
    "total = 0\n",
    "s = input('Enter a sentence: ').strip()\n",
    "for one_word in s.split():\n",
    "    total += len(one_word)\n",
    "\n",
    "# we invoke print, which displays something on the screen\n",
    "# the argument to print is a string -- but it's a special string, an f-string (formatted string)\n",
    "# an f-string is a string in every way, but when we define it, we can put\n",
    "# Python expressions (including variable names) inside of {}. Those are evaluated \n",
    "# the values are put into the string.\n",
    "\n",
    "print(f'total = {total}')"
   ]
  },
  {
   "cell_type": "markdown",
   "metadata": {},
   "source": [
    "# Exercise: Create an acronym\n",
    "\n",
    "1. Create an empty list, `words`.\n",
    "2. Ask the user to enter a number of words.\n",
    "3. Iterate over the user's words. For each one, grab the first letter and append it to `words`.\n",
    "4. Use `str.join` to turn the `words` list into an acronym.\n",
    "\n",
    "Example:\n",
    "\n",
    "    Enter words: thank you\n",
    "    ty"
   ]
  },
  {
   "cell_type": "code",
   "execution_count": 82,
   "metadata": {},
   "outputs": [
    {
     "name": "stdin",
     "output_type": "stream",
     "text": [
      "Enter words:  thank you\n"
     ]
    },
    {
     "name": "stdout",
     "output_type": "stream",
     "text": [
      "ty\n"
     ]
    }
   ],
   "source": [
    "words = []\n",
    "\n",
    "text = input('Enter words: ').strip()\n",
    "\n",
    "for one_word in text.split():\n",
    "    words.append(one_word[0])\n",
    "\n",
    "print(''.join(words))  # join with an empty string means: squish everything together, no space between"
   ]
  },
  {
   "cell_type": "markdown",
   "metadata": {},
   "source": [
    "# Tuples \n",
    "\n",
    "Tuples are the third (and final) member of the \"sequence\" family in Python. Like strings and lists, they contain a number of values.\n",
    "\n",
    "- String: Immutable (cannot be changed) and contains characters.\n",
    "- List: Mutable (can be changed) and contains anything at all.\n",
    "- Tuples: Immutalbe (cannot be changed) and contains anything at all.\n",
    "\n",
    "It sounds from this description that tuples are basically immutable list! But Python people try to think about them in a different way, as records/structs. \n",
    "\n",
    "Rule of thumb:\n",
    "\n",
    "- If you want to store several values of the same type, use a list.\n",
    "- If you want to store several values of different types, use a tuple.\n",
    "\n"
   ]
  },
  {
   "cell_type": "code",
   "execution_count": 83,
   "metadata": {},
   "outputs": [
    {
     "data": {
      "text/plain": [
       "tuple"
      ]
     },
     "execution_count": 83,
     "metadata": {},
     "output_type": "execute_result"
    }
   ],
   "source": [
    "# creating and working with tuples\n",
    "\n",
    "t = (10, 20, 30, 40, 50, 60, 70, 80, 90, 100)\n",
    "\n",
    "type(t)"
   ]
  },
  {
   "cell_type": "code",
   "execution_count": 84,
   "metadata": {},
   "outputs": [
    {
     "data": {
      "text/plain": [
       "10"
      ]
     },
     "execution_count": 84,
     "metadata": {},
     "output_type": "execute_result"
    }
   ],
   "source": [
    "t[0]"
   ]
  },
  {
   "cell_type": "code",
   "execution_count": 85,
   "metadata": {},
   "outputs": [
    {
     "data": {
      "text/plain": [
       "20"
      ]
     },
     "execution_count": 85,
     "metadata": {},
     "output_type": "execute_result"
    }
   ],
   "source": [
    "t[1]"
   ]
  },
  {
   "cell_type": "code",
   "execution_count": 86,
   "metadata": {},
   "outputs": [
    {
     "data": {
      "text/plain": [
       "100"
      ]
     },
     "execution_count": 86,
     "metadata": {},
     "output_type": "execute_result"
    }
   ],
   "source": [
    "t[-1]   # negative indexes count from the right, so -1 is the final element of t"
   ]
  },
  {
   "cell_type": "code",
   "execution_count": 87,
   "metadata": {},
   "outputs": [
    {
     "data": {
      "text/plain": [
       "(40, 50, 60, 70)"
      ]
     },
     "execution_count": 87,
     "metadata": {},
     "output_type": "execute_result"
    }
   ],
   "source": [
    "t[3:7]  # get a slice from our tuple"
   ]
  },
  {
   "cell_type": "code",
   "execution_count": 89,
   "metadata": {},
   "outputs": [
    {
     "data": {
      "text/plain": [
       "10"
      ]
     },
     "execution_count": 89,
     "metadata": {},
     "output_type": "execute_result"
    }
   ],
   "source": [
    "len(t)"
   ]
  },
  {
   "cell_type": "code",
   "execution_count": 90,
   "metadata": {},
   "outputs": [
    {
     "name": "stdout",
     "output_type": "stream",
     "text": [
      "10\n",
      "20\n",
      "30\n",
      "40\n",
      "50\n",
      "60\n",
      "70\n",
      "80\n",
      "90\n",
      "100\n"
     ]
    }
   ],
   "source": [
    "for one_item in t:\n",
    "    print(one_item)"
   ]
  },
  {
   "cell_type": "code",
   "execution_count": 91,
   "metadata": {},
   "outputs": [
    {
     "ename": "TypeError",
     "evalue": "'tuple' object does not support item assignment",
     "output_type": "error",
     "traceback": [
      "\u001b[31m---------------------------------------------------------------------------\u001b[39m",
      "\u001b[31mTypeError\u001b[39m                                 Traceback (most recent call last)",
      "\u001b[36mCell\u001b[39m\u001b[36m \u001b[39m\u001b[32mIn[91]\u001b[39m\u001b[32m, line 1\u001b[39m\n\u001b[32m----> \u001b[39m\u001b[32m1\u001b[39m \u001b[43mt\u001b[49m\u001b[43m[\u001b[49m\u001b[32;43m1\u001b[39;49m\u001b[43m]\u001b[49m = \u001b[32m999\u001b[39m\n",
      "\u001b[31mTypeError\u001b[39m: 'tuple' object does not support item assignment"
     ]
    }
   ],
   "source": [
    "t[1] = 999"
   ]
  },
  {
   "cell_type": "markdown",
   "metadata": {},
   "source": [
    "# Why do tuples exist?\n",
    "\n",
    "Mainly because they are a very efficient (most than lists) data structure. They are used a *lot* behind the scenes in Python. For example, if I invoke a function, the arguments I pass are stored in a tuple."
   ]
  },
  {
   "cell_type": "markdown",
   "metadata": {},
   "source": [
    "# Tuple unpacking\n",
    "\n"
   ]
  },
  {
   "cell_type": "code",
   "execution_count": 92,
   "metadata": {},
   "outputs": [
    {
     "data": {
      "text/plain": [
       "[10, 20, 30]"
      ]
     },
     "execution_count": 92,
     "metadata": {},
     "output_type": "execute_result"
    }
   ],
   "source": [
    "mylist = [10, 20, 30]\n",
    "\n",
    "x = mylist\n",
    "\n",
    "x"
   ]
  },
  {
   "cell_type": "code",
   "execution_count": 97,
   "metadata": {},
   "outputs": [],
   "source": [
    "# what about this?\n",
    "# let's put a tuple of variables on the left\n",
    "# and a collection on the right.\n",
    "\n",
    "x,y,z = mylist"
   ]
  },
  {
   "cell_type": "code",
   "execution_count": 94,
   "metadata": {},
   "outputs": [
    {
     "data": {
      "text/plain": [
       "10"
      ]
     },
     "execution_count": 94,
     "metadata": {},
     "output_type": "execute_result"
    }
   ],
   "source": [
    "x"
   ]
  },
  {
   "cell_type": "code",
   "execution_count": 95,
   "metadata": {},
   "outputs": [
    {
     "data": {
      "text/plain": [
       "20"
      ]
     },
     "execution_count": 95,
     "metadata": {},
     "output_type": "execute_result"
    }
   ],
   "source": [
    "y"
   ]
  },
  {
   "cell_type": "code",
   "execution_count": 96,
   "metadata": {},
   "outputs": [
    {
     "data": {
      "text/plain": [
       "30"
      ]
     },
     "execution_count": 96,
     "metadata": {},
     "output_type": "execute_result"
    }
   ],
   "source": [
    "z"
   ]
  },
  {
   "cell_type": "markdown",
   "metadata": {},
   "source": [
    "If you have a sequence (or other collection), then you can assign from the elements of that collection to a number of variables on the left."
   ]
  },
  {
   "cell_type": "code",
   "execution_count": 98,
   "metadata": {},
   "outputs": [
    {
     "name": "stdout",
     "output_type": "stream",
     "text": [
      "20\n",
      "10\n"
     ]
    }
   ],
   "source": [
    "# everyone's favorite example\n",
    "\n",
    "x = 10\n",
    "y = 20\n",
    "\n",
    "x,y = y,x    # assign to x,y from y,x\n",
    "\n",
    "# in other words, swap the values\n",
    "\n",
    "print(x)\n",
    "print(y)"
   ]
  },
  {
   "cell_type": "markdown",
   "metadata": {},
   "source": [
    "# A better example of unpacking!"
   ]
  },
  {
   "cell_type": "code",
   "execution_count": 99,
   "metadata": {},
   "outputs": [
    {
     "name": "stdout",
     "output_type": "stream",
     "text": [
      "0: a\n",
      "1: b\n",
      "2: c\n",
      "3: d\n"
     ]
    }
   ],
   "source": [
    "s = 'abcd'\n",
    "\n",
    "for index, one_character in enumerate(s):\n",
    "    print(f'{index}: {one_character}')"
   ]
  },
  {
   "cell_type": "code",
   "execution_count": 100,
   "metadata": {},
   "outputs": [
    {
     "name": "stdout",
     "output_type": "stream",
     "text": [
      "(0, 'a')\n",
      "(1, 'b')\n",
      "(2, 'c')\n",
      "(3, 'd')\n"
     ]
    }
   ],
   "source": [
    "s = 'abcd'\n",
    "\n",
    "for one_item in enumerate(s):  # enumerate returns a 2-element tuple with each iteration!\n",
    "    print(one_item)"
   ]
  },
  {
   "cell_type": "markdown",
   "metadata": {},
   "source": [
    "`enumerate` wraps itself around an iterable value. Instead of getting one value from the iterable in each iteration, `enumerate` provides us with a 2-element tuple -- the current index, and the current value. "
   ]
  },
  {
   "cell_type": "code",
   "execution_count": 103,
   "metadata": {},
   "outputs": [
    {
     "name": "stdin",
     "output_type": "stream",
     "text": [
      "Enter your password:     1234    \n"
     ]
    },
    {
     "name": "stdout",
     "output_type": "stream",
     "text": [
      "password is 1234\n"
     ]
    }
   ],
   "source": [
    "password = input('Enter your password: ').strip()\n",
    "\n",
    "print(f'password is {password}')"
   ]
  },
  {
   "cell_type": "code",
   "execution_count": null,
   "metadata": {},
   "outputs": [],
   "source": []
  }
 ],
 "metadata": {
  "kernelspec": {
   "display_name": "Python 3 (ipykernel)",
   "language": "python",
   "name": "python3"
  },
  "language_info": {
   "codemirror_mode": {
    "name": "ipython",
    "version": 3
   },
   "file_extension": ".py",
   "mimetype": "text/x-python",
   "name": "python",
   "nbconvert_exporter": "python",
   "pygments_lexer": "ipython3",
   "version": "3.13.9"
  }
 },
 "nbformat": 4,
 "nbformat_minor": 4
}
