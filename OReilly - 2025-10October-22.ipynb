{
 "cells": [
  {
   "cell_type": "markdown",
   "metadata": {},
   "source": [
    "# Agenda, week 2\n",
    "\n",
    "1. Q&A\n",
    "2. Loops\n",
    "    - What loops are for\n",
    "    - `for` loops\n",
    "    - Using indexes (or not)\n",
    "    - Controlling our loops\n",
    "    - `while` loops as well\n",
    "    - How loops work behind the scenes\n",
    "3. Lists\n",
    "    - How are lists similar to and distinct from strings?\n",
    "    - Creating and working with lists (including list methods)\n",
    "    - Modifying lists, and what that means\n",
    "    - Looping over lists\n",
    "4. Turning strings into lists, and vice versa\n",
    "    - Turning a string into a list with `str.split`\n",
    "    - Turning a list into a string with `str.join`\n",
    "6. Tuples\n",
    "    - The third member (along with strings and lists) of the \"sequence\" family of data structures\n",
    "    - How tuples are similar to and different from lists\n",
    "    - Where we'll use tuples (spoiler: not that much!)\n",
    "    - Tuple unpacking"
   ]
  },
  {
   "cell_type": "code",
   "execution_count": 3,
   "metadata": {},
   "outputs": [
    {
     "name": "stdin",
     "output_type": "stream",
     "text": [
      "enter a word:  banana\n"
     ]
    },
    {
     "name": "stdout",
     "output_type": "stream",
     "text": [
      "bananaway\n"
     ]
    }
   ],
   "source": [
    "# KD\n",
    "\n",
    "text = input('enter a word: ')\n",
    "\n",
    "# what we want: If the first letter is a vowel (a, e, i, o, or u) then add \"way\" to the word\n",
    "if text[0] == 'a' or 'e' or 'i' or 'o' or 'u':\n",
    "    print (text + 'way')\n",
    "else:\n",
    "    print(text[1:])"
   ]
  },
  {
   "cell_type": "markdown",
   "metadata": {},
   "source": [
    "# Conditions\n",
    "\n",
    "- `if` looks to its right. If it sees a `True` value, then its block runs.\n",
    "- If the condition for the `if` is `False`, then the `else` block runs\n",
    "\n",
    "We know, th"
   ]
  }
 ],
 "metadata": {
  "kernelspec": {
   "display_name": "Python 3 (ipykernel)",
   "language": "python",
   "name": "python3"
  },
  "language_info": {
   "codemirror_mode": {
    "name": "ipython",
    "version": 3
   },
   "file_extension": ".py",
   "mimetype": "text/x-python",
   "name": "python",
   "nbconvert_exporter": "python",
   "pygments_lexer": "ipython3",
   "version": "3.13.9"
  }
 },
 "nbformat": 4,
 "nbformat_minor": 4
}
