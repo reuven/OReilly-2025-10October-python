{
 "cells": [
  {
   "cell_type": "markdown",
   "metadata": {},
   "source": [
    "# Agenda, week 3\n",
    "\n",
    "1. Q&A\n",
    "2. Dictionaries\n",
    "    - What are they?\n",
    "    - How to create them\n",
    "    - How to work with them\n",
    "    - How to retrieve from them\n",
    "    - How iterate over them\n",
    "    - How dicts are implemented behind the scenes\n",
    "    - Three paradigms for dict use\n",
    "3. Files\n",
    "    - Reading from (text) files\n",
    "    - Iterating over text files\n",
    "    - Writing to files (a little bit)\n",
    "    - The `with` statement -- what it does, and why we want it"
   ]
  },
  {
   "cell_type": "code",
   "execution_count": null,
   "metadata": {},
   "outputs": [],
   "source": [
    "# what does enumerate do?\n",
    "# the short answer: it gives us a numeric index for each element of something we iterate over\n",
    "\n",
    "# slightly longer answer: In other \n",
    "\n",
    "s = 'abcd'"
   ]
  },
  {
   "cell_type": "markdown",
   "metadata": {},
   "source": [
    "# Where do we now stand?\n",
    "\n",
    "- Python uses lots of values, and each value has a different type\n",
    "- We can assign these values to variables, and then reuse the the values\n",
    "- Data structures we've seen so far:\n",
    "    - integers and floats (numbers)\n",
    "    - strings (for text)\n",
    "    - lists and tuples (for sequences of values)\n"
   ]
  }
 ],
 "metadata": {
  "kernelspec": {
   "display_name": "Python 3 (ipykernel)",
   "language": "python",
   "name": "python3"
  },
  "language_info": {
   "codemirror_mode": {
    "name": "ipython",
    "version": 3
   },
   "file_extension": ".py",
   "mimetype": "text/x-python",
   "name": "python",
   "nbconvert_exporter": "python",
   "pygments_lexer": "ipython3",
   "version": "3.14.0"
  }
 },
 "nbformat": 4,
 "nbformat_minor": 4
}
