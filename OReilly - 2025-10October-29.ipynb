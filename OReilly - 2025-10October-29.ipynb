{
 "cells": [
  {
   "cell_type": "markdown",
   "metadata": {},
   "source": [
    "# Agenda, week 3\n",
    "\n",
    "1. Q&A\n",
    "2. Dictionaries\n",
    "    - What are they?\n",
    "    - How to create them\n",
    "    - How to work with them\n",
    "    - How to retrieve from them\n",
    "    - How iterate over them\n",
    "    - How dicts are implemented behind the scenes\n",
    "    - Three paradigms for dict use\n",
    "3. Files\n",
    "    - Reading from (text) files\n",
    "    - Iterating over text files\n",
    "    - Writing to files (a little bit)\n",
    "    - The `with` statement -- what it does, and why we want it"
   ]
  },
  {
   "cell_type": "code",
   "execution_count": 1,
   "metadata": {},
   "outputs": [
    {
     "name": "stdout",
     "output_type": "stream",
     "text": [
      "0: a\n",
      "1: b\n",
      "2: c\n",
      "3: d\n"
     ]
    }
   ],
   "source": [
    "# what does enumerate do?\n",
    "# the short answer: it gives us a numeric index for each element of something we iterate over\n",
    "\n",
    "# slightly longer answer: In other languages, we often use an index to retrieve a value.\n",
    "# that means we automatically have the index. But in Python, we don't -- we have just the values.\n",
    "# enumerate gives us \"back\" the index, along with the value, in each iteration\n",
    "\n",
    "s = 'abcd'\n",
    "\n",
    "for index, one_character in enumerate(s):\n",
    "    print(f'{index}: {one_character}')"
   ]
  },
  {
   "cell_type": "markdown",
   "metadata": {},
   "source": [
    "# What's happening in the above code:\n",
    "\n",
    "1. `for` turns to the value at the end of the line, which is `enumerate(s)`.\n",
    "2. `enumerate` is a builtin function that is designed for use inside of a `for` loop, and can only take an argument that is itself iterable. (So yes to strings, lists, and tuples. No to integers.)\n",
    "3. `for` asks `enumerate(s)`: Are you iterable? The answer is \"yes.\"\n",
    "4. Repeatedly, `for` asks `enumerate(s)` to give us the next value.\n",
    "5. In this case, the value of each iteration is a 2-element tuple. The first element is the index, starting with 0. The second item is the value from `s` (what `enumerate` is wrapping) that is associated with that index. In other words, we'll get `(0, 'a')`, `(1, 'b')`, `(2, 'c')`, and `(3, 'd')`.\n",
    "6. Because we're running the `for` loop with two loop variables, Python uses \"tuple unpacking\" to take the two elements of our tuple and assign them in parallel to the two variables. So if the current loop value is `(0, 'a')`, then `index` will be assigned `0`, and `one_character` will be assigned `'a'`.\n",
    "7. The loop body runs\n",
    "8. We go back to step 4, stopping when we run out of values."
   ]
  },
  {
   "cell_type": "markdown",
   "metadata": {},
   "source": [
    "# Where do we now stand?\n",
    "\n",
    "- Python uses lots of values, and each value has a different type\n",
    "- We can assign these values to variables, and then reuse the the values\n",
    "- Data structures we've seen so far:\n",
    "    - integers and floats (numbers)\n",
    "    - strings (for text)\n",
    "    - lists and tuples (for sequences of values)\n",
    "\n",
    "Many times, we don't want one piece of data at a time, though. We want combinations of data.\n",
    "\n",
    "You could have a list of tuples, or a list of lists, etc.  In fact, we often do such a thing in Python.\n",
    "\n",
    "But dictionaries are really the most important data structure in Python because they combine flexibility with speedy retrieval. We can build very complex combinations of data structures using dicts, and still know that things will run quickly and flexibly."
   ]
  },
  {
   "cell_type": "markdown",
   "metadata": {},
   "source": [
    "# What is a dictionary?\n",
    "\n",
    "What we call a dictionary (or `dict`) in Python is not new to Python, and not unique to the language. If you've used another language before, you might have heard of similar data structures:\n",
    "\n",
    "- hash table\n",
    "- hash\n",
    "- hash map\n",
    "- map\n",
    "- associative array\n",
    "- key-value store\n",
    "- name-value store\n",
    "\n",
    "All of these are basically (or exactly) the same idea: Each item in the dict contains two parts a \"key\" and a \"value.\" Because so many things in life can be classified in this way as two-part data structures, dicts are very popular and useful.\n",
    "\n",
    "You can think of a dict as a list in which we control the index. And the index can be just about any value. In a list, we are stuck with the indexes 0, 1, 2, 3, etc., and we know that the final value will be at `len(mylist) - 1`. In a dict, we can use any values we want for keys, and they can be in any order. Yes, this means we can use *strings* as keys. \n",
    "\n",
    "In many ways, this means that dicts are often self-documenting, where the keys aren't random numbers, or unconnected to the data. Rather, the keys are inherently part of the data and reflect its values."
   ]
  },
  {
   "cell_type": "markdown",
   "metadata": {},
   "source": [
    "# Some rules for a dict\n",
    "\n",
    "The term \"key\" in a dict is basically the same as the \"index\" in a string, list, or tuple, except that we can choose it. It isn't chosen for us, and there isn't any way to get Python to choose it for us.\n",
    "\n",
    "## Keys\n",
    "- Anything at all, so long as *it is immutable*! This means that we'll usually use integers and strings for dict keys\n",
    "- In a given dict, the keys must be unique. In other words, no key can repeat.\n",
    "- Every key has a value, and every value has a key. There is no way for a key to not have a value, although it could have a value of `None` or 0 or the empty string.\n",
    "\n",
    "## Values\n",
    "- Values can be absolutely anything in Python, without any restrictions\n",
    "- This means that values can indeed repeat, even though keys cannot."
   ]
  },
  {
   "cell_type": "markdown",
   "metadata": {},
   "source": [
    "# Dict syntax\n",
    "\n",
    "- We use `{}` to create dictionaries. (These are completely unrelated to the `{}` we use inside of f-strings.)\n",
    "- Inside of a dict definition, each key is separated from its value with `:`\n",
    "- The key-value pairs in a dict are separated by `,`\n",
    "- A dict may contain any number of key-value pairs, from zero (the empty dict, `{}`) to whatever will overfill your computer's memory\n",
    "- It's usual for keys to all be of one type, but that's not a rule\n"
   ]
  },
  {
   "cell_type": "code",
   "execution_count": 2,
   "metadata": {},
   "outputs": [],
   "source": [
    "# here, I'm defining a dict with 3 key-value pairs\n",
    "# always count dicts in pairs\n",
    "\n",
    "d = {'a':10, 'b':20, 'c':30}"
   ]
  },
  {
   "cell_type": "code",
   "execution_count": 3,
   "metadata": {},
   "outputs": [
    {
     "data": {
      "text/plain": [
       "3"
      ]
     },
     "execution_count": 3,
     "metadata": {},
     "output_type": "execute_result"
    }
   ],
   "source": [
    "len(d)"
   ]
  },
  {
   "cell_type": "code",
   "execution_count": 4,
   "metadata": {},
   "outputs": [
    {
     "data": {
      "text/plain": [
       "0"
      ]
     },
     "execution_count": 4,
     "metadata": {},
     "output_type": "execute_result"
    }
   ],
   "source": [
    "# the empty dict\n",
    "\n",
    "d = {}\n",
    "len(d)"
   ]
  },
  {
   "cell_type": "code",
   "execution_count": 5,
   "metadata": {},
   "outputs": [
    {
     "data": {
      "text/plain": [
       "10"
      ]
     },
     "execution_count": 5,
     "metadata": {},
     "output_type": "execute_result"
    }
   ],
   "source": [
    "# to retrieve a value from a dict, just pass the key inside of []\n",
    "\n",
    "d = {'a':10, 'b':20, 'c':30}\n",
    "\n",
    "d['a']"
   ]
  },
  {
   "cell_type": "code",
   "execution_count": 6,
   "metadata": {},
   "outputs": [
    {
     "data": {
      "text/plain": [
       "20"
      ]
     },
     "execution_count": 6,
     "metadata": {},
     "output_type": "execute_result"
    }
   ],
   "source": [
    "d['b']"
   ]
  },
  {
   "cell_type": "code",
   "execution_count": 7,
   "metadata": {},
   "outputs": [
    {
     "data": {
      "text/plain": [
       "30"
      ]
     },
     "execution_count": 7,
     "metadata": {},
     "output_type": "execute_result"
    }
   ],
   "source": [
    "d['c']"
   ]
  },
  {
   "cell_type": "code",
   "execution_count": 8,
   "metadata": {},
   "outputs": [
    {
     "ename": "KeyError",
     "evalue": "'A'",
     "output_type": "error",
     "traceback": [
      "\u001b[31m---------------------------------------------------------------------------\u001b[39m",
      "\u001b[31mKeyError\u001b[39m                                  Traceback (most recent call last)",
      "\u001b[36mCell\u001b[39m\u001b[36m \u001b[39m\u001b[32mIn[8]\u001b[39m\u001b[32m, line 1\u001b[39m\n\u001b[32m----> \u001b[39m\u001b[32m1\u001b[39m \u001b[43md\u001b[49m\u001b[43m[\u001b[49m\u001b[33;43m'\u001b[39;49m\u001b[33;43mA\u001b[39;49m\u001b[33;43m'\u001b[39;49m\u001b[43m]\u001b[49m  \u001b[38;5;66;03m# what about this?\u001b[39;00m\n",
      "\u001b[31mKeyError\u001b[39m: 'A'"
     ]
    }
   ],
   "source": [
    "d['A']  # what about this?  It won't work; the key 'A' does not exist, even though the key 'a' does"
   ]
  },
  {
   "cell_type": "code",
   "execution_count": 9,
   "metadata": {},
   "outputs": [
    {
     "ename": "KeyError",
     "evalue": "'a '",
     "output_type": "error",
     "traceback": [
      "\u001b[31m---------------------------------------------------------------------------\u001b[39m",
      "\u001b[31mKeyError\u001b[39m                                  Traceback (most recent call last)",
      "\u001b[36mCell\u001b[39m\u001b[36m \u001b[39m\u001b[32mIn[9]\u001b[39m\u001b[32m, line 1\u001b[39m\n\u001b[32m----> \u001b[39m\u001b[32m1\u001b[39m \u001b[43md\u001b[49m\u001b[43m[\u001b[49m\u001b[33;43m'\u001b[39;49m\u001b[33;43ma \u001b[39;49m\u001b[33;43m'\u001b[39;49m\u001b[43m]\u001b[49m   \u001b[38;5;66;03m# this won't work either, because it contains not only 'a' (which is a key) but also ' ' (which is not, or part of one)\u001b[39;00m\n",
      "\u001b[31mKeyError\u001b[39m: 'a '"
     ]
    }
   ],
   "source": [
    "d['a ']   # this won't work either, because it contains not only 'a' (which is a key) but also ' ' (which is not, or part of one)"
   ]
  },
  {
   "cell_type": "code",
   "execution_count": 10,
   "metadata": {},
   "outputs": [
    {
     "ename": "KeyError",
     "evalue": "'ab'",
     "output_type": "error",
     "traceback": [
      "\u001b[31m---------------------------------------------------------------------------\u001b[39m",
      "\u001b[31mKeyError\u001b[39m                                  Traceback (most recent call last)",
      "\u001b[36mCell\u001b[39m\u001b[36m \u001b[39m\u001b[32mIn[10]\u001b[39m\u001b[32m, line 1\u001b[39m\n\u001b[32m----> \u001b[39m\u001b[32m1\u001b[39m \u001b[43md\u001b[49m\u001b[43m[\u001b[49m\u001b[33;43m'\u001b[39;49m\u001b[33;43mab\u001b[39;49m\u001b[33;43m'\u001b[39;49m\u001b[43m]\u001b[49m  \u001b[38;5;66;03m# This won't work either; the key 'a' and the key 'b' both have nothing to do with the key 'ab', which doesn't exist\u001b[39;00m\n",
      "\u001b[31mKeyError\u001b[39m: 'ab'"
     ]
    }
   ],
   "source": [
    "d['ab']  # This won't work either; the key 'a' and the key 'b' both have nothing to do with the key 'ab', which doesn't exist"
   ]
  },
  {
   "cell_type": "code",
   "execution_count": 11,
   "metadata": {},
   "outputs": [
    {
     "ename": "NameError",
     "evalue": "name 'ab' is not defined",
     "output_type": "error",
     "traceback": [
      "\u001b[31m---------------------------------------------------------------------------\u001b[39m",
      "\u001b[31mNameError\u001b[39m                                 Traceback (most recent call last)",
      "\u001b[36mCell\u001b[39m\u001b[36m \u001b[39m\u001b[32mIn[11]\u001b[39m\u001b[32m, line 3\u001b[39m\n\u001b[32m      1\u001b[39m \u001b[38;5;66;03m# what if I don't put the key in quotes?\u001b[39;00m\n\u001b[32m----> \u001b[39m\u001b[32m3\u001b[39m d[\u001b[43mab\u001b[49m]\n",
      "\u001b[31mNameError\u001b[39m: name 'ab' is not defined"
     ]
    }
   ],
   "source": [
    "# what if I don't put the key in quotes?\n",
    "\n",
    "d[ab]  # this means: find the value of the variable ab, and use its value as a key to retrieve from d"
   ]
  },
  {
   "cell_type": "code",
   "execution_count": 12,
   "metadata": {},
   "outputs": [
    {
     "data": {
      "text/plain": [
       "10"
      ]
     },
     "execution_count": 12,
     "metadata": {},
     "output_type": "execute_result"
    }
   ],
   "source": [
    "k = 'a'    # the variable k now exists\n",
    "d[k]       # the variable k's value, aka 'a', will be used as the key for retrieval"
   ]
  },
  {
   "cell_type": "code",
   "execution_count": 13,
   "metadata": {},
   "outputs": [
    {
     "ename": "KeyError",
     "evalue": "'k'",
     "output_type": "error",
     "traceback": [
      "\u001b[31m---------------------------------------------------------------------------\u001b[39m",
      "\u001b[31mKeyError\u001b[39m                                  Traceback (most recent call last)",
      "\u001b[36mCell\u001b[39m\u001b[36m \u001b[39m\u001b[32mIn[13]\u001b[39m\u001b[32m, line 3\u001b[39m\n\u001b[32m      1\u001b[39m \u001b[38;5;66;03m# if i were to put quotes around the variable name...\u001b[39;00m\n\u001b[32m----> \u001b[39m\u001b[32m3\u001b[39m \u001b[43md\u001b[49m\u001b[43m[\u001b[49m\u001b[33;43m'\u001b[39;49m\u001b[33;43mk\u001b[39;49m\u001b[33;43m'\u001b[39;49m\u001b[43m]\u001b[49m\n",
      "\u001b[31mKeyError\u001b[39m: 'k'"
     ]
    }
   ],
   "source": [
    "# if i were to put quotes around the variable name...\n",
    "\n",
    "d['k']"
   ]
  },
  {
   "cell_type": "code",
   "execution_count": 14,
   "metadata": {},
   "outputs": [
    {
     "data": {
      "text/plain": [
       "{'a': 10, 'b': 20, 'c': 30}"
      ]
     },
     "execution_count": 14,
     "metadata": {},
     "output_type": "execute_result"
    }
   ],
   "source": [
    "d"
   ]
  },
  {
   "cell_type": "code",
   "execution_count": 16,
   "metadata": {},
   "outputs": [
    {
     "data": {
      "text/plain": [
       "True"
      ]
     },
     "execution_count": 16,
     "metadata": {},
     "output_type": "execute_result"
    }
   ],
   "source": [
    "# I can search in a dict with the \"in\" operator -- but it only looks in the keys, never the values\n",
    "\n",
    "'a' in d    # this means: is 'a' (a string) a key in the dict d?"
   ]
  },
  {
   "cell_type": "code",
   "execution_count": 17,
   "metadata": {},
   "outputs": [
    {
     "data": {
      "text/plain": [
       "False"
      ]
     },
     "execution_count": 17,
     "metadata": {},
     "output_type": "execute_result"
    }
   ],
   "source": [
    "'x' in d"
   ]
  },
  {
   "cell_type": "code",
   "execution_count": 18,
   "metadata": {},
   "outputs": [],
   "source": [
    "# we can use a combination of \"in\" and [] to retrieve from a dict only if the key exists\n"
   ]
  },
  {
   "cell_type": "code",
   "execution_count": 20,
   "metadata": {},
   "outputs": [
    {
     "ename": "NameError",
     "evalue": "name 'a' is not defined",
     "output_type": "error",
     "traceback": [
      "\u001b[31m---------------------------------------------------------------------------\u001b[39m",
      "\u001b[31mNameError\u001b[39m                                 Traceback (most recent call last)",
      "\u001b[36mCell\u001b[39m\u001b[36m \u001b[39m\u001b[32mIn[20]\u001b[39m\u001b[32m, line 10\u001b[39m\n\u001b[32m      1\u001b[39m \u001b[38;5;66;03m# will this work?\u001b[39;00m\n\u001b[32m      2\u001b[39m \n\u001b[32m      3\u001b[39m \u001b[38;5;66;03m# when assigning, the right side runs before the left\u001b[39;00m\n\u001b[32m   (...)\u001b[39m\u001b[32m      7\u001b[39m \u001b[38;5;66;03m# the key whatever the value is of the variable a\u001b[39;00m\n\u001b[32m      8\u001b[39m \u001b[38;5;66;03m# the value will be 10\u001b[39;00m\n\u001b[32m---> \u001b[39m\u001b[32m10\u001b[39m d = {\u001b[43ma\u001b[49m:\u001b[32m10\u001b[39m}   \u001b[38;5;66;03m# this is *NOT* a dict with a key 'a' (a string), but rather a key with whatever the variable a contains\u001b[39;00m\n",
      "\u001b[31mNameError\u001b[39m: name 'a' is not defined"
     ]
    }
   ],
   "source": [
    "# will this work?\n",
    "\n",
    "# when assigning, the right side runs before the left\n",
    "# meaning: we create our dict first\n",
    "\n",
    "# this dict should have one key-value pair\n",
    "# the key whatever the value is of the variable a\n",
    "# the value will be 10\n",
    "\n",
    "d = {a:10}   # this is *NOT* a dict with a key 'a' (a string), but rather a key with whatever the variable a contains"
   ]
  },
  {
   "cell_type": "code",
   "execution_count": 21,
   "metadata": {},
   "outputs": [
    {
     "ename": "NameError",
     "evalue": "name 'a' is not defined",
     "output_type": "error",
     "traceback": [
      "\u001b[31m---------------------------------------------------------------------------\u001b[39m",
      "\u001b[31mNameError\u001b[39m                                 Traceback (most recent call last)",
      "\u001b[36mCell\u001b[39m\u001b[36m \u001b[39m\u001b[32mIn[21]\u001b[39m\u001b[32m, line 1\u001b[39m\n\u001b[32m----> \u001b[39m\u001b[32m1\u001b[39m \u001b[43ma\u001b[49m   \u001b[38;5;66;03m# this means: give me the value of the variable a\u001b[39;00m\n",
      "\u001b[31mNameError\u001b[39m: name 'a' is not defined"
     ]
    }
   ],
   "source": [
    "a   # this means: give me the value of the variable a"
   ]
  },
  {
   "cell_type": "code",
   "execution_count": 22,
   "metadata": {},
   "outputs": [
    {
     "data": {
      "text/plain": [
       "'a'"
      ]
     },
     "execution_count": 22,
     "metadata": {},
     "output_type": "execute_result"
    }
   ],
   "source": [
    "'a'   # this is a one-character string"
   ]
  },
  {
   "cell_type": "code",
   "execution_count": 23,
   "metadata": {},
   "outputs": [
    {
     "data": {
      "text/plain": [
       "{'a': 10}"
      ]
     },
     "execution_count": 23,
     "metadata": {},
     "output_type": "execute_result"
    }
   ],
   "source": [
    "d = {'a':10}\n",
    "\n",
    "d"
   ]
  },
  {
   "cell_type": "code",
   "execution_count": 26,
   "metadata": {},
   "outputs": [],
   "source": [
    "# or...\n",
    "\n",
    "a = 'hello'\n",
    "d = {a:10}  # here, it'll grab the value of the variable a, and use it as the key"
   ]
  },
  {
   "cell_type": "code",
   "execution_count": 25,
   "metadata": {},
   "outputs": [
    {
     "data": {
      "text/plain": [
       "{'hello': 10}"
      ]
     },
     "execution_count": 25,
     "metadata": {},
     "output_type": "execute_result"
    }
   ],
   "source": [
    "d"
   ]
  },
  {
   "cell_type": "markdown",
   "metadata": {},
   "source": [
    "# Where are dicts useful?\n",
    "\n",
    "- A dict with keys that are names of months, and values that are numbers of months\n",
    "- A dict with keys that are month numbers, and values that are month names\n",
    "- A dict with keys being user ID numbers and the values are usernames\n",
    "- A dict with keys being user ID numbers and the values are dicts describing each user"
   ]
  },
  {
   "cell_type": "markdown",
   "metadata": {},
   "source": [
    "# Exercise: Restaurant\n",
    "\n",
    "1. Define a dict, `menu`, in which the keys are strings (names of items on the menu) and the values are integers (prices of items on the menu).\n",
    "2. Define `total` to be 0.\n",
    "3. Ask the user, repeatedly, to order something from the menu.\n",
    "    - If the user enters an empty string, that's a sign to stop asking them. Break out of the this loop, and print `total`.\n",
    "    - If the user enters a string that *is* an item on the menu (i.e., a key in the `menu` dict), then print the price of the item and the new total. (And add to `total`.)\n",
    "    - If the string does *not* match any key in the `menu` dict, scold the user but let them try again.\n",
    "4. At the end, print the total owed.\n",
    "\n",
    "Example:\n",
    "\n",
    "    Order: sandwich\n",
    "    sandwich is 20, total is 20\n",
    "    Order: apple\n",
    "    apple is 3, total is 23\n",
    "    Order: elephant\n",
    "    Sorry, we're fresh out of elephant today!\n",
    "    Order: [ENTER]\n",
    "    Your total is 23"
   ]
  },
  {
   "cell_type": "code",
   "execution_count": 29,
   "metadata": {},
   "outputs": [
    {
     "name": "stdin",
     "output_type": "stream",
     "text": [
      "Order:  sandwich\n"
     ]
    },
    {
     "name": "stdout",
     "output_type": "stream",
     "text": [
      "sandwich is 20, total is now 20\n"
     ]
    },
    {
     "name": "stdin",
     "output_type": "stream",
     "text": [
      "Order:  apple\n"
     ]
    },
    {
     "name": "stdout",
     "output_type": "stream",
     "text": [
      "apple is 3, total is now 23\n"
     ]
    },
    {
     "name": "stdin",
     "output_type": "stream",
     "text": [
      "Order:  tea\n"
     ]
    },
    {
     "name": "stdout",
     "output_type": "stream",
     "text": [
      "tea is 5, total is now 28\n"
     ]
    },
    {
     "name": "stdin",
     "output_type": "stream",
     "text": [
      "Order:  cookie\n"
     ]
    },
    {
     "name": "stdout",
     "output_type": "stream",
     "text": [
      "Sorry, we are fresh out of cookie today!\n"
     ]
    },
    {
     "name": "stdin",
     "output_type": "stream",
     "text": [
      "Order:  \n"
     ]
    },
    {
     "name": "stdout",
     "output_type": "stream",
     "text": [
      "total = 28\n"
     ]
    }
   ],
   "source": [
    "menu = {'sandwich':20, 'apple':3, 'cake':10, 'tea':5}\n",
    "total = 0\n",
    "\n",
    "while True:   # infinite loop!\n",
    "    order = input('Order: ').strip()\n",
    "    \n",
    "    if order == '':    # if the user enters the empty string, break out of the loop\n",
    "        break\n",
    "\n",
    "    elif order in menu:        # is the user's input a key in our menu dict?\n",
    "        price = menu[order]  # grab the price (value) from the menu, based on the user's input\n",
    "        total += price       # update the total\n",
    "        print(f'{order} is {price}, total is now {total}')\n",
    "    else:\n",
    "        print(f'Sorry, we are fresh out of {order} today!')\n",
    "\n",
    "print(f'total = {total}')    "
   ]
  },
  {
   "cell_type": "code",
   "execution_count": 31,
   "metadata": {},
   "outputs": [
    {
     "name": "stdin",
     "output_type": "stream",
     "text": [
      "Please order something from menu:  burger\n"
     ]
    },
    {
     "name": "stdout",
     "output_type": "stream",
     "text": [
      "total=10\n"
     ]
    },
    {
     "name": "stdin",
     "output_type": "stream",
     "text": [
      "Please order something from menu:  burgetr\n",
      "Please order something from menu:  burger\n"
     ]
    },
    {
     "name": "stdout",
     "output_type": "stream",
     "text": [
      "total=20\n"
     ]
    },
    {
     "name": "stdin",
     "output_type": "stream",
     "text": [
      "Please order something from menu:  \n"
     ]
    },
    {
     "name": "stdout",
     "output_type": "stream",
     "text": [
      "total=20\n"
     ]
    }
   ],
   "source": [
    "# SB\n",
    "\n",
    "menu = {'burger':10, 'pizza':15, 'fries':5}\n",
    "\n",
    "total = 0\n",
    "\n",
    "while True:\n",
    "    order = input('Please order something from menu: ').strip()\n",
    "    \n",
    "    if order == '':\n",
    "        print(f'total={total}')\n",
    "        break\n",
    "    elif order in menu:\n",
    "        total += menu[order]\n",
    "        print(f'total={total}')"
   ]
  },
  {
   "cell_type": "markdown",
   "metadata": {},
   "source": [
    "# `while` loops\n",
    "\n",
    "`while` is kind of like `if`:\n",
    "\n",
    "- It looks to its right\n",
    "- If it sees a `True` value, then it executes its block\n",
    "\n",
    "However, it's also different from an `if`:\n",
    "- If it sees a `False` value to its right, then the loop exits, and does not run the loop body\n",
    "- At the end of the loop block, Python returns to the top of the loop, and again evaluates the expression to the right of `while`\n",
    "\n",
    "Here, we gave an explicit `True` to the right of `while`, meaning it'll always run the loop block, and an infinite number of times. So we need a way to ensure that the `while` loop will eventually exit -- and that's our `break` statement."
   ]
  },
  {
   "cell_type": "markdown",
   "metadata": {},
   "source": [
    "# Are dicts mutable?\n",
    "\n",
    "Short answer: Yes!\n",
    "\n",
    "Longer answer: Yes, indeed!\n",
    "\n",
    "What does it mean for a data structure to be mutable:\n",
    "\n",
    "- We can modify its elements\n",
    "- We can add new elements to it\n",
    "- We can remove existing elements from it\n",
    "\n",
    "In the case of a dict, each \"element\" is really a key-value pair."
   ]
  },
  {
   "cell_type": "code",
   "execution_count": 32,
   "metadata": {},
   "outputs": [
    {
     "data": {
      "text/plain": [
       "{'a': 10, 'b': 999, 'c': 30}"
      ]
     },
     "execution_count": 32,
     "metadata": {},
     "output_type": "execute_result"
    }
   ],
   "source": [
    "# can we change the value associated with a key? Yes, with assignment!\n",
    "\n",
    "d = {'a':10, 'b':20, 'c':30}\n",
    "\n",
    "d['b'] = 999   # here, I'm modify the existing dictionary \n",
    "d"
   ]
  },
  {
   "cell_type": "code",
   "execution_count": 33,
   "metadata": {},
   "outputs": [
    {
     "data": {
      "text/plain": [
       "{'a': 10, 'b': 999, 'c': 30, 'z': 888}"
      ]
     },
     "execution_count": 33,
     "metadata": {},
     "output_type": "execute_result"
    }
   ],
   "source": [
    "# can we add new key-value pairs? Yes!\n",
    "# with a list, we need to append to the list, and that adds one more item\n",
    "# with a dict, we .. just assign!\n",
    "\n",
    "d['z'] = 888\n",
    "d"
   ]
  },
  {
   "cell_type": "markdown",
   "metadata": {},
   "source": [
    "There's no difference between adding a new key-value pair and updating the value for an existing key:\n",
    "\n",
    "- If the key exists, we update the value\n",
    "- If the key doesn't exist, we add the new key-value pair\n",
    "\n"
   ]
  },
  {
   "cell_type": "code",
   "execution_count": 34,
   "metadata": {},
   "outputs": [
    {
     "data": {
      "text/plain": [
       "{'a': 10, 'b': 999, 'c': 30, 'z': 888}"
      ]
     },
     "execution_count": 34,
     "metadata": {},
     "output_type": "execute_result"
    }
   ],
   "source": [
    "d\n"
   ]
  },
  {
   "cell_type": "code",
   "execution_count": 35,
   "metadata": {},
   "outputs": [],
   "source": [
    "d['a'] += 1    # this is the same as \"d['a'] = d['a'] + 1\" , we'll update the value d['a'] "
   ]
  },
  {
   "cell_type": "code",
   "execution_count": 36,
   "metadata": {},
   "outputs": [
    {
     "data": {
      "text/plain": [
       "{'a': 11, 'b': 999, 'c': 30, 'z': 888}"
      ]
     },
     "execution_count": 36,
     "metadata": {},
     "output_type": "execute_result"
    }
   ],
   "source": [
    "d"
   ]
  },
  {
   "cell_type": "code",
   "execution_count": 37,
   "metadata": {},
   "outputs": [
    {
     "ename": "KeyError",
     "evalue": "'q'",
     "output_type": "error",
     "traceback": [
      "\u001b[31m---------------------------------------------------------------------------\u001b[39m",
      "\u001b[31mKeyError\u001b[39m                                  Traceback (most recent call last)",
      "\u001b[36mCell\u001b[39m\u001b[36m \u001b[39m\u001b[32mIn[37]\u001b[39m\u001b[32m, line 3\u001b[39m\n\u001b[32m      1\u001b[39m \u001b[38;5;66;03m# what if I try to use += on a key that doesn't exist?\u001b[39;00m\n\u001b[32m----> \u001b[39m\u001b[32m3\u001b[39m \u001b[43md\u001b[49m\u001b[43m[\u001b[49m\u001b[33;43m'\u001b[39;49m\u001b[33;43mq\u001b[39;49m\u001b[33;43m'\u001b[39;49m\u001b[43m]\u001b[49m += \u001b[32m1\u001b[39m\n",
      "\u001b[31mKeyError\u001b[39m: 'q'"
     ]
    }
   ],
   "source": [
    "# what if I try to use += on a key that doesn't exist?\n",
    "\n",
    "d['q'] += 1"
   ]
  },
  {
   "cell_type": "code",
   "execution_count": 38,
   "metadata": {},
   "outputs": [
    {
     "data": {
      "text/plain": [
       "{'a': 11, 'b': 999, 'c': 30, 'z': 888}"
      ]
     },
     "execution_count": 38,
     "metadata": {},
     "output_type": "execute_result"
    }
   ],
   "source": [
    "# how do we remove a key-value pair?\n",
    "# we use the \"pop\" method, specifying the key we want to remove\n",
    "# the value is returned, and the key-value pair is deleted\n",
    "\n",
    "d"
   ]
  },
  {
   "cell_type": "code",
   "execution_count": 39,
   "metadata": {},
   "outputs": [
    {
     "data": {
      "text/plain": [
       "888"
      ]
     },
     "execution_count": 39,
     "metadata": {},
     "output_type": "execute_result"
    }
   ],
   "source": [
    "d.pop('z')"
   ]
  },
  {
   "cell_type": "code",
   "execution_count": 40,
   "metadata": {},
   "outputs": [
    {
     "data": {
      "text/plain": [
       "{'a': 11, 'b': 999, 'c': 30}"
      ]
     },
     "execution_count": 40,
     "metadata": {},
     "output_type": "execute_result"
    }
   ],
   "source": [
    "d"
   ]
  },
  {
   "cell_type": "markdown",
   "metadata": {},
   "source": [
    "# PM asks: how do we delete a dict?\n",
    "\n",
    "In Python, you cannot directly delete a value. You can delete a variable referring to a value, and when no more variables are referring to that value, the value will be \"garbage collected,\" and the memory released.\n",
    "\n",
    "You can use the `del` function to delete a variable.\n",
    "\n",
    "Easier: Assign the variable to something else."
   ]
  },
  {
   "cell_type": "code",
   "execution_count": 41,
   "metadata": {},
   "outputs": [],
   "source": [
    "d = {'a':10, 'b':20, 'c':30}\n",
    "\n",
    "d = {}   # empty dict -- totally new, different dict -- the previous one is released from memory"
   ]
  },
  {
   "cell_type": "code",
   "execution_count": 43,
   "metadata": {},
   "outputs": [
    {
     "data": {
      "text/plain": [
       "10"
      ]
     },
     "execution_count": 43,
     "metadata": {},
     "output_type": "execute_result"
    }
   ],
   "source": [
    "d = {'a':10, 'b':20, 'c':30}\n",
    "\n",
    "# to delete a key-value pair, I invoke dict.pop, and I pass the key\n",
    "# the key-value pair will be removed, and the value will be returned\n",
    "\n",
    "d.pop('a')  # this removes the key-value pair with 'a'"
   ]
  },
  {
   "cell_type": "code",
   "execution_count": 44,
   "metadata": {},
   "outputs": [
    {
     "data": {
      "text/plain": [
       "20"
      ]
     },
     "execution_count": 44,
     "metadata": {},
     "output_type": "execute_result"
    }
   ],
   "source": [
    "d.pop('b')  # this removes the key-value pair with 'b'"
   ]
  },
  {
   "cell_type": "code",
   "execution_count": 45,
   "metadata": {},
   "outputs": [
    {
     "data": {
      "text/plain": [
       "30"
      ]
     },
     "execution_count": 45,
     "metadata": {},
     "output_type": "execute_result"
    }
   ],
   "source": [
    "d.pop('c') #this removes the key-value pair with 'c'"
   ]
  },
  {
   "cell_type": "code",
   "execution_count": 46,
   "metadata": {},
   "outputs": [
    {
     "data": {
      "text/plain": [
       "{}"
      ]
     },
     "execution_count": 46,
     "metadata": {},
     "output_type": "execute_result"
    }
   ],
   "source": [
    "d  # what remains? nothing, we have an empty dict"
   ]
  },
  {
   "cell_type": "code",
   "execution_count": 47,
   "metadata": {},
   "outputs": [
    {
     "ename": "KeyError",
     "evalue": "'a'",
     "output_type": "error",
     "traceback": [
      "\u001b[31m---------------------------------------------------------------------------\u001b[39m",
      "\u001b[31mKeyError\u001b[39m                                  Traceback (most recent call last)",
      "\u001b[36mCell\u001b[39m\u001b[36m \u001b[39m\u001b[32mIn[47]\u001b[39m\u001b[32m, line 1\u001b[39m\n\u001b[32m----> \u001b[39m\u001b[32m1\u001b[39m \u001b[43md\u001b[49m\u001b[43m.\u001b[49m\u001b[43mpop\u001b[49m\u001b[43m(\u001b[49m\u001b[33;43m'\u001b[39;49m\u001b[33;43ma\u001b[39;49m\u001b[33;43m'\u001b[39;49m\u001b[43m)\u001b[49m\n",
      "\u001b[31mKeyError\u001b[39m: 'a'"
     ]
    }
   ],
   "source": [
    "d.pop('a')  # trying to remove the key-value pair with 'a' results in a KeyError"
   ]
  },
  {
   "cell_type": "code",
   "execution_count": 48,
   "metadata": {},
   "outputs": [
    {
     "name": "stdout",
     "output_type": "stream",
     "text": [
      "a\n",
      "b\n",
      "c\n",
      "d\n"
     ]
    }
   ],
   "source": [
    "# how can I comment all four of the \"print\" invocations in this cell?\n",
    "# is there a \"multi-line comment\" in Python?\n",
    "\n",
    "# no, but... many people use a triple-quoted string above and below the stuff they want to comment\n",
    "\n",
    "\"\"\"\n",
    "print('a')\n",
    "print('b')\n",
    "print('c')\n",
    "print('d')\n",
    "\"\"\""
   ]
  },
  {
   "cell_type": "code",
   "execution_count": 49,
   "metadata": {},
   "outputs": [
    {
     "ename": "AttributeError",
     "evalue": "type object 'dict' has no attribute 'popleft'",
     "output_type": "error",
     "traceback": [
      "\u001b[31m---------------------------------------------------------------------------\u001b[39m",
      "\u001b[31mAttributeError\u001b[39m                            Traceback (most recent call last)",
      "\u001b[36mCell\u001b[39m\u001b[36m \u001b[39m\u001b[32mIn[49]\u001b[39m\u001b[32m, line 1\u001b[39m\n\u001b[32m----> \u001b[39m\u001b[32m1\u001b[39m \u001b[38;5;28;43mdict\u001b[39;49m\u001b[43m.\u001b[49m\u001b[43mpopleft\u001b[49m\n",
      "\u001b[31mAttributeError\u001b[39m: type object 'dict' has no attribute 'popleft'"
     ]
    }
   ],
   "source": [
    "dict.popleft"
   ]
  },
  {
   "cell_type": "code",
   "execution_count": null,
   "metadata": {},
   "outputs": [],
   "source": []
  },
  {
   "cell_type": "markdown",
   "metadata": {},
   "source": [
    "# Next up\n",
    "\n",
    "- Accumulating with dicts\n",
    "- Accumulating the unknown (!)\n",
    "- Iterating over dicts"
   ]
  },
  {
   "cell_type": "markdown",
   "metadata": {},
   "source": [
    "# Accumulating with dicts\n",
    "\n",
    "We've seen how we can keep track of values in variables. If I want to keep track how many odd vs. even numbers, I can do that with variables."
   ]
  },
  {
   "cell_type": "code",
   "execution_count": 50,
   "metadata": {},
   "outputs": [
    {
     "name": "stdout",
     "output_type": "stream",
     "text": [
      "odds = 2\n",
      "evens = 2\n"
     ]
    }
   ],
   "source": [
    "odds = 0\n",
    "evens = 0\n",
    "\n",
    "numbers = [10, 15, 20, 25]   # list of ints\n",
    "\n",
    "for one_number in numbers:\n",
    "    if one_number % 2 == 0:  # if there's a remainder of 0 after dividing by 2, it's even!\n",
    "        evens += 1\n",
    "    else:\n",
    "        odds += 1     \n",
    "\n",
    "print(f'odds = {odds}')        \n",
    "print(f'evens = {evens}')"
   ]
  },
  {
   "cell_type": "code",
   "execution_count": 51,
   "metadata": {},
   "outputs": [
    {
     "name": "stdout",
     "output_type": "stream",
     "text": [
      "{'odds': 2, 'evens': 2}\n"
     ]
    }
   ],
   "source": [
    "# in many cases, it's easier to keep track of things if we use a dict\n",
    "# we get the same results, but semantically, they're kept together\n",
    "# we can then print/pass/use them together, too.\n",
    "\n",
    "counts = {'odds':0, 'evens':0}\n",
    "\n",
    "numbers = [10, 15, 20, 25]   # list of ints\n",
    "\n",
    "for one_number in numbers:\n",
    "    if one_number % 2 == 0:  # if there's a remainder of 0 after dividing by 2, it's even!\n",
    "        counts['evens'] += 1\n",
    "    else:\n",
    "        counts['odds'] += 1     \n",
    "\n",
    "print(counts)"
   ]
  },
  {
   "cell_type": "markdown",
   "metadata": {},
   "source": [
    "# Exercise: Vowels, digits, and others (dict edition)\n",
    "\n",
    "1. Define a dict in which `vowels`, `digits`, and `others` are all keys. All three values should be 0.\n",
    "2. Ask the user to enter a string.\n",
    "3. Go through each character in the string:\n",
    "    - If it's a vowel, add 1 to `vowels`\n",
    "    - If it's a digit, add 1 to `digits`\n",
    "    - Otherwise, add 1 to `others`\n",
    "4. Print the entire dict (no reason to break it apart)"
   ]
  },
  {
   "cell_type": "code",
   "execution_count": 52,
   "metadata": {},
   "outputs": [
    {
     "name": "stdin",
     "output_type": "stream",
     "text": [
      "Enter text:  hello!! 123\n"
     ]
    },
    {
     "name": "stdout",
     "output_type": "stream",
     "text": [
      "{'vowels': 2, 'digits': 3, 'others': 6}\n"
     ]
    }
   ],
   "source": [
    "counts = {'vowels':0,\n",
    "          'digits':0,\n",
    "          'others':0}\n",
    "\n",
    "text = input('Enter text: ').strip()\n",
    "\n",
    "for one_character in text:\n",
    "    if one_character in 'aeiou':\n",
    "        counts['vowels'] += 1\n",
    "    elif one_character.isdigit():\n",
    "        counts['digits'] += 1\n",
    "    else:\n",
    "        counts['others'] += 1\n",
    "\n",
    "print(counts)    "
   ]
  },
  {
   "cell_type": "code",
   "execution_count": 53,
   "metadata": {},
   "outputs": [
    {
     "name": "stdin",
     "output_type": "stream",
     "text": [
      "Enter a string:  hello!! 123\n"
     ]
    },
    {
     "name": "stdout",
     "output_type": "stream",
     "text": [
      "{'vowels': 2, 'digits': 3, 'others': 6}\n"
     ]
    }
   ],
   "source": [
    "# SB\n",
    "\n",
    "d = {'vowels':0, 'digits':0, 'others':0}\n",
    "\n",
    "val = input('Enter a string: ').strip()\n",
    "\n",
    "for one_character in val:\n",
    "    if one_character in 'aeiou':\n",
    "        d['vowels'] += 1\n",
    "    elif one_character.isdigit():\n",
    "        d['digits'] += 1\n",
    "    else:\n",
    "        d['others'] += 1\n",
    "        \n",
    "print(d)"
   ]
  },
  {
   "cell_type": "markdown",
   "metadata": {},
   "source": [
    "# Exercise: Vowels, digits, and others (dict edition, part 2)\n",
    "\n",
    "Now, I want you to create a dict whose keys are still `vowels`, `digits`, and `others`. But the values in the dict should start off as empty *lists*. \n",
    "\n",
    "When you find a character of each type (vowel, digit, other), then `append` the character to the appropriate list.\n",
    "\n",
    "In the end, you won't have a count for each type of character, but rather a list of characters from the user's input text categorized."
   ]
  },
  {
   "cell_type": "code",
   "execution_count": 54,
   "metadata": {},
   "outputs": [
    {
     "name": "stdin",
     "output_type": "stream",
     "text": [
      "Enter text:  hello!! 123\n"
     ]
    },
    {
     "name": "stdout",
     "output_type": "stream",
     "text": [
      "{'vowels': ['e', 'o'], 'digits': ['1', '2', '3'], 'others': ['h', 'l', 'l', '!', '!', ' ']}\n"
     ]
    }
   ],
   "source": [
    "chars  = {'vowels':[],\n",
    "          'digits':[],\n",
    "          'others':[]}\n",
    "\n",
    "text = input('Enter text: ').strip()\n",
    "\n",
    "for one_character in text:\n",
    "    if one_character in 'aeiou':\n",
    "        chars['vowels'].append(one_character)\n",
    "    elif one_character.isdigit():\n",
    "        chars['digits'].append(one_character)\n",
    "    else:\n",
    "        chars['others'].append(one_character)\n",
    "\n",
    "print(chars)    "
   ]
  },
  {
   "cell_type": "code",
   "execution_count": 56,
   "metadata": {},
   "outputs": [
    {
     "name": "stdin",
     "output_type": "stream",
     "text": [
      "Enter a string:  hello!! 123\n"
     ]
    },
    {
     "name": "stdout",
     "output_type": "stream",
     "text": [
      "{'vowels': ['e', 'o'], 'digits': ['1', '2', '3'], 'others': ['h', 'l', 'l', '!', '!', ' ']}\n"
     ]
    }
   ],
   "source": [
    "# SB\n",
    "\n",
    "d = {'vowels':[], 'digits':[], 'others':[]}\n",
    "\n",
    "val = input('Enter a string: ').strip()\n",
    "\n",
    "for one_character in val:\n",
    "    if one_character in 'aeiou':\n",
    "        d['vowels'].append(one_character)\n",
    "    elif one_character.isdigit():\n",
    "        d['digits'].append(one_character)\n",
    "    else:\n",
    "        d['others'].append(one_character)\n",
    "print(d)"
   ]
  },
  {
   "cell_type": "markdown",
   "metadata": {},
   "source": [
    "# Accumulating the unknown\n",
    "\n",
    "So far, we've used dictionaries to track things that we know to look for: I'm looking for odd/even numbers, so I create a dict with \"odd\" and \"even\" keys. I'm looking for vowels/digits/others, so I create a dict with those keys.\n",
    "\n",
    "But if I don't know what I'm looking for? You might not know the values in advance, or there might be so many that's not worth creating the dict with all of those keys.\n",
    "\n",
    "For example, if I want to count the characters in a string. I could create a dict in which every single possible character that Python recognized is a key, and we start with 0 as the value for each.  That's a huge waste of memory and CPU.\n",
    "\n",
    "Instead, I can start with an empty dict. As I encounter a character, I can check:\n",
    "\n",
    "- If the character is already a key in the dict, add 1 to the count\n",
    "- If not, then add a key-value pair with this character as a key and 1 as the count"
   ]
  },
  {
   "cell_type": "code",
   "execution_count": 57,
   "metadata": {},
   "outputs": [
    {
     "name": "stdin",
     "output_type": "stream",
     "text": [
      "Enter text:  this is the most interesting program ever!\n"
     ]
    },
    {
     "name": "stdout",
     "output_type": "stream",
     "text": [
      "{'t': 5, 'h': 2, 'i': 4, 's': 4, ' ': 6, 'e': 5, 'm': 2, 'o': 2, 'n': 2, 'r': 4, 'g': 2, 'p': 1, 'a': 1, 'v': 1, '!': 1}\n"
     ]
    }
   ],
   "source": [
    "counts = {}\n",
    "\n",
    "text = input('Enter text: ').strip()\n",
    "\n",
    "for one_character in text:\n",
    "    if one_character in counts:    # is one_character already a key in counts?\n",
    "        counts[one_character] += 1 #   add 1 to the count\n",
    "    else:\n",
    "        counts[one_character] = 1  # otherwise, add a new key-value pair\n",
    "\n",
    "print(counts)        "
   ]
  },
  {
   "cell_type": "markdown",
   "metadata": {},
   "source": [
    "# Exercise: Rainfall\n",
    "\n",
    "1. Define an empty dict, `rainfall`. We will, over time, add keys (strings, names of cities) and values (ints, mm of rain) based on user input.\n",
    "2. Ask the user to enter a city name.\n",
    "3. If they give us an empty city name, stop asking; break out of the loop and print the `rainfall` dict.\n",
    "4. Ask the user to enter the mm rain that fell in that city.\n",
    "5. We can assume that we'll get digits.\n",
    "6. If the city already exists in the dict as a key, just add the new value to the existing one.\n",
    "7. If the city doesn't yet exist, then add a new key-value pair, with this city and the rainfall.\n",
    "8. After the loop, print the dict.\n",
    "\n",
    "Example:\n",
    "\n",
    "    City: a\n",
    "    Rain: 5\n",
    "    City: b\n",
    "    Rain: 4\n",
    "    City: a\n",
    "    Rain: 3\n",
    "    City: [ENTER]"
   ]
  }
 ],
 "metadata": {
  "kernelspec": {
   "display_name": "Python 3 (ipykernel)",
   "language": "python",
   "name": "python3"
  },
  "language_info": {
   "codemirror_mode": {
    "name": "ipython",
    "version": 3
   },
   "file_extension": ".py",
   "mimetype": "text/x-python",
   "name": "python",
   "nbconvert_exporter": "python",
   "pygments_lexer": "ipython3",
   "version": "3.14.0"
  }
 },
 "nbformat": 4,
 "nbformat_minor": 4
}
