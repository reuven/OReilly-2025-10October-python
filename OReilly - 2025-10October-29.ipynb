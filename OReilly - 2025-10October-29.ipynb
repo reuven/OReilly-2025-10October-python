{
 "cells": [
  {
   "cell_type": "markdown",
   "metadata": {},
   "source": [
    "# Agenda, week 3\n",
    "\n",
    "1. Q&A\n",
    "2. Dictionaries\n",
    "    - What are they?\n",
    "    - How to create them\n",
    "    - How to work with them\n",
    "    - How to retrieve from them\n",
    "    - How iterate over them\n",
    "    - How dicts are implemented behind the scenes\n",
    "    - Three paradigms for dict use\n",
    "3. Files\n",
    "    - Reading from (text) files\n",
    "    - Iterating over text files\n",
    "    - Writing to files (a little bit)\n",
    "    - The `with` statement -- what it does, and why we want it"
   ]
  },
  {
   "cell_type": "code",
   "execution_count": 1,
   "metadata": {},
   "outputs": [
    {
     "name": "stdout",
     "output_type": "stream",
     "text": [
      "0: a\n",
      "1: b\n",
      "2: c\n",
      "3: d\n"
     ]
    }
   ],
   "source": [
    "# what does enumerate do?\n",
    "# the short answer: it gives us a numeric index for each element of something we iterate over\n",
    "\n",
    "# slightly longer answer: In other languages, we often use an index to retrieve a value.\n",
    "# that means we automatically have the index. But in Python, we don't -- we have just the values.\n",
    "# enumerate gives us \"back\" the index, along with the value, in each iteration\n",
    "\n",
    "s = 'abcd'\n",
    "\n",
    "for index, one_character in enumerate(s):\n",
    "    print(f'{index}: {one_character}')"
   ]
  },
  {
   "cell_type": "markdown",
   "metadata": {},
   "source": [
    "# What's happening in the above code:\n",
    "\n",
    "1. `for` turns to the value at the end of the line, which is `enumerate(s)`.\n",
    "2. `enumerate` is a builtin function that is designed for use inside of a `for` loop, and can only take an argument that is itself iterable. (So yes to strings, lists, and tuples. No to integers.)\n",
    "3. `for` asks `enumerate(s)`: Are you iterable? The answer is \"yes.\"\n",
    "4. Repeatedly, `for` asks `enumerate(s)` to give us the next value.\n",
    "5. In this case, the value of each iteration is a 2-element tuple. The first element is the index, starting with 0. The second item is the value from `s` (what `enumerate` is wrapping) that is associated with that index. In other words, we'll get `(0, 'a')`, `(1, 'b')`, `(2, 'c')`, and `(3, 'd')`.\n",
    "6. Because we're running the `for` loop with two loop variables, Python uses \"tuple unpacking\" to take the two elements of our tuple and assign them in parallel to the two variables. So if the current loop value is `(0, 'a')`, then `index` will be assigned `0`, and `one_character` will be assigned `'a'`.\n",
    "7. The loop body runs\n",
    "8. We go back to step 4, stopping when we run out of values."
   ]
  },
  {
   "cell_type": "markdown",
   "metadata": {},
   "source": [
    "# Where do we now stand?\n",
    "\n",
    "- Python uses lots of values, and each value has a different type\n",
    "- We can assign these values to variables, and then reuse the the values\n",
    "- Data structures we've seen so far:\n",
    "    - integers and floats (numbers)\n",
    "    - strings (for text)\n",
    "    - lists and tuples (for sequences of values)\n",
    "\n",
    "Many times, we don't want one piece of data at a time, though. We want combinations of data.\n",
    "\n",
    "You could have a list of tuples, or a list of lists, etc.  In fact, we often do such a thing in Python.\n",
    "\n",
    "But dictionaries are really the most important data structure in Python because they combine flexibility with speedy retrieval. We can build very complex combinations of data structures using dicts, and still know that things will run quickly and flexibly."
   ]
  },
  {
   "cell_type": "markdown",
   "metadata": {},
   "source": [
    "# What is a dictionary?\n",
    "\n",
    "What we call a dictionary (or `dict`) in Python is not new to Python, and not unique to the language. If you've used another language before, you might have heard of similar data structures:\n",
    "\n",
    "- hash table\n",
    "- hash\n",
    "- hash map\n",
    "- map\n",
    "- associative array\n",
    "- key-value store\n",
    "- name-value store\n",
    "\n",
    "All of these are basically (or exactly) the same idea: Each item in the dict contains two parts a \"key\" and a \"value.\" Because so many things in life can be classified in this way as two-part data structures, dicts are very popular and useful.\n",
    "\n",
    "You can think of a dict as a list in which we control the index. And the index can be just about any value. In a list, we are stuck with the indexes 0, 1, 2, 3, etc., and we know that the final value will be at `len(mylist) - 1`. In a dict, we can use any values we want for keys, and they can be in any order. Yes, this means we can use *strings* as keys. \n",
    "\n",
    "In many ways, this means that dicts are often self-documenting, where the keys aren't random numbers, or unconnected to the data. Rather, the keys are inherently part of the data and reflect its values."
   ]
  },
  {
   "cell_type": "markdown",
   "metadata": {},
   "source": [
    "# Some rules for a dict\n",
    "\n",
    "The term \"key\" in a dict is basically the same as the \"index\" in a string, list, or tuple, except that we can choose it. It isn't chosen for us, and there isn't any way to get Python to choose it for us.\n",
    "\n",
    "## Keys\n",
    "- Anything at all, so long as *it is immutable*! This means that we'll usually use integers and strings for dict keys\n",
    "- In a given dict, the keys must be unique. In other words, no key can repeat.\n",
    "- Every key has a value, and every value has a key. There is no way for a key to not have a value, although it could have a value of `None` or 0 or the empty string.\n",
    "\n",
    "## Values\n",
    "- Values can be absolutely anything in Python, without any restrictions\n",
    "- This means that values can indeed repeat, even though keys cannot."
   ]
  },
  {
   "cell_type": "markdown",
   "metadata": {},
   "source": [
    "# Dict syntax\n",
    "\n",
    "- We use `{}` to create dictionaries. (These are completely unrelated to the `{}` we use inside of f-strings.)\n",
    "- Inside of a dict definition, each key is separated from its value with `:`\n",
    "- The key-value pairs in a dict are separated by `,`\n",
    "- A dict may contain any number of key-value pairs, from zero (the empty dict, `{}`) to whatever will overfill your computer's memory\n",
    "- It's usual for keys to all be of one type, but that's not a rule\n"
   ]
  },
  {
   "cell_type": "code",
   "execution_count": null,
   "metadata": {},
   "outputs": [],
   "source": []
  }
 ],
 "metadata": {
  "kernelspec": {
   "display_name": "Python 3 (ipykernel)",
   "language": "python",
   "name": "python3"
  },
  "language_info": {
   "codemirror_mode": {
    "name": "ipython",
    "version": 3
   },
   "file_extension": ".py",
   "mimetype": "text/x-python",
   "name": "python",
   "nbconvert_exporter": "python",
   "pygments_lexer": "ipython3",
   "version": "3.14.0"
  }
 },
 "nbformat": 4,
 "nbformat_minor": 4
}
